{
 "cells": [
  {
   "cell_type": "markdown",
   "metadata": {},
   "source": [
    "# Libraries Used"
   ]
  },
  {
   "cell_type": "code",
   "execution_count": 1,
   "metadata": {},
   "outputs": [],
   "source": [
    "import pandas as pd\n",
    "import numpy as np\n",
    "import matplotlib.pyplot as plt\n",
    "import seaborn as sns\n",
    "from sklearn.model_selection import KFold\n",
    "from sklearn.model_selection import cross_val_score\n",
    "from sklearn.metrics import fbeta_score, make_scorer"
   ]
  },
  {
   "cell_type": "code",
   "execution_count": 2,
   "metadata": {},
   "outputs": [],
   "source": [
    "dataset =  pd.read_csv(\"Diabetes.csv\")"
   ]
  },
  {
   "cell_type": "markdown",
   "metadata": {},
   "source": [
    "# Check For The Null Values"
   ]
  },
  {
   "cell_type": "code",
   "execution_count": 3,
   "metadata": {},
   "outputs": [
    {
     "data": {
      "text/plain": [
       "id            0\n",
       "chol          1\n",
       "stab.glu      0\n",
       "hdl           1\n",
       "ratio         1\n",
       "glyhb        13\n",
       "location      0\n",
       "age           0\n",
       "gender        0\n",
       "height        5\n",
       "weight        1\n",
       "frame        12\n",
       "bp.1s         5\n",
       "bp.1d         5\n",
       "bp.2s       262\n",
       "bp.2d       262\n",
       "waist         2\n",
       "hip           2\n",
       "time.ppn      3\n",
       "dtype: int64"
      ]
     },
     "execution_count": 3,
     "metadata": {},
     "output_type": "execute_result"
    }
   ],
   "source": [
    "dataset.isnull().sum()"
   ]
  },
  {
   "cell_type": "code",
   "execution_count": 4,
   "metadata": {},
   "outputs": [
    {
     "data": {
      "text/html": [
       "<div>\n",
       "<style scoped>\n",
       "    .dataframe tbody tr th:only-of-type {\n",
       "        vertical-align: middle;\n",
       "    }\n",
       "\n",
       "    .dataframe tbody tr th {\n",
       "        vertical-align: top;\n",
       "    }\n",
       "\n",
       "    .dataframe thead th {\n",
       "        text-align: right;\n",
       "    }\n",
       "</style>\n",
       "<table border=\"1\" class=\"dataframe\">\n",
       "  <thead>\n",
       "    <tr style=\"text-align: right;\">\n",
       "      <th></th>\n",
       "      <th>id</th>\n",
       "      <th>chol</th>\n",
       "      <th>stab.glu</th>\n",
       "      <th>hdl</th>\n",
       "      <th>ratio</th>\n",
       "      <th>glyhb</th>\n",
       "      <th>location</th>\n",
       "      <th>age</th>\n",
       "      <th>gender</th>\n",
       "      <th>height</th>\n",
       "      <th>weight</th>\n",
       "      <th>frame</th>\n",
       "      <th>bp.1s</th>\n",
       "      <th>bp.1d</th>\n",
       "      <th>bp.2s</th>\n",
       "      <th>bp.2d</th>\n",
       "      <th>waist</th>\n",
       "      <th>hip</th>\n",
       "      <th>time.ppn</th>\n",
       "    </tr>\n",
       "  </thead>\n",
       "  <tbody>\n",
       "    <tr>\n",
       "      <th>0</th>\n",
       "      <td>1000</td>\n",
       "      <td>203.0</td>\n",
       "      <td>82</td>\n",
       "      <td>56.0</td>\n",
       "      <td>3.6</td>\n",
       "      <td>4.310000</td>\n",
       "      <td>Buckingham</td>\n",
       "      <td>46</td>\n",
       "      <td>female</td>\n",
       "      <td>62.0</td>\n",
       "      <td>121.0</td>\n",
       "      <td>medium</td>\n",
       "      <td>118.0</td>\n",
       "      <td>59.0</td>\n",
       "      <td>NaN</td>\n",
       "      <td>NaN</td>\n",
       "      <td>29.0</td>\n",
       "      <td>38.0</td>\n",
       "      <td>720.0</td>\n",
       "    </tr>\n",
       "    <tr>\n",
       "      <th>1</th>\n",
       "      <td>1001</td>\n",
       "      <td>165.0</td>\n",
       "      <td>97</td>\n",
       "      <td>24.0</td>\n",
       "      <td>6.9</td>\n",
       "      <td>4.440000</td>\n",
       "      <td>Buckingham</td>\n",
       "      <td>29</td>\n",
       "      <td>female</td>\n",
       "      <td>64.0</td>\n",
       "      <td>218.0</td>\n",
       "      <td>large</td>\n",
       "      <td>112.0</td>\n",
       "      <td>68.0</td>\n",
       "      <td>NaN</td>\n",
       "      <td>NaN</td>\n",
       "      <td>46.0</td>\n",
       "      <td>48.0</td>\n",
       "      <td>360.0</td>\n",
       "    </tr>\n",
       "    <tr>\n",
       "      <th>2</th>\n",
       "      <td>1002</td>\n",
       "      <td>228.0</td>\n",
       "      <td>92</td>\n",
       "      <td>37.0</td>\n",
       "      <td>6.2</td>\n",
       "      <td>4.640000</td>\n",
       "      <td>Buckingham</td>\n",
       "      <td>58</td>\n",
       "      <td>female</td>\n",
       "      <td>61.0</td>\n",
       "      <td>256.0</td>\n",
       "      <td>large</td>\n",
       "      <td>190.0</td>\n",
       "      <td>92.0</td>\n",
       "      <td>185.0</td>\n",
       "      <td>92.0</td>\n",
       "      <td>49.0</td>\n",
       "      <td>57.0</td>\n",
       "      <td>180.0</td>\n",
       "    </tr>\n",
       "    <tr>\n",
       "      <th>3</th>\n",
       "      <td>1003</td>\n",
       "      <td>78.0</td>\n",
       "      <td>93</td>\n",
       "      <td>12.0</td>\n",
       "      <td>6.5</td>\n",
       "      <td>4.630000</td>\n",
       "      <td>Buckingham</td>\n",
       "      <td>67</td>\n",
       "      <td>male</td>\n",
       "      <td>67.0</td>\n",
       "      <td>119.0</td>\n",
       "      <td>large</td>\n",
       "      <td>110.0</td>\n",
       "      <td>50.0</td>\n",
       "      <td>NaN</td>\n",
       "      <td>NaN</td>\n",
       "      <td>33.0</td>\n",
       "      <td>38.0</td>\n",
       "      <td>480.0</td>\n",
       "    </tr>\n",
       "    <tr>\n",
       "      <th>4</th>\n",
       "      <td>1005</td>\n",
       "      <td>249.0</td>\n",
       "      <td>90</td>\n",
       "      <td>28.0</td>\n",
       "      <td>8.9</td>\n",
       "      <td>7.720000</td>\n",
       "      <td>Buckingham</td>\n",
       "      <td>64</td>\n",
       "      <td>male</td>\n",
       "      <td>68.0</td>\n",
       "      <td>183.0</td>\n",
       "      <td>medium</td>\n",
       "      <td>138.0</td>\n",
       "      <td>80.0</td>\n",
       "      <td>NaN</td>\n",
       "      <td>NaN</td>\n",
       "      <td>44.0</td>\n",
       "      <td>41.0</td>\n",
       "      <td>300.0</td>\n",
       "    </tr>\n",
       "    <tr>\n",
       "      <th>...</th>\n",
       "      <td>...</td>\n",
       "      <td>...</td>\n",
       "      <td>...</td>\n",
       "      <td>...</td>\n",
       "      <td>...</td>\n",
       "      <td>...</td>\n",
       "      <td>...</td>\n",
       "      <td>...</td>\n",
       "      <td>...</td>\n",
       "      <td>...</td>\n",
       "      <td>...</td>\n",
       "      <td>...</td>\n",
       "      <td>...</td>\n",
       "      <td>...</td>\n",
       "      <td>...</td>\n",
       "      <td>...</td>\n",
       "      <td>...</td>\n",
       "      <td>...</td>\n",
       "      <td>...</td>\n",
       "    </tr>\n",
       "    <tr>\n",
       "      <th>398</th>\n",
       "      <td>41506</td>\n",
       "      <td>296.0</td>\n",
       "      <td>369</td>\n",
       "      <td>46.0</td>\n",
       "      <td>6.4</td>\n",
       "      <td>16.110001</td>\n",
       "      <td>Louisa</td>\n",
       "      <td>53</td>\n",
       "      <td>male</td>\n",
       "      <td>69.0</td>\n",
       "      <td>173.0</td>\n",
       "      <td>medium</td>\n",
       "      <td>138.0</td>\n",
       "      <td>94.0</td>\n",
       "      <td>130.0</td>\n",
       "      <td>94.0</td>\n",
       "      <td>35.0</td>\n",
       "      <td>39.0</td>\n",
       "      <td>210.0</td>\n",
       "    </tr>\n",
       "    <tr>\n",
       "      <th>399</th>\n",
       "      <td>41507</td>\n",
       "      <td>284.0</td>\n",
       "      <td>89</td>\n",
       "      <td>54.0</td>\n",
       "      <td>5.3</td>\n",
       "      <td>4.390000</td>\n",
       "      <td>Louisa</td>\n",
       "      <td>51</td>\n",
       "      <td>female</td>\n",
       "      <td>63.0</td>\n",
       "      <td>154.0</td>\n",
       "      <td>medium</td>\n",
       "      <td>140.0</td>\n",
       "      <td>100.0</td>\n",
       "      <td>146.0</td>\n",
       "      <td>102.0</td>\n",
       "      <td>32.0</td>\n",
       "      <td>43.0</td>\n",
       "      <td>180.0</td>\n",
       "    </tr>\n",
       "    <tr>\n",
       "      <th>400</th>\n",
       "      <td>41510</td>\n",
       "      <td>194.0</td>\n",
       "      <td>269</td>\n",
       "      <td>38.0</td>\n",
       "      <td>5.1</td>\n",
       "      <td>13.630000</td>\n",
       "      <td>Louisa</td>\n",
       "      <td>29</td>\n",
       "      <td>female</td>\n",
       "      <td>69.0</td>\n",
       "      <td>167.0</td>\n",
       "      <td>small</td>\n",
       "      <td>120.0</td>\n",
       "      <td>70.0</td>\n",
       "      <td>NaN</td>\n",
       "      <td>NaN</td>\n",
       "      <td>33.0</td>\n",
       "      <td>40.0</td>\n",
       "      <td>20.0</td>\n",
       "    </tr>\n",
       "    <tr>\n",
       "      <th>401</th>\n",
       "      <td>41752</td>\n",
       "      <td>199.0</td>\n",
       "      <td>76</td>\n",
       "      <td>52.0</td>\n",
       "      <td>3.8</td>\n",
       "      <td>4.490000</td>\n",
       "      <td>Louisa</td>\n",
       "      <td>41</td>\n",
       "      <td>female</td>\n",
       "      <td>63.0</td>\n",
       "      <td>197.0</td>\n",
       "      <td>medium</td>\n",
       "      <td>120.0</td>\n",
       "      <td>78.0</td>\n",
       "      <td>NaN</td>\n",
       "      <td>NaN</td>\n",
       "      <td>41.0</td>\n",
       "      <td>48.0</td>\n",
       "      <td>255.0</td>\n",
       "    </tr>\n",
       "    <tr>\n",
       "      <th>402</th>\n",
       "      <td>41756</td>\n",
       "      <td>159.0</td>\n",
       "      <td>88</td>\n",
       "      <td>79.0</td>\n",
       "      <td>2.0</td>\n",
       "      <td>NaN</td>\n",
       "      <td>Louisa</td>\n",
       "      <td>68</td>\n",
       "      <td>female</td>\n",
       "      <td>64.0</td>\n",
       "      <td>220.0</td>\n",
       "      <td>medium</td>\n",
       "      <td>100.0</td>\n",
       "      <td>72.0</td>\n",
       "      <td>NaN</td>\n",
       "      <td>NaN</td>\n",
       "      <td>49.0</td>\n",
       "      <td>58.0</td>\n",
       "      <td>900.0</td>\n",
       "    </tr>\n",
       "  </tbody>\n",
       "</table>\n",
       "<p>403 rows × 19 columns</p>\n",
       "</div>"
      ],
      "text/plain": [
       "        id   chol  stab.glu   hdl  ratio      glyhb    location  age  gender  \\\n",
       "0     1000  203.0        82  56.0    3.6   4.310000  Buckingham   46  female   \n",
       "1     1001  165.0        97  24.0    6.9   4.440000  Buckingham   29  female   \n",
       "2     1002  228.0        92  37.0    6.2   4.640000  Buckingham   58  female   \n",
       "3     1003   78.0        93  12.0    6.5   4.630000  Buckingham   67    male   \n",
       "4     1005  249.0        90  28.0    8.9   7.720000  Buckingham   64    male   \n",
       "..     ...    ...       ...   ...    ...        ...         ...  ...     ...   \n",
       "398  41506  296.0       369  46.0    6.4  16.110001      Louisa   53    male   \n",
       "399  41507  284.0        89  54.0    5.3   4.390000      Louisa   51  female   \n",
       "400  41510  194.0       269  38.0    5.1  13.630000      Louisa   29  female   \n",
       "401  41752  199.0        76  52.0    3.8   4.490000      Louisa   41  female   \n",
       "402  41756  159.0        88  79.0    2.0        NaN      Louisa   68  female   \n",
       "\n",
       "     height  weight   frame  bp.1s  bp.1d  bp.2s  bp.2d  waist   hip  time.ppn  \n",
       "0      62.0   121.0  medium  118.0   59.0    NaN    NaN   29.0  38.0     720.0  \n",
       "1      64.0   218.0   large  112.0   68.0    NaN    NaN   46.0  48.0     360.0  \n",
       "2      61.0   256.0   large  190.0   92.0  185.0   92.0   49.0  57.0     180.0  \n",
       "3      67.0   119.0   large  110.0   50.0    NaN    NaN   33.0  38.0     480.0  \n",
       "4      68.0   183.0  medium  138.0   80.0    NaN    NaN   44.0  41.0     300.0  \n",
       "..      ...     ...     ...    ...    ...    ...    ...    ...   ...       ...  \n",
       "398    69.0   173.0  medium  138.0   94.0  130.0   94.0   35.0  39.0     210.0  \n",
       "399    63.0   154.0  medium  140.0  100.0  146.0  102.0   32.0  43.0     180.0  \n",
       "400    69.0   167.0   small  120.0   70.0    NaN    NaN   33.0  40.0      20.0  \n",
       "401    63.0   197.0  medium  120.0   78.0    NaN    NaN   41.0  48.0     255.0  \n",
       "402    64.0   220.0  medium  100.0   72.0    NaN    NaN   49.0  58.0     900.0  \n",
       "\n",
       "[403 rows x 19 columns]"
      ]
     },
     "execution_count": 4,
     "metadata": {},
     "output_type": "execute_result"
    }
   ],
   "source": [
    "dataset"
   ]
  },
  {
   "cell_type": "markdown",
   "metadata": {},
   "source": [
    "# Dropping of id as there are all unique values"
   ]
  },
  {
   "cell_type": "code",
   "execution_count": 5,
   "metadata": {},
   "outputs": [],
   "source": [
    "dataset.drop(columns = \"id\",inplace=True)"
   ]
  },
  {
   "cell_type": "markdown",
   "metadata": {},
   "source": [
    "# Checking Dustribution"
   ]
  },
  {
   "cell_type": "code",
   "execution_count": 6,
   "metadata": {},
   "outputs": [
    {
     "data": {
      "image/png": "[encoded data removed]",
      "text/plain": [
       "<Figure size 576x576 with 1 Axes>"
      ]
     },
     "metadata": {
      "needs_background": "light"
     },
     "output_type": "display_data"
    }
   ],
   "source": [
    "plt.figure(figsize=(8,8))\n",
    "plt.plot(dataset[\"time.ppn\"])\n",
    "plt.show()"
   ]
  },
  {
   "cell_type": "markdown",
   "metadata": {},
   "source": [
    "# Filling NAN Values as median of that columns"
   ]
  },
  {
   "cell_type": "code",
   "execution_count": 7,
   "metadata": {},
   "outputs": [],
   "source": [
    "dataset[\"weight\"].fillna(dataset[\"weight\"].median(),inplace=True)"
   ]
  },
  {
   "cell_type": "code",
   "execution_count": 8,
   "metadata": {},
   "outputs": [],
   "source": [
    "dataset[\"height\"].fillna(dataset[\"height\"].median(),inplace=True)"
   ]
  },
  {
   "cell_type": "code",
   "execution_count": 9,
   "metadata": {},
   "outputs": [],
   "source": [
    "dataset[\"hdl\"].fillna(dataset[\"hdl\"].median(),inplace=True)"
   ]
  },
  {
   "cell_type": "code",
   "execution_count": 10,
   "metadata": {},
   "outputs": [],
   "source": [
    "dataset[\"ratio\"].fillna(dataset[\"ratio\"].median(),inplace=True)\n",
    "# "
   ]
  },
  {
   "cell_type": "code",
   "execution_count": 11,
   "metadata": {},
   "outputs": [],
   "source": [
    "dataset[\"bp.1s\"].fillna(dataset[\"bp.1s\"].median(),inplace=True)"
   ]
  },
  {
   "cell_type": "code",
   "execution_count": 12,
   "metadata": {},
   "outputs": [],
   "source": [
    "dataset[\"bp.1d\"].fillna(dataset[\"bp.1d\"].median(),inplace=True)"
   ]
  },
  {
   "cell_type": "code",
   "execution_count": 13,
   "metadata": {},
   "outputs": [],
   "source": [
    "dataset[\"chol\"].fillna(dataset[\"chol\"].median(),inplace=True)"
   ]
  },
  {
   "cell_type": "code",
   "execution_count": 14,
   "metadata": {},
   "outputs": [],
   "source": [
    "dataset[\"bp.2s\"].fillna(dataset[\"bp.2s\"].median(),inplace=True)"
   ]
  },
  {
   "cell_type": "code",
   "execution_count": 15,
   "metadata": {},
   "outputs": [],
   "source": [
    "dataset[\"bp.2d\"].fillna(dataset[\"bp.2d\"].median(),inplace=True)"
   ]
  },
  {
   "cell_type": "code",
   "execution_count": 16,
   "metadata": {},
   "outputs": [],
   "source": [
    "dataset[\"waist\"].fillna(dataset[\"waist\"].median(),inplace=True)"
   ]
  },
  {
   "cell_type": "code",
   "execution_count": 17,
   "metadata": {},
   "outputs": [],
   "source": [
    "dataset[\"hip\"].fillna(dataset[\"hip\"].median(),inplace=True)"
   ]
  },
  {
   "cell_type": "code",
   "execution_count": 18,
   "metadata": {},
   "outputs": [],
   "source": [
    "dataset[\"time.ppn\"].fillna(dataset[\"time.ppn\"].median(),inplace=True)"
   ]
  },
  {
   "cell_type": "markdown",
   "metadata": {},
   "source": [
    "# bp.2s , bp.2d Too many NAN values so dropping values"
   ]
  },
  {
   "cell_type": "code",
   "execution_count": 19,
   "metadata": {},
   "outputs": [],
   "source": [
    "dataset.drop(columns=[\"bp.2s\",\"bp.2d\"],inplace=True)"
   ]
  },
  {
   "cell_type": "code",
   "execution_count": 20,
   "metadata": {},
   "outputs": [],
   "source": [
    "dataset[\"frame\"].fillna(\"medium\",inplace=True)"
   ]
  },
  {
   "cell_type": "code",
   "execution_count": 21,
   "metadata": {
    "scrolled": true
   },
   "outputs": [
    {
     "data": {
      "text/html": [
       "<div>\n",
       "<style scoped>\n",
       "    .dataframe tbody tr th:only-of-type {\n",
       "        vertical-align: middle;\n",
       "    }\n",
       "\n",
       "    .dataframe tbody tr th {\n",
       "        vertical-align: top;\n",
       "    }\n",
       "\n",
       "    .dataframe thead th {\n",
       "        text-align: right;\n",
       "    }\n",
       "</style>\n",
       "<table border=\"1\" class=\"dataframe\">\n",
       "  <thead>\n",
       "    <tr style=\"text-align: right;\">\n",
       "      <th></th>\n",
       "      <th>chol</th>\n",
       "      <th>stab.glu</th>\n",
       "      <th>hdl</th>\n",
       "      <th>ratio</th>\n",
       "      <th>glyhb</th>\n",
       "      <th>location</th>\n",
       "      <th>age</th>\n",
       "      <th>gender</th>\n",
       "      <th>height</th>\n",
       "      <th>weight</th>\n",
       "      <th>frame</th>\n",
       "      <th>bp.1s</th>\n",
       "      <th>bp.1d</th>\n",
       "      <th>waist</th>\n",
       "      <th>hip</th>\n",
       "      <th>time.ppn</th>\n",
       "    </tr>\n",
       "  </thead>\n",
       "  <tbody>\n",
       "    <tr>\n",
       "      <th>0</th>\n",
       "      <td>203.0</td>\n",
       "      <td>82</td>\n",
       "      <td>56.0</td>\n",
       "      <td>3.6</td>\n",
       "      <td>4.310000</td>\n",
       "      <td>Buckingham</td>\n",
       "      <td>46</td>\n",
       "      <td>female</td>\n",
       "      <td>62.0</td>\n",
       "      <td>121.0</td>\n",
       "      <td>medium</td>\n",
       "      <td>118.0</td>\n",
       "      <td>59.0</td>\n",
       "      <td>29.0</td>\n",
       "      <td>38.0</td>\n",
       "      <td>720.0</td>\n",
       "    </tr>\n",
       "    <tr>\n",
       "      <th>1</th>\n",
       "      <td>165.0</td>\n",
       "      <td>97</td>\n",
       "      <td>24.0</td>\n",
       "      <td>6.9</td>\n",
       "      <td>4.440000</td>\n",
       "      <td>Buckingham</td>\n",
       "      <td>29</td>\n",
       "      <td>female</td>\n",
       "      <td>64.0</td>\n",
       "      <td>218.0</td>\n",
       "      <td>large</td>\n",
       "      <td>112.0</td>\n",
       "      <td>68.0</td>\n",
       "      <td>46.0</td>\n",
       "      <td>48.0</td>\n",
       "      <td>360.0</td>\n",
       "    </tr>\n",
       "    <tr>\n",
       "      <th>2</th>\n",
       "      <td>228.0</td>\n",
       "      <td>92</td>\n",
       "      <td>37.0</td>\n",
       "      <td>6.2</td>\n",
       "      <td>4.640000</td>\n",
       "      <td>Buckingham</td>\n",
       "      <td>58</td>\n",
       "      <td>female</td>\n",
       "      <td>61.0</td>\n",
       "      <td>256.0</td>\n",
       "      <td>large</td>\n",
       "      <td>190.0</td>\n",
       "      <td>92.0</td>\n",
       "      <td>49.0</td>\n",
       "      <td>57.0</td>\n",
       "      <td>180.0</td>\n",
       "    </tr>\n",
       "    <tr>\n",
       "      <th>3</th>\n",
       "      <td>78.0</td>\n",
       "      <td>93</td>\n",
       "      <td>12.0</td>\n",
       "      <td>6.5</td>\n",
       "      <td>4.630000</td>\n",
       "      <td>Buckingham</td>\n",
       "      <td>67</td>\n",
       "      <td>male</td>\n",
       "      <td>67.0</td>\n",
       "      <td>119.0</td>\n",
       "      <td>large</td>\n",
       "      <td>110.0</td>\n",
       "      <td>50.0</td>\n",
       "      <td>33.0</td>\n",
       "      <td>38.0</td>\n",
       "      <td>480.0</td>\n",
       "    </tr>\n",
       "    <tr>\n",
       "      <th>4</th>\n",
       "      <td>249.0</td>\n",
       "      <td>90</td>\n",
       "      <td>28.0</td>\n",
       "      <td>8.9</td>\n",
       "      <td>7.720000</td>\n",
       "      <td>Buckingham</td>\n",
       "      <td>64</td>\n",
       "      <td>male</td>\n",
       "      <td>68.0</td>\n",
       "      <td>183.0</td>\n",
       "      <td>medium</td>\n",
       "      <td>138.0</td>\n",
       "      <td>80.0</td>\n",
       "      <td>44.0</td>\n",
       "      <td>41.0</td>\n",
       "      <td>300.0</td>\n",
       "    </tr>\n",
       "    <tr>\n",
       "      <th>...</th>\n",
       "      <td>...</td>\n",
       "      <td>...</td>\n",
       "      <td>...</td>\n",
       "      <td>...</td>\n",
       "      <td>...</td>\n",
       "      <td>...</td>\n",
       "      <td>...</td>\n",
       "      <td>...</td>\n",
       "      <td>...</td>\n",
       "      <td>...</td>\n",
       "      <td>...</td>\n",
       "      <td>...</td>\n",
       "      <td>...</td>\n",
       "      <td>...</td>\n",
       "      <td>...</td>\n",
       "      <td>...</td>\n",
       "    </tr>\n",
       "    <tr>\n",
       "      <th>398</th>\n",
       "      <td>296.0</td>\n",
       "      <td>369</td>\n",
       "      <td>46.0</td>\n",
       "      <td>6.4</td>\n",
       "      <td>16.110001</td>\n",
       "      <td>Louisa</td>\n",
       "      <td>53</td>\n",
       "      <td>male</td>\n",
       "      <td>69.0</td>\n",
       "      <td>173.0</td>\n",
       "      <td>medium</td>\n",
       "      <td>138.0</td>\n",
       "      <td>94.0</td>\n",
       "      <td>35.0</td>\n",
       "      <td>39.0</td>\n",
       "      <td>210.0</td>\n",
       "    </tr>\n",
       "    <tr>\n",
       "      <th>399</th>\n",
       "      <td>284.0</td>\n",
       "      <td>89</td>\n",
       "      <td>54.0</td>\n",
       "      <td>5.3</td>\n",
       "      <td>4.390000</td>\n",
       "      <td>Louisa</td>\n",
       "      <td>51</td>\n",
       "      <td>female</td>\n",
       "      <td>63.0</td>\n",
       "      <td>154.0</td>\n",
       "      <td>medium</td>\n",
       "      <td>140.0</td>\n",
       "      <td>100.0</td>\n",
       "      <td>32.0</td>\n",
       "      <td>43.0</td>\n",
       "      <td>180.0</td>\n",
       "    </tr>\n",
       "    <tr>\n",
       "      <th>400</th>\n",
       "      <td>194.0</td>\n",
       "      <td>269</td>\n",
       "      <td>38.0</td>\n",
       "      <td>5.1</td>\n",
       "      <td>13.630000</td>\n",
       "      <td>Louisa</td>\n",
       "      <td>29</td>\n",
       "      <td>female</td>\n",
       "      <td>69.0</td>\n",
       "      <td>167.0</td>\n",
       "      <td>small</td>\n",
       "      <td>120.0</td>\n",
       "      <td>70.0</td>\n",
       "      <td>33.0</td>\n",
       "      <td>40.0</td>\n",
       "      <td>20.0</td>\n",
       "    </tr>\n",
       "    <tr>\n",
       "      <th>401</th>\n",
       "      <td>199.0</td>\n",
       "      <td>76</td>\n",
       "      <td>52.0</td>\n",
       "      <td>3.8</td>\n",
       "      <td>4.490000</td>\n",
       "      <td>Louisa</td>\n",
       "      <td>41</td>\n",
       "      <td>female</td>\n",
       "      <td>63.0</td>\n",
       "      <td>197.0</td>\n",
       "      <td>medium</td>\n",
       "      <td>120.0</td>\n",
       "      <td>78.0</td>\n",
       "      <td>41.0</td>\n",
       "      <td>48.0</td>\n",
       "      <td>255.0</td>\n",
       "    </tr>\n",
       "    <tr>\n",
       "      <th>402</th>\n",
       "      <td>159.0</td>\n",
       "      <td>88</td>\n",
       "      <td>79.0</td>\n",
       "      <td>2.0</td>\n",
       "      <td>NaN</td>\n",
       "      <td>Louisa</td>\n",
       "      <td>68</td>\n",
       "      <td>female</td>\n",
       "      <td>64.0</td>\n",
       "      <td>220.0</td>\n",
       "      <td>medium</td>\n",
       "      <td>100.0</td>\n",
       "      <td>72.0</td>\n",
       "      <td>49.0</td>\n",
       "      <td>58.0</td>\n",
       "      <td>900.0</td>\n",
       "    </tr>\n",
       "  </tbody>\n",
       "</table>\n",
       "<p>403 rows × 16 columns</p>\n",
       "</div>"
      ],
      "text/plain": [
       "      chol  stab.glu   hdl  ratio      glyhb    location  age  gender  height  \\\n",
       "0    203.0        82  56.0    3.6   4.310000  Buckingham   46  female    62.0   \n",
       "1    165.0        97  24.0    6.9   4.440000  Buckingham   29  female    64.0   \n",
       "2    228.0        92  37.0    6.2   4.640000  Buckingham   58  female    61.0   \n",
       "3     78.0        93  12.0    6.5   4.630000  Buckingham   67    male    67.0   \n",
       "4    249.0        90  28.0    8.9   7.720000  Buckingham   64    male    68.0   \n",
       "..     ...       ...   ...    ...        ...         ...  ...     ...     ...   \n",
       "398  296.0       369  46.0    6.4  16.110001      Louisa   53    male    69.0   \n",
       "399  284.0        89  54.0    5.3   4.390000      Louisa   51  female    63.0   \n",
       "400  194.0       269  38.0    5.1  13.630000      Louisa   29  female    69.0   \n",
       "401  199.0        76  52.0    3.8   4.490000      Louisa   41  female    63.0   \n",
       "402  159.0        88  79.0    2.0        NaN      Louisa   68  female    64.0   \n",
       "\n",
       "     weight   frame  bp.1s  bp.1d  waist   hip  time.ppn  \n",
       "0     121.0  medium  118.0   59.0   29.0  38.0     720.0  \n",
       "1     218.0   large  112.0   68.0   46.0  48.0     360.0  \n",
       "2     256.0   large  190.0   92.0   49.0  57.0     180.0  \n",
       "3     119.0   large  110.0   50.0   33.0  38.0     480.0  \n",
       "4     183.0  medium  138.0   80.0   44.0  41.0     300.0  \n",
       "..      ...     ...    ...    ...    ...   ...       ...  \n",
       "398   173.0  medium  138.0   94.0   35.0  39.0     210.0  \n",
       "399   154.0  medium  140.0  100.0   32.0  43.0     180.0  \n",
       "400   167.0   small  120.0   70.0   33.0  40.0      20.0  \n",
       "401   197.0  medium  120.0   78.0   41.0  48.0     255.0  \n",
       "402   220.0  medium  100.0   72.0   49.0  58.0     900.0  \n",
       "\n",
       "[403 rows x 16 columns]"
      ]
     },
     "execution_count": 21,
     "metadata": {},
     "output_type": "execute_result"
    }
   ],
   "source": [
    "dataset"
   ]
  },
  {
   "cell_type": "code",
   "execution_count": 22,
   "metadata": {},
   "outputs": [
    {
     "data": {
      "text/plain": [
       "141"
      ]
     },
     "execution_count": 22,
     "metadata": {},
     "output_type": "execute_result"
    }
   ],
   "source": [
    "len(dataset[\"weight\"].unique())"
   ]
  },
  {
   "cell_type": "code",
   "execution_count": 23,
   "metadata": {},
   "outputs": [
    {
     "data": {
      "text/plain": [
       "array(['Buckingham', 'Louisa'], dtype=object)"
      ]
     },
     "execution_count": 23,
     "metadata": {},
     "output_type": "execute_result"
    }
   ],
   "source": [
    "dataset[\"location\"].unique()"
   ]
  },
  {
   "cell_type": "code",
   "execution_count": 24,
   "metadata": {},
   "outputs": [],
   "source": [
    "dataset[\"glyhb\"].fillna(dataset[\"glyhb\"].median(),inplace=True)"
   ]
  },
  {
   "cell_type": "code",
   "execution_count": 25,
   "metadata": {},
   "outputs": [
    {
     "data": {
      "text/plain": [
       "chol        0\n",
       "stab.glu    0\n",
       "hdl         0\n",
       "ratio       0\n",
       "glyhb       0\n",
       "location    0\n",
       "age         0\n",
       "gender      0\n",
       "height      0\n",
       "weight      0\n",
       "frame       0\n",
       "bp.1s       0\n",
       "bp.1d       0\n",
       "waist       0\n",
       "hip         0\n",
       "time.ppn    0\n",
       "dtype: int64"
      ]
     },
     "execution_count": 25,
     "metadata": {},
     "output_type": "execute_result"
    }
   ],
   "source": [
    "dataset.isnull().sum()"
   ]
  },
  {
   "cell_type": "code",
   "execution_count": 26,
   "metadata": {},
   "outputs": [
    {
     "data": {
      "text/html": [
       "<div>\n",
       "<style scoped>\n",
       "    .dataframe tbody tr th:only-of-type {\n",
       "        vertical-align: middle;\n",
       "    }\n",
       "\n",
       "    .dataframe tbody tr th {\n",
       "        vertical-align: top;\n",
       "    }\n",
       "\n",
       "    .dataframe thead th {\n",
       "        text-align: right;\n",
       "    }\n",
       "</style>\n",
       "<table border=\"1\" class=\"dataframe\">\n",
       "  <thead>\n",
       "    <tr style=\"text-align: right;\">\n",
       "      <th></th>\n",
       "      <th>chol</th>\n",
       "      <th>stab.glu</th>\n",
       "      <th>hdl</th>\n",
       "      <th>ratio</th>\n",
       "      <th>glyhb</th>\n",
       "      <th>location</th>\n",
       "      <th>age</th>\n",
       "      <th>gender</th>\n",
       "      <th>height</th>\n",
       "      <th>weight</th>\n",
       "      <th>frame</th>\n",
       "      <th>bp.1s</th>\n",
       "      <th>bp.1d</th>\n",
       "      <th>waist</th>\n",
       "      <th>hip</th>\n",
       "      <th>time.ppn</th>\n",
       "    </tr>\n",
       "  </thead>\n",
       "  <tbody>\n",
       "    <tr>\n",
       "      <th>0</th>\n",
       "      <td>203.0</td>\n",
       "      <td>82</td>\n",
       "      <td>56.0</td>\n",
       "      <td>3.6</td>\n",
       "      <td>4.310000</td>\n",
       "      <td>Buckingham</td>\n",
       "      <td>46</td>\n",
       "      <td>female</td>\n",
       "      <td>62.0</td>\n",
       "      <td>121.0</td>\n",
       "      <td>medium</td>\n",
       "      <td>118.0</td>\n",
       "      <td>59.0</td>\n",
       "      <td>29.0</td>\n",
       "      <td>38.0</td>\n",
       "      <td>720.0</td>\n",
       "    </tr>\n",
       "    <tr>\n",
       "      <th>1</th>\n",
       "      <td>165.0</td>\n",
       "      <td>97</td>\n",
       "      <td>24.0</td>\n",
       "      <td>6.9</td>\n",
       "      <td>4.440000</td>\n",
       "      <td>Buckingham</td>\n",
       "      <td>29</td>\n",
       "      <td>female</td>\n",
       "      <td>64.0</td>\n",
       "      <td>218.0</td>\n",
       "      <td>large</td>\n",
       "      <td>112.0</td>\n",
       "      <td>68.0</td>\n",
       "      <td>46.0</td>\n",
       "      <td>48.0</td>\n",
       "      <td>360.0</td>\n",
       "    </tr>\n",
       "    <tr>\n",
       "      <th>2</th>\n",
       "      <td>228.0</td>\n",
       "      <td>92</td>\n",
       "      <td>37.0</td>\n",
       "      <td>6.2</td>\n",
       "      <td>4.640000</td>\n",
       "      <td>Buckingham</td>\n",
       "      <td>58</td>\n",
       "      <td>female</td>\n",
       "      <td>61.0</td>\n",
       "      <td>256.0</td>\n",
       "      <td>large</td>\n",
       "      <td>190.0</td>\n",
       "      <td>92.0</td>\n",
       "      <td>49.0</td>\n",
       "      <td>57.0</td>\n",
       "      <td>180.0</td>\n",
       "    </tr>\n",
       "    <tr>\n",
       "      <th>3</th>\n",
       "      <td>78.0</td>\n",
       "      <td>93</td>\n",
       "      <td>12.0</td>\n",
       "      <td>6.5</td>\n",
       "      <td>4.630000</td>\n",
       "      <td>Buckingham</td>\n",
       "      <td>67</td>\n",
       "      <td>male</td>\n",
       "      <td>67.0</td>\n",
       "      <td>119.0</td>\n",
       "      <td>large</td>\n",
       "      <td>110.0</td>\n",
       "      <td>50.0</td>\n",
       "      <td>33.0</td>\n",
       "      <td>38.0</td>\n",
       "      <td>480.0</td>\n",
       "    </tr>\n",
       "    <tr>\n",
       "      <th>4</th>\n",
       "      <td>249.0</td>\n",
       "      <td>90</td>\n",
       "      <td>28.0</td>\n",
       "      <td>8.9</td>\n",
       "      <td>7.720000</td>\n",
       "      <td>Buckingham</td>\n",
       "      <td>64</td>\n",
       "      <td>male</td>\n",
       "      <td>68.0</td>\n",
       "      <td>183.0</td>\n",
       "      <td>medium</td>\n",
       "      <td>138.0</td>\n",
       "      <td>80.0</td>\n",
       "      <td>44.0</td>\n",
       "      <td>41.0</td>\n",
       "      <td>300.0</td>\n",
       "    </tr>\n",
       "    <tr>\n",
       "      <th>...</th>\n",
       "      <td>...</td>\n",
       "      <td>...</td>\n",
       "      <td>...</td>\n",
       "      <td>...</td>\n",
       "      <td>...</td>\n",
       "      <td>...</td>\n",
       "      <td>...</td>\n",
       "      <td>...</td>\n",
       "      <td>...</td>\n",
       "      <td>...</td>\n",
       "      <td>...</td>\n",
       "      <td>...</td>\n",
       "      <td>...</td>\n",
       "      <td>...</td>\n",
       "      <td>...</td>\n",
       "      <td>...</td>\n",
       "    </tr>\n",
       "    <tr>\n",
       "      <th>398</th>\n",
       "      <td>296.0</td>\n",
       "      <td>369</td>\n",
       "      <td>46.0</td>\n",
       "      <td>6.4</td>\n",
       "      <td>16.110001</td>\n",
       "      <td>Louisa</td>\n",
       "      <td>53</td>\n",
       "      <td>male</td>\n",
       "      <td>69.0</td>\n",
       "      <td>173.0</td>\n",
       "      <td>medium</td>\n",
       "      <td>138.0</td>\n",
       "      <td>94.0</td>\n",
       "      <td>35.0</td>\n",
       "      <td>39.0</td>\n",
       "      <td>210.0</td>\n",
       "    </tr>\n",
       "    <tr>\n",
       "      <th>399</th>\n",
       "      <td>284.0</td>\n",
       "      <td>89</td>\n",
       "      <td>54.0</td>\n",
       "      <td>5.3</td>\n",
       "      <td>4.390000</td>\n",
       "      <td>Louisa</td>\n",
       "      <td>51</td>\n",
       "      <td>female</td>\n",
       "      <td>63.0</td>\n",
       "      <td>154.0</td>\n",
       "      <td>medium</td>\n",
       "      <td>140.0</td>\n",
       "      <td>100.0</td>\n",
       "      <td>32.0</td>\n",
       "      <td>43.0</td>\n",
       "      <td>180.0</td>\n",
       "    </tr>\n",
       "    <tr>\n",
       "      <th>400</th>\n",
       "      <td>194.0</td>\n",
       "      <td>269</td>\n",
       "      <td>38.0</td>\n",
       "      <td>5.1</td>\n",
       "      <td>13.630000</td>\n",
       "      <td>Louisa</td>\n",
       "      <td>29</td>\n",
       "      <td>female</td>\n",
       "      <td>69.0</td>\n",
       "      <td>167.0</td>\n",
       "      <td>small</td>\n",
       "      <td>120.0</td>\n",
       "      <td>70.0</td>\n",
       "      <td>33.0</td>\n",
       "      <td>40.0</td>\n",
       "      <td>20.0</td>\n",
       "    </tr>\n",
       "    <tr>\n",
       "      <th>401</th>\n",
       "      <td>199.0</td>\n",
       "      <td>76</td>\n",
       "      <td>52.0</td>\n",
       "      <td>3.8</td>\n",
       "      <td>4.490000</td>\n",
       "      <td>Louisa</td>\n",
       "      <td>41</td>\n",
       "      <td>female</td>\n",
       "      <td>63.0</td>\n",
       "      <td>197.0</td>\n",
       "      <td>medium</td>\n",
       "      <td>120.0</td>\n",
       "      <td>78.0</td>\n",
       "      <td>41.0</td>\n",
       "      <td>48.0</td>\n",
       "      <td>255.0</td>\n",
       "    </tr>\n",
       "    <tr>\n",
       "      <th>402</th>\n",
       "      <td>159.0</td>\n",
       "      <td>88</td>\n",
       "      <td>79.0</td>\n",
       "      <td>2.0</td>\n",
       "      <td>4.840000</td>\n",
       "      <td>Louisa</td>\n",
       "      <td>68</td>\n",
       "      <td>female</td>\n",
       "      <td>64.0</td>\n",
       "      <td>220.0</td>\n",
       "      <td>medium</td>\n",
       "      <td>100.0</td>\n",
       "      <td>72.0</td>\n",
       "      <td>49.0</td>\n",
       "      <td>58.0</td>\n",
       "      <td>900.0</td>\n",
       "    </tr>\n",
       "  </tbody>\n",
       "</table>\n",
       "<p>403 rows × 16 columns</p>\n",
       "</div>"
      ],
      "text/plain": [
       "      chol  stab.glu   hdl  ratio      glyhb    location  age  gender  height  \\\n",
       "0    203.0        82  56.0    3.6   4.310000  Buckingham   46  female    62.0   \n",
       "1    165.0        97  24.0    6.9   4.440000  Buckingham   29  female    64.0   \n",
       "2    228.0        92  37.0    6.2   4.640000  Buckingham   58  female    61.0   \n",
       "3     78.0        93  12.0    6.5   4.630000  Buckingham   67    male    67.0   \n",
       "4    249.0        90  28.0    8.9   7.720000  Buckingham   64    male    68.0   \n",
       "..     ...       ...   ...    ...        ...         ...  ...     ...     ...   \n",
       "398  296.0       369  46.0    6.4  16.110001      Louisa   53    male    69.0   \n",
       "399  284.0        89  54.0    5.3   4.390000      Louisa   51  female    63.0   \n",
       "400  194.0       269  38.0    5.1  13.630000      Louisa   29  female    69.0   \n",
       "401  199.0        76  52.0    3.8   4.490000      Louisa   41  female    63.0   \n",
       "402  159.0        88  79.0    2.0   4.840000      Louisa   68  female    64.0   \n",
       "\n",
       "     weight   frame  bp.1s  bp.1d  waist   hip  time.ppn  \n",
       "0     121.0  medium  118.0   59.0   29.0  38.0     720.0  \n",
       "1     218.0   large  112.0   68.0   46.0  48.0     360.0  \n",
       "2     256.0   large  190.0   92.0   49.0  57.0     180.0  \n",
       "3     119.0   large  110.0   50.0   33.0  38.0     480.0  \n",
       "4     183.0  medium  138.0   80.0   44.0  41.0     300.0  \n",
       "..      ...     ...    ...    ...    ...   ...       ...  \n",
       "398   173.0  medium  138.0   94.0   35.0  39.0     210.0  \n",
       "399   154.0  medium  140.0  100.0   32.0  43.0     180.0  \n",
       "400   167.0   small  120.0   70.0   33.0  40.0      20.0  \n",
       "401   197.0  medium  120.0   78.0   41.0  48.0     255.0  \n",
       "402   220.0  medium  100.0   72.0   49.0  58.0     900.0  \n",
       "\n",
       "[403 rows x 16 columns]"
      ]
     },
     "execution_count": 26,
     "metadata": {},
     "output_type": "execute_result"
    }
   ],
   "source": [
    "dataset"
   ]
  },
  {
   "cell_type": "markdown",
   "metadata": {},
   "source": [
    "# Standardisation of all the columns as there must not be much diffrence in column values Very important for distance based values not much of a effect on trees based values"
   ]
  },
  {
   "cell_type": "code",
   "execution_count": 27,
   "metadata": {},
   "outputs": [],
   "source": [
    "# dataset[\"bp.1s\"] = np.log(dataset[\"bp.1s\"]) "
   ]
  },
  {
   "cell_type": "code",
   "execution_count": 28,
   "metadata": {},
   "outputs": [],
   "source": [
    "# dataset[\"hdl\"] = np.log(dataset[\"hdl\"]) "
   ]
  },
  {
   "cell_type": "code",
   "execution_count": 29,
   "metadata": {},
   "outputs": [],
   "source": [
    "# dataset[\"height\"] = np.log(dataset[\"height\"]) "
   ]
  },
  {
   "cell_type": "code",
   "execution_count": 30,
   "metadata": {},
   "outputs": [],
   "source": [
    "# dataset[\"age\"] = np.log(dataset[\"age\"]) "
   ]
  },
  {
   "cell_type": "code",
   "execution_count": 31,
   "metadata": {},
   "outputs": [],
   "source": [
    "# dataset[\"bp.1d\"] = np.log(dataset[\"bp.1d\"]) "
   ]
  },
  {
   "cell_type": "code",
   "execution_count": 32,
   "metadata": {},
   "outputs": [],
   "source": [
    "dataset[\"ratio\"] = np.log(dataset[\"ratio\"]) \n",
    "# "
   ]
  },
  {
   "cell_type": "code",
   "execution_count": 33,
   "metadata": {},
   "outputs": [],
   "source": [
    "# dataset[\"stab.glu\"] = np.sqrt(dataset[\"stab.glu\"])"
   ]
  },
  {
   "cell_type": "code",
   "execution_count": 34,
   "metadata": {},
   "outputs": [],
   "source": [
    "from sklearn.preprocessing import StandardScaler,MinMaxScaler,RobustScaler\n",
    "sc = StandardScaler()"
   ]
  },
  {
   "cell_type": "code",
   "execution_count": 35,
   "metadata": {},
   "outputs": [],
   "source": [
    "dataset[\"stab.glu\"] =  sc.fit_transform(dataset[\"stab.glu\"].values.reshape(403,1))"
   ]
  },
  {
   "cell_type": "code",
   "execution_count": 36,
   "metadata": {},
   "outputs": [],
   "source": [
    "dataset['hdl'] = sc.fit_transform(dataset[\"hdl\"].values.reshape(403,1))"
   ]
  },
  {
   "cell_type": "code",
   "execution_count": 37,
   "metadata": {},
   "outputs": [],
   "source": [
    "dataset[\"ratio\"] = sc.fit_transform(dataset[\"ratio\"].values.reshape(403,1))"
   ]
  },
  {
   "cell_type": "code",
   "execution_count": 38,
   "metadata": {},
   "outputs": [],
   "source": [
    "dataset['waist'] = sc.fit_transform(dataset[\"waist\"].values.reshape(403,1))"
   ]
  },
  {
   "cell_type": "code",
   "execution_count": 39,
   "metadata": {},
   "outputs": [],
   "source": [
    "dataset[\"weight\"] = sc.fit_transform(dataset[\"weight\"].values.reshape(403,1))"
   ]
  },
  {
   "cell_type": "code",
   "execution_count": 40,
   "metadata": {},
   "outputs": [],
   "source": [
    "dataset[\"chol\"] = sc.fit_transform(dataset[\"chol\"].values.reshape(403,1))"
   ]
  },
  {
   "cell_type": "code",
   "execution_count": 41,
   "metadata": {},
   "outputs": [],
   "source": [
    "dataset[\"bp.1s\"] = sc.fit_transform(dataset[\"bp.1s\"].values.reshape(403,1))"
   ]
  },
  {
   "cell_type": "code",
   "execution_count": 42,
   "metadata": {},
   "outputs": [],
   "source": [
    "dataset[\"bp.1d\"] = sc.fit_transform(dataset[\"bp.1d\"].values.reshape(403,1))"
   ]
  },
  {
   "cell_type": "code",
   "execution_count": 43,
   "metadata": {},
   "outputs": [],
   "source": [
    "dataset[\"time.ppn\"] = sc.fit_transform(dataset[\"time.ppn\"].values.reshape(403,1))"
   ]
  },
  {
   "cell_type": "code",
   "execution_count": 44,
   "metadata": {},
   "outputs": [],
   "source": [
    "dataset[\"hip\"] = sc.fit_transform(dataset[\"hip\"].values.reshape(403,1))"
   ]
  },
  {
   "cell_type": "code",
   "execution_count": 45,
   "metadata": {},
   "outputs": [],
   "source": [
    "dataset[\"age\"] = sc.fit_transform(dataset[\"age\"].values.reshape(403,1))"
   ]
  },
  {
   "cell_type": "code",
   "execution_count": 46,
   "metadata": {},
   "outputs": [],
   "source": [
    "dataset[\"height\"] = sc.fit_transform(dataset[\"height\"].values.reshape(403,1))"
   ]
  },
  {
   "cell_type": "code",
   "execution_count": 47,
   "metadata": {},
   "outputs": [
    {
     "data": {
      "text/html": [
       "<div>\n",
       "<style scoped>\n",
       "    .dataframe tbody tr th:only-of-type {\n",
       "        vertical-align: middle;\n",
       "    }\n",
       "\n",
       "    .dataframe tbody tr th {\n",
       "        vertical-align: top;\n",
       "    }\n",
       "\n",
       "    .dataframe thead th {\n",
       "        text-align: right;\n",
       "    }\n",
       "</style>\n",
       "<table border=\"1\" class=\"dataframe\">\n",
       "  <thead>\n",
       "    <tr style=\"text-align: right;\">\n",
       "      <th></th>\n",
       "      <th>chol</th>\n",
       "      <th>stab.glu</th>\n",
       "      <th>hdl</th>\n",
       "      <th>ratio</th>\n",
       "      <th>glyhb</th>\n",
       "      <th>location</th>\n",
       "      <th>age</th>\n",
       "      <th>gender</th>\n",
       "      <th>height</th>\n",
       "      <th>weight</th>\n",
       "      <th>frame</th>\n",
       "      <th>bp.1s</th>\n",
       "      <th>bp.1d</th>\n",
       "      <th>waist</th>\n",
       "      <th>hip</th>\n",
       "      <th>time.ppn</th>\n",
       "    </tr>\n",
       "  </thead>\n",
       "  <tbody>\n",
       "    <tr>\n",
       "      <th>0</th>\n",
       "      <td>-0.109082</td>\n",
       "      <td>-0.465424</td>\n",
       "      <td>0.323193</td>\n",
       "      <td>-0.476985</td>\n",
       "      <td>4.310000</td>\n",
       "      <td>Buckingham</td>\n",
       "      <td>-0.052241</td>\n",
       "      <td>female</td>\n",
       "      <td>-1.033584</td>\n",
       "      <td>-1.406006</td>\n",
       "      <td>medium</td>\n",
       "      <td>-0.837049</td>\n",
       "      <td>-1.801924</td>\n",
       "      <td>-1.558395</td>\n",
       "      <td>-0.893303</td>\n",
       "      <td>1.231660</td>\n",
       "    </tr>\n",
       "    <tr>\n",
       "      <th>1</th>\n",
       "      <td>-0.966182</td>\n",
       "      <td>-0.182462</td>\n",
       "      <td>-1.534986</td>\n",
       "      <td>1.396400</td>\n",
       "      <td>4.440000</td>\n",
       "      <td>Buckingham</td>\n",
       "      <td>-1.095693</td>\n",
       "      <td>female</td>\n",
       "      <td>-0.519344</td>\n",
       "      <td>1.004457</td>\n",
       "      <td>large</td>\n",
       "      <td>-1.102872</td>\n",
       "      <td>-1.134688</td>\n",
       "      <td>1.419726</td>\n",
       "      <td>0.880976</td>\n",
       "      <td>0.063298</td>\n",
       "    </tr>\n",
       "    <tr>\n",
       "      <th>2</th>\n",
       "      <td>0.454799</td>\n",
       "      <td>-0.276783</td>\n",
       "      <td>-0.780101</td>\n",
       "      <td>1.088371</td>\n",
       "      <td>4.640000</td>\n",
       "      <td>Buckingham</td>\n",
       "      <td>0.684313</td>\n",
       "      <td>female</td>\n",
       "      <td>-1.290704</td>\n",
       "      <td>1.948762</td>\n",
       "      <td>large</td>\n",
       "      <td>2.352839</td>\n",
       "      <td>0.644608</td>\n",
       "      <td>1.945276</td>\n",
       "      <td>2.477827</td>\n",
       "      <td>-0.520882</td>\n",
       "    </tr>\n",
       "    <tr>\n",
       "      <th>3</th>\n",
       "      <td>-2.928491</td>\n",
       "      <td>-0.257919</td>\n",
       "      <td>-2.231804</td>\n",
       "      <td>1.224437</td>\n",
       "      <td>4.630000</td>\n",
       "      <td>Buckingham</td>\n",
       "      <td>1.236729</td>\n",
       "      <td>male</td>\n",
       "      <td>0.252016</td>\n",
       "      <td>-1.455706</td>\n",
       "      <td>large</td>\n",
       "      <td>-1.191480</td>\n",
       "      <td>-2.469160</td>\n",
       "      <td>-0.857660</td>\n",
       "      <td>-0.893303</td>\n",
       "      <td>0.452752</td>\n",
       "    </tr>\n",
       "    <tr>\n",
       "      <th>4</th>\n",
       "      <td>0.928460</td>\n",
       "      <td>-0.314511</td>\n",
       "      <td>-1.302714</td>\n",
       "      <td>2.129326</td>\n",
       "      <td>7.720000</td>\n",
       "      <td>Buckingham</td>\n",
       "      <td>1.052590</td>\n",
       "      <td>male</td>\n",
       "      <td>0.509136</td>\n",
       "      <td>0.134703</td>\n",
       "      <td>medium</td>\n",
       "      <td>0.049031</td>\n",
       "      <td>-0.245040</td>\n",
       "      <td>1.069359</td>\n",
       "      <td>-0.361020</td>\n",
       "      <td>-0.131429</td>\n",
       "    </tr>\n",
       "    <tr>\n",
       "      <th>...</th>\n",
       "      <td>...</td>\n",
       "      <td>...</td>\n",
       "      <td>...</td>\n",
       "      <td>...</td>\n",
       "      <td>...</td>\n",
       "      <td>...</td>\n",
       "      <td>...</td>\n",
       "      <td>...</td>\n",
       "      <td>...</td>\n",
       "      <td>...</td>\n",
       "      <td>...</td>\n",
       "      <td>...</td>\n",
       "      <td>...</td>\n",
       "      <td>...</td>\n",
       "      <td>...</td>\n",
       "      <td>...</td>\n",
       "    </tr>\n",
       "    <tr>\n",
       "      <th>398</th>\n",
       "      <td>1.988557</td>\n",
       "      <td>4.948571</td>\n",
       "      <td>-0.257488</td>\n",
       "      <td>1.179792</td>\n",
       "      <td>16.110001</td>\n",
       "      <td>Louisa</td>\n",
       "      <td>0.377415</td>\n",
       "      <td>male</td>\n",
       "      <td>0.766256</td>\n",
       "      <td>-0.113799</td>\n",
       "      <td>medium</td>\n",
       "      <td>0.049031</td>\n",
       "      <td>0.792883</td>\n",
       "      <td>-0.507293</td>\n",
       "      <td>-0.715875</td>\n",
       "      <td>-0.423519</td>\n",
       "    </tr>\n",
       "    <tr>\n",
       "      <th>399</th>\n",
       "      <td>1.717894</td>\n",
       "      <td>-0.333375</td>\n",
       "      <td>0.207057</td>\n",
       "      <td>0.636739</td>\n",
       "      <td>4.390000</td>\n",
       "      <td>Louisa</td>\n",
       "      <td>0.254656</td>\n",
       "      <td>female</td>\n",
       "      <td>-0.776464</td>\n",
       "      <td>-0.585951</td>\n",
       "      <td>medium</td>\n",
       "      <td>0.137639</td>\n",
       "      <td>1.237707</td>\n",
       "      <td>-1.032844</td>\n",
       "      <td>-0.006164</td>\n",
       "      <td>-0.520882</td>\n",
       "    </tr>\n",
       "    <tr>\n",
       "      <th>400</th>\n",
       "      <td>-0.312080</td>\n",
       "      <td>3.062162</td>\n",
       "      <td>-0.722033</td>\n",
       "      <td>0.525974</td>\n",
       "      <td>13.630000</td>\n",
       "      <td>Louisa</td>\n",
       "      <td>-1.095693</td>\n",
       "      <td>female</td>\n",
       "      <td>0.766256</td>\n",
       "      <td>-0.262900</td>\n",
       "      <td>small</td>\n",
       "      <td>-0.748441</td>\n",
       "      <td>-0.986413</td>\n",
       "      <td>-0.857660</td>\n",
       "      <td>-0.538447</td>\n",
       "      <td>-1.040154</td>\n",
       "    </tr>\n",
       "    <tr>\n",
       "      <th>401</th>\n",
       "      <td>-0.199303</td>\n",
       "      <td>-0.578608</td>\n",
       "      <td>0.090921</td>\n",
       "      <td>-0.321297</td>\n",
       "      <td>4.490000</td>\n",
       "      <td>Louisa</td>\n",
       "      <td>-0.359139</td>\n",
       "      <td>female</td>\n",
       "      <td>-0.776464</td>\n",
       "      <td>0.482604</td>\n",
       "      <td>medium</td>\n",
       "      <td>-0.748441</td>\n",
       "      <td>-0.393314</td>\n",
       "      <td>0.543808</td>\n",
       "      <td>0.880976</td>\n",
       "      <td>-0.277474</td>\n",
       "    </tr>\n",
       "    <tr>\n",
       "      <th>402</th>\n",
       "      <td>-1.101514</td>\n",
       "      <td>-0.352239</td>\n",
       "      <td>1.658759</td>\n",
       "      <td>-2.169534</td>\n",
       "      <td>4.840000</td>\n",
       "      <td>Louisa</td>\n",
       "      <td>1.298108</td>\n",
       "      <td>female</td>\n",
       "      <td>-0.519344</td>\n",
       "      <td>1.054157</td>\n",
       "      <td>medium</td>\n",
       "      <td>-1.634520</td>\n",
       "      <td>-0.838138</td>\n",
       "      <td>1.945276</td>\n",
       "      <td>2.655254</td>\n",
       "      <td>1.815840</td>\n",
       "    </tr>\n",
       "  </tbody>\n",
       "</table>\n",
       "<p>403 rows × 16 columns</p>\n",
       "</div>"
      ],
      "text/plain": [
       "         chol  stab.glu       hdl     ratio      glyhb    location       age  \\\n",
       "0   -0.109082 -0.465424  0.323193 -0.476985   4.310000  Buckingham -0.052241   \n",
       "1   -0.966182 -0.182462 -1.534986  1.396400   4.440000  Buckingham -1.095693   \n",
       "2    0.454799 -0.276783 -0.780101  1.088371   4.640000  Buckingham  0.684313   \n",
       "3   -2.928491 -0.257919 -2.231804  1.224437   4.630000  Buckingham  1.236729   \n",
       "4    0.928460 -0.314511 -1.302714  2.129326   7.720000  Buckingham  1.052590   \n",
       "..        ...       ...       ...       ...        ...         ...       ...   \n",
       "398  1.988557  4.948571 -0.257488  1.179792  16.110001      Louisa  0.377415   \n",
       "399  1.717894 -0.333375  0.207057  0.636739   4.390000      Louisa  0.254656   \n",
       "400 -0.312080  3.062162 -0.722033  0.525974  13.630000      Louisa -1.095693   \n",
       "401 -0.199303 -0.578608  0.090921 -0.321297   4.490000      Louisa -0.359139   \n",
       "402 -1.101514 -0.352239  1.658759 -2.169534   4.840000      Louisa  1.298108   \n",
       "\n",
       "     gender    height    weight   frame     bp.1s     bp.1d     waist  \\\n",
       "0    female -1.033584 -1.406006  medium -0.837049 -1.801924 -1.558395   \n",
       "1    female -0.519344  1.004457   large -1.102872 -1.134688  1.419726   \n",
       "2    female -1.290704  1.948762   large  2.352839  0.644608  1.945276   \n",
       "3      male  0.252016 -1.455706   large -1.191480 -2.469160 -0.857660   \n",
       "4      male  0.509136  0.134703  medium  0.049031 -0.245040  1.069359   \n",
       "..      ...       ...       ...     ...       ...       ...       ...   \n",
       "398    male  0.766256 -0.113799  medium  0.049031  0.792883 -0.507293   \n",
       "399  female -0.776464 -0.585951  medium  0.137639  1.237707 -1.032844   \n",
       "400  female  0.766256 -0.262900   small -0.748441 -0.986413 -0.857660   \n",
       "401  female -0.776464  0.482604  medium -0.748441 -0.393314  0.543808   \n",
       "402  female -0.519344  1.054157  medium -1.634520 -0.838138  1.945276   \n",
       "\n",
       "          hip  time.ppn  \n",
       "0   -0.893303  1.231660  \n",
       "1    0.880976  0.063298  \n",
       "2    2.477827 -0.520882  \n",
       "3   -0.893303  0.452752  \n",
       "4   -0.361020 -0.131429  \n",
       "..        ...       ...  \n",
       "398 -0.715875 -0.423519  \n",
       "399 -0.006164 -0.520882  \n",
       "400 -0.538447 -1.040154  \n",
       "401  0.880976 -0.277474  \n",
       "402  2.655254  1.815840  \n",
       "\n",
       "[403 rows x 16 columns]"
      ]
     },
     "execution_count": 47,
     "metadata": {},
     "output_type": "execute_result"
    }
   ],
   "source": [
    "dataset"
   ]
  },
  {
   "cell_type": "code",
   "execution_count": 48,
   "metadata": {},
   "outputs": [
    {
     "data": {
      "text/plain": [
       "chol        0\n",
       "stab.glu    0\n",
       "hdl         0\n",
       "ratio       0\n",
       "glyhb       0\n",
       "location    0\n",
       "age         0\n",
       "gender      0\n",
       "height      0\n",
       "weight      0\n",
       "frame       0\n",
       "bp.1s       0\n",
       "bp.1d       0\n",
       "waist       0\n",
       "hip         0\n",
       "time.ppn    0\n",
       "dtype: int64"
      ]
     },
     "execution_count": 48,
     "metadata": {},
     "output_type": "execute_result"
    }
   ],
   "source": [
    "dataset.isnull().sum()"
   ]
  },
  {
   "cell_type": "markdown",
   "metadata": {},
   "source": [
    "# ==========================================="
   ]
  },
  {
   "cell_type": "code",
   "execution_count": 227,
   "metadata": {},
   "outputs": [],
   "source": [
    "# lg_glyhb = np.log(dataset[\"ratio\"])\n",
    "\n",
    "# lg = np.log(lg_glyhb)\n",
    "\n",
    "# dataset[\"stab.glu\"] = np.log(dataset[\"stab.glu\"])\n",
    "\n",
    "# dataset[\"hdl\"] = np.sqrt(dataset[\"hdl\"])\n",
    "\n",
    "\n",
    "\n",
    "# dataset[\"weight\"] = np.log(dataset[\"weight\"])\n",
    "\n",
    "# dataset[\"waist\"] = np.log(dataset[\"waist\"])"
   ]
  },
  {
   "cell_type": "code",
   "execution_count": 228,
   "metadata": {},
   "outputs": [
    {
     "data": {
      "text/html": [
       "<div>\n",
       "<style scoped>\n",
       "    .dataframe tbody tr th:only-of-type {\n",
       "        vertical-align: middle;\n",
       "    }\n",
       "\n",
       "    .dataframe tbody tr th {\n",
       "        vertical-align: top;\n",
       "    }\n",
       "\n",
       "    .dataframe thead th {\n",
       "        text-align: right;\n",
       "    }\n",
       "</style>\n",
       "<table border=\"1\" class=\"dataframe\">\n",
       "  <thead>\n",
       "    <tr style=\"text-align: right;\">\n",
       "      <th></th>\n",
       "      <th>chol</th>\n",
       "      <th>stab.glu</th>\n",
       "      <th>hdl</th>\n",
       "      <th>ratio</th>\n",
       "      <th>glyhb</th>\n",
       "      <th>location</th>\n",
       "      <th>age</th>\n",
       "      <th>gender</th>\n",
       "      <th>height</th>\n",
       "      <th>weight</th>\n",
       "      <th>frame</th>\n",
       "      <th>bp.1s</th>\n",
       "      <th>bp.1d</th>\n",
       "      <th>waist</th>\n",
       "      <th>hip</th>\n",
       "      <th>time.ppn</th>\n",
       "    </tr>\n",
       "  </thead>\n",
       "  <tbody>\n",
       "    <tr>\n",
       "      <th>0</th>\n",
       "      <td>-0.109082</td>\n",
       "      <td>-0.465424</td>\n",
       "      <td>0.323193</td>\n",
       "      <td>-0.476985</td>\n",
       "      <td>4.31</td>\n",
       "      <td>Buckingham</td>\n",
       "      <td>-0.052241</td>\n",
       "      <td>female</td>\n",
       "      <td>-1.033584</td>\n",
       "      <td>-1.406006</td>\n",
       "      <td>medium</td>\n",
       "      <td>-0.837049</td>\n",
       "      <td>-1.801924</td>\n",
       "      <td>-1.558395</td>\n",
       "      <td>-0.893303</td>\n",
       "      <td>1.231660</td>\n",
       "    </tr>\n",
       "    <tr>\n",
       "      <th>1</th>\n",
       "      <td>-0.966182</td>\n",
       "      <td>-0.182462</td>\n",
       "      <td>-1.534986</td>\n",
       "      <td>1.396400</td>\n",
       "      <td>4.44</td>\n",
       "      <td>Buckingham</td>\n",
       "      <td>-1.095693</td>\n",
       "      <td>female</td>\n",
       "      <td>-0.519344</td>\n",
       "      <td>1.004457</td>\n",
       "      <td>large</td>\n",
       "      <td>-1.102872</td>\n",
       "      <td>-1.134688</td>\n",
       "      <td>1.419726</td>\n",
       "      <td>0.880976</td>\n",
       "      <td>0.063298</td>\n",
       "    </tr>\n",
       "    <tr>\n",
       "      <th>2</th>\n",
       "      <td>0.454799</td>\n",
       "      <td>-0.276783</td>\n",
       "      <td>-0.780101</td>\n",
       "      <td>1.088371</td>\n",
       "      <td>4.64</td>\n",
       "      <td>Buckingham</td>\n",
       "      <td>0.684313</td>\n",
       "      <td>female</td>\n",
       "      <td>-1.290704</td>\n",
       "      <td>1.948762</td>\n",
       "      <td>large</td>\n",
       "      <td>2.352839</td>\n",
       "      <td>0.644608</td>\n",
       "      <td>1.945276</td>\n",
       "      <td>2.477827</td>\n",
       "      <td>-0.520882</td>\n",
       "    </tr>\n",
       "    <tr>\n",
       "      <th>3</th>\n",
       "      <td>-2.928491</td>\n",
       "      <td>-0.257919</td>\n",
       "      <td>-2.231804</td>\n",
       "      <td>1.224437</td>\n",
       "      <td>4.63</td>\n",
       "      <td>Buckingham</td>\n",
       "      <td>1.236729</td>\n",
       "      <td>male</td>\n",
       "      <td>0.252016</td>\n",
       "      <td>-1.455706</td>\n",
       "      <td>large</td>\n",
       "      <td>-1.191480</td>\n",
       "      <td>-2.469160</td>\n",
       "      <td>-0.857660</td>\n",
       "      <td>-0.893303</td>\n",
       "      <td>0.452752</td>\n",
       "    </tr>\n",
       "    <tr>\n",
       "      <th>4</th>\n",
       "      <td>0.928460</td>\n",
       "      <td>-0.314511</td>\n",
       "      <td>-1.302714</td>\n",
       "      <td>2.129326</td>\n",
       "      <td>7.72</td>\n",
       "      <td>Buckingham</td>\n",
       "      <td>1.052590</td>\n",
       "      <td>male</td>\n",
       "      <td>0.509136</td>\n",
       "      <td>0.134703</td>\n",
       "      <td>medium</td>\n",
       "      <td>0.049031</td>\n",
       "      <td>-0.245040</td>\n",
       "      <td>1.069359</td>\n",
       "      <td>-0.361020</td>\n",
       "      <td>-0.131429</td>\n",
       "    </tr>\n",
       "  </tbody>\n",
       "</table>\n",
       "</div>"
      ],
      "text/plain": [
       "       chol  stab.glu       hdl     ratio  glyhb    location       age  \\\n",
       "0 -0.109082 -0.465424  0.323193 -0.476985   4.31  Buckingham -0.052241   \n",
       "1 -0.966182 -0.182462 -1.534986  1.396400   4.44  Buckingham -1.095693   \n",
       "2  0.454799 -0.276783 -0.780101  1.088371   4.64  Buckingham  0.684313   \n",
       "3 -2.928491 -0.257919 -2.231804  1.224437   4.63  Buckingham  1.236729   \n",
       "4  0.928460 -0.314511 -1.302714  2.129326   7.72  Buckingham  1.052590   \n",
       "\n",
       "   gender    height    weight   frame     bp.1s     bp.1d     waist       hip  \\\n",
       "0  female -1.033584 -1.406006  medium -0.837049 -1.801924 -1.558395 -0.893303   \n",
       "1  female -0.519344  1.004457   large -1.102872 -1.134688  1.419726  0.880976   \n",
       "2  female -1.290704  1.948762   large  2.352839  0.644608  1.945276  2.477827   \n",
       "3    male  0.252016 -1.455706   large -1.191480 -2.469160 -0.857660 -0.893303   \n",
       "4    male  0.509136  0.134703  medium  0.049031 -0.245040  1.069359 -0.361020   \n",
       "\n",
       "   time.ppn  \n",
       "0  1.231660  \n",
       "1  0.063298  \n",
       "2 -0.520882  \n",
       "3  0.452752  \n",
       "4 -0.131429  "
      ]
     },
     "execution_count": 228,
     "metadata": {},
     "output_type": "execute_result"
    }
   ],
   "source": [
    "dataset.head()"
   ]
  },
  {
   "cell_type": "markdown",
   "metadata": {},
   "source": [
    "# Checking Distribution"
   ]
  },
  {
   "cell_type": "code",
   "execution_count": 229,
   "metadata": {},
   "outputs": [
    {
     "data": {
      "text/plain": [
       "Text(0, 0.5, 'Frequency')"
      ]
     },
     "execution_count": 229,
     "metadata": {},
     "output_type": "execute_result"
    },
    {
     "data": {
      "image/png": "[encoded data removed]",
      "text/plain": [
       "<Figure size 432x288 with 1 Axes>"
      ]
     },
     "metadata": {
      "needs_background": "light"
     },
     "output_type": "display_data"
    }
   ],
   "source": [
    "fig,ax = plt.subplots()\n",
    "dataset[\"bp.1d\"].hist(bins=50,color='#A9C5D3',edgecolor='black',grid=False)\n",
    "ax.set_title('Ratio', fontsize=12)\n",
    "ax.set_xlabel('Ratio Distribution', fontsize=12)\n",
    "ax.set_ylabel('Frequency', fontsize=12)"
   ]
  },
  {
   "cell_type": "code",
   "execution_count": 230,
   "metadata": {},
   "outputs": [
    {
     "name": "stderr",
     "output_type": "stream",
     "text": [
      "C:\\Users\\Hp\\.conda\\envs\\tensorflow_env\\lib\\site-packages\\pandas\\core\\series.py:679: RuntimeWarning: invalid value encountered in log\n",
      "  result = getattr(ufunc, method)(*inputs, **kwargs)\n"
     ]
    },
    {
     "data": {
      "text/plain": [
       "Text(0, 0.5, 'Frequency')"
      ]
     },
     "execution_count": 230,
     "metadata": {},
     "output_type": "execute_result"
    },
    {
     "data": {
      "image/png": "[encoded data removed]",
      "text/plain": [
       "<Figure size 432x288 with 1 Axes>"
      ]
     },
     "metadata": {
      "needs_background": "light"
     },
     "output_type": "display_data"
    }
   ],
   "source": [
    "fig,ax = plt.subplots()\n",
    "np.log(dataset[\"ratio\"]).hist(bins=10,color='#A9C5D3',edgecolor='black',grid=False)\n",
    "ax.set_title('Ratio Log', fontsize=12)\n",
    "ax.set_xlabel('Ratio Distribution', fontsize=12)\n",
    "ax.set_ylabel('Frequency', fontsize=12)"
   ]
  },
  {
   "cell_type": "code",
   "execution_count": 231,
   "metadata": {},
   "outputs": [
    {
     "data": {
      "text/plain": [
       "<Figure size 1440x720 with 0 Axes>"
      ]
     },
     "metadata": {},
     "output_type": "display_data"
    },
    {
     "data": {
      "image/png": "[encoded data removed]",
      "text/plain": [
       "<Figure size 432x432 with 3 Axes>"
      ]
     },
     "metadata": {
      "needs_background": "light"
     },
     "output_type": "display_data"
    }
   ],
   "source": [
    "plt.figure(figsize=(20,10))\n",
    "sns.jointplot(x=dataset[\"ratio\"],y=dataset[\"glyhb\"],kind=\"reg\")\n",
    "plt.show()"
   ]
  },
  {
   "cell_type": "code",
   "execution_count": 232,
   "metadata": {},
   "outputs": [
    {
     "data": {
      "text/html": [
       "<div>\n",
       "<style scoped>\n",
       "    .dataframe tbody tr th:only-of-type {\n",
       "        vertical-align: middle;\n",
       "    }\n",
       "\n",
       "    .dataframe tbody tr th {\n",
       "        vertical-align: top;\n",
       "    }\n",
       "\n",
       "    .dataframe thead th {\n",
       "        text-align: right;\n",
       "    }\n",
       "</style>\n",
       "<table border=\"1\" class=\"dataframe\">\n",
       "  <thead>\n",
       "    <tr style=\"text-align: right;\">\n",
       "      <th></th>\n",
       "      <th>chol</th>\n",
       "      <th>stab.glu</th>\n",
       "      <th>hdl</th>\n",
       "      <th>ratio</th>\n",
       "      <th>glyhb</th>\n",
       "      <th>location</th>\n",
       "      <th>age</th>\n",
       "      <th>gender</th>\n",
       "      <th>height</th>\n",
       "      <th>weight</th>\n",
       "      <th>frame</th>\n",
       "      <th>bp.1s</th>\n",
       "      <th>bp.1d</th>\n",
       "      <th>waist</th>\n",
       "      <th>hip</th>\n",
       "      <th>time.ppn</th>\n",
       "    </tr>\n",
       "  </thead>\n",
       "  <tbody>\n",
       "    <tr>\n",
       "      <th>0</th>\n",
       "      <td>-0.109082</td>\n",
       "      <td>-0.465424</td>\n",
       "      <td>0.323193</td>\n",
       "      <td>-0.476985</td>\n",
       "      <td>4.310000</td>\n",
       "      <td>Buckingham</td>\n",
       "      <td>-0.052241</td>\n",
       "      <td>female</td>\n",
       "      <td>-1.033584</td>\n",
       "      <td>-1.406006</td>\n",
       "      <td>medium</td>\n",
       "      <td>-0.837049</td>\n",
       "      <td>-1.801924</td>\n",
       "      <td>-1.558395</td>\n",
       "      <td>-0.893303</td>\n",
       "      <td>1.231660</td>\n",
       "    </tr>\n",
       "    <tr>\n",
       "      <th>1</th>\n",
       "      <td>-0.966182</td>\n",
       "      <td>-0.182462</td>\n",
       "      <td>-1.534986</td>\n",
       "      <td>1.396400</td>\n",
       "      <td>4.440000</td>\n",
       "      <td>Buckingham</td>\n",
       "      <td>-1.095693</td>\n",
       "      <td>female</td>\n",
       "      <td>-0.519344</td>\n",
       "      <td>1.004457</td>\n",
       "      <td>large</td>\n",
       "      <td>-1.102872</td>\n",
       "      <td>-1.134688</td>\n",
       "      <td>1.419726</td>\n",
       "      <td>0.880976</td>\n",
       "      <td>0.063298</td>\n",
       "    </tr>\n",
       "    <tr>\n",
       "      <th>2</th>\n",
       "      <td>0.454799</td>\n",
       "      <td>-0.276783</td>\n",
       "      <td>-0.780101</td>\n",
       "      <td>1.088371</td>\n",
       "      <td>4.640000</td>\n",
       "      <td>Buckingham</td>\n",
       "      <td>0.684313</td>\n",
       "      <td>female</td>\n",
       "      <td>-1.290704</td>\n",
       "      <td>1.948762</td>\n",
       "      <td>large</td>\n",
       "      <td>2.352839</td>\n",
       "      <td>0.644608</td>\n",
       "      <td>1.945276</td>\n",
       "      <td>2.477827</td>\n",
       "      <td>-0.520882</td>\n",
       "    </tr>\n",
       "    <tr>\n",
       "      <th>3</th>\n",
       "      <td>-2.928491</td>\n",
       "      <td>-0.257919</td>\n",
       "      <td>-2.231804</td>\n",
       "      <td>1.224437</td>\n",
       "      <td>4.630000</td>\n",
       "      <td>Buckingham</td>\n",
       "      <td>1.236729</td>\n",
       "      <td>male</td>\n",
       "      <td>0.252016</td>\n",
       "      <td>-1.455706</td>\n",
       "      <td>large</td>\n",
       "      <td>-1.191480</td>\n",
       "      <td>-2.469160</td>\n",
       "      <td>-0.857660</td>\n",
       "      <td>-0.893303</td>\n",
       "      <td>0.452752</td>\n",
       "    </tr>\n",
       "    <tr>\n",
       "      <th>4</th>\n",
       "      <td>0.928460</td>\n",
       "      <td>-0.314511</td>\n",
       "      <td>-1.302714</td>\n",
       "      <td>2.129326</td>\n",
       "      <td>7.720000</td>\n",
       "      <td>Buckingham</td>\n",
       "      <td>1.052590</td>\n",
       "      <td>male</td>\n",
       "      <td>0.509136</td>\n",
       "      <td>0.134703</td>\n",
       "      <td>medium</td>\n",
       "      <td>0.049031</td>\n",
       "      <td>-0.245040</td>\n",
       "      <td>1.069359</td>\n",
       "      <td>-0.361020</td>\n",
       "      <td>-0.131429</td>\n",
       "    </tr>\n",
       "    <tr>\n",
       "      <th>...</th>\n",
       "      <td>...</td>\n",
       "      <td>...</td>\n",
       "      <td>...</td>\n",
       "      <td>...</td>\n",
       "      <td>...</td>\n",
       "      <td>...</td>\n",
       "      <td>...</td>\n",
       "      <td>...</td>\n",
       "      <td>...</td>\n",
       "      <td>...</td>\n",
       "      <td>...</td>\n",
       "      <td>...</td>\n",
       "      <td>...</td>\n",
       "      <td>...</td>\n",
       "      <td>...</td>\n",
       "      <td>...</td>\n",
       "    </tr>\n",
       "    <tr>\n",
       "      <th>398</th>\n",
       "      <td>1.988557</td>\n",
       "      <td>4.948571</td>\n",
       "      <td>-0.257488</td>\n",
       "      <td>1.179792</td>\n",
       "      <td>16.110001</td>\n",
       "      <td>Louisa</td>\n",
       "      <td>0.377415</td>\n",
       "      <td>male</td>\n",
       "      <td>0.766256</td>\n",
       "      <td>-0.113799</td>\n",
       "      <td>medium</td>\n",
       "      <td>0.049031</td>\n",
       "      <td>0.792883</td>\n",
       "      <td>-0.507293</td>\n",
       "      <td>-0.715875</td>\n",
       "      <td>-0.423519</td>\n",
       "    </tr>\n",
       "    <tr>\n",
       "      <th>399</th>\n",
       "      <td>1.717894</td>\n",
       "      <td>-0.333375</td>\n",
       "      <td>0.207057</td>\n",
       "      <td>0.636739</td>\n",
       "      <td>4.390000</td>\n",
       "      <td>Louisa</td>\n",
       "      <td>0.254656</td>\n",
       "      <td>female</td>\n",
       "      <td>-0.776464</td>\n",
       "      <td>-0.585951</td>\n",
       "      <td>medium</td>\n",
       "      <td>0.137639</td>\n",
       "      <td>1.237707</td>\n",
       "      <td>-1.032844</td>\n",
       "      <td>-0.006164</td>\n",
       "      <td>-0.520882</td>\n",
       "    </tr>\n",
       "    <tr>\n",
       "      <th>400</th>\n",
       "      <td>-0.312080</td>\n",
       "      <td>3.062162</td>\n",
       "      <td>-0.722033</td>\n",
       "      <td>0.525974</td>\n",
       "      <td>13.630000</td>\n",
       "      <td>Louisa</td>\n",
       "      <td>-1.095693</td>\n",
       "      <td>female</td>\n",
       "      <td>0.766256</td>\n",
       "      <td>-0.262900</td>\n",
       "      <td>small</td>\n",
       "      <td>-0.748441</td>\n",
       "      <td>-0.986413</td>\n",
       "      <td>-0.857660</td>\n",
       "      <td>-0.538447</td>\n",
       "      <td>-1.040154</td>\n",
       "    </tr>\n",
       "    <tr>\n",
       "      <th>401</th>\n",
       "      <td>-0.199303</td>\n",
       "      <td>-0.578608</td>\n",
       "      <td>0.090921</td>\n",
       "      <td>-0.321297</td>\n",
       "      <td>4.490000</td>\n",
       "      <td>Louisa</td>\n",
       "      <td>-0.359139</td>\n",
       "      <td>female</td>\n",
       "      <td>-0.776464</td>\n",
       "      <td>0.482604</td>\n",
       "      <td>medium</td>\n",
       "      <td>-0.748441</td>\n",
       "      <td>-0.393314</td>\n",
       "      <td>0.543808</td>\n",
       "      <td>0.880976</td>\n",
       "      <td>-0.277474</td>\n",
       "    </tr>\n",
       "    <tr>\n",
       "      <th>402</th>\n",
       "      <td>-1.101514</td>\n",
       "      <td>-0.352239</td>\n",
       "      <td>1.658759</td>\n",
       "      <td>-2.169534</td>\n",
       "      <td>4.840000</td>\n",
       "      <td>Louisa</td>\n",
       "      <td>1.298108</td>\n",
       "      <td>female</td>\n",
       "      <td>-0.519344</td>\n",
       "      <td>1.054157</td>\n",
       "      <td>medium</td>\n",
       "      <td>-1.634520</td>\n",
       "      <td>-0.838138</td>\n",
       "      <td>1.945276</td>\n",
       "      <td>2.655254</td>\n",
       "      <td>1.815840</td>\n",
       "    </tr>\n",
       "  </tbody>\n",
       "</table>\n",
       "<p>403 rows × 16 columns</p>\n",
       "</div>"
      ],
      "text/plain": [
       "         chol  stab.glu       hdl     ratio      glyhb    location       age  \\\n",
       "0   -0.109082 -0.465424  0.323193 -0.476985   4.310000  Buckingham -0.052241   \n",
       "1   -0.966182 -0.182462 -1.534986  1.396400   4.440000  Buckingham -1.095693   \n",
       "2    0.454799 -0.276783 -0.780101  1.088371   4.640000  Buckingham  0.684313   \n",
       "3   -2.928491 -0.257919 -2.231804  1.224437   4.630000  Buckingham  1.236729   \n",
       "4    0.928460 -0.314511 -1.302714  2.129326   7.720000  Buckingham  1.052590   \n",
       "..        ...       ...       ...       ...        ...         ...       ...   \n",
       "398  1.988557  4.948571 -0.257488  1.179792  16.110001      Louisa  0.377415   \n",
       "399  1.717894 -0.333375  0.207057  0.636739   4.390000      Louisa  0.254656   \n",
       "400 -0.312080  3.062162 -0.722033  0.525974  13.630000      Louisa -1.095693   \n",
       "401 -0.199303 -0.578608  0.090921 -0.321297   4.490000      Louisa -0.359139   \n",
       "402 -1.101514 -0.352239  1.658759 -2.169534   4.840000      Louisa  1.298108   \n",
       "\n",
       "     gender    height    weight   frame     bp.1s     bp.1d     waist  \\\n",
       "0    female -1.033584 -1.406006  medium -0.837049 -1.801924 -1.558395   \n",
       "1    female -0.519344  1.004457   large -1.102872 -1.134688  1.419726   \n",
       "2    female -1.290704  1.948762   large  2.352839  0.644608  1.945276   \n",
       "3      male  0.252016 -1.455706   large -1.191480 -2.469160 -0.857660   \n",
       "4      male  0.509136  0.134703  medium  0.049031 -0.245040  1.069359   \n",
       "..      ...       ...       ...     ...       ...       ...       ...   \n",
       "398    male  0.766256 -0.113799  medium  0.049031  0.792883 -0.507293   \n",
       "399  female -0.776464 -0.585951  medium  0.137639  1.237707 -1.032844   \n",
       "400  female  0.766256 -0.262900   small -0.748441 -0.986413 -0.857660   \n",
       "401  female -0.776464  0.482604  medium -0.748441 -0.393314  0.543808   \n",
       "402  female -0.519344  1.054157  medium -1.634520 -0.838138  1.945276   \n",
       "\n",
       "          hip  time.ppn  \n",
       "0   -0.893303  1.231660  \n",
       "1    0.880976  0.063298  \n",
       "2    2.477827 -0.520882  \n",
       "3   -0.893303  0.452752  \n",
       "4   -0.361020 -0.131429  \n",
       "..        ...       ...  \n",
       "398 -0.715875 -0.423519  \n",
       "399 -0.006164 -0.520882  \n",
       "400 -0.538447 -1.040154  \n",
       "401  0.880976 -0.277474  \n",
       "402  2.655254  1.815840  \n",
       "\n",
       "[403 rows x 16 columns]"
      ]
     },
     "execution_count": 232,
     "metadata": {},
     "output_type": "execute_result"
    }
   ],
   "source": [
    "dataset"
   ]
  },
  {
   "cell_type": "code",
   "execution_count": 233,
   "metadata": {},
   "outputs": [
    {
     "data": {
      "text/plain": [
       "0      Buckingham\n",
       "1      Buckingham\n",
       "2      Buckingham\n",
       "3      Buckingham\n",
       "4      Buckingham\n",
       "          ...    \n",
       "398        Louisa\n",
       "399        Louisa\n",
       "400        Louisa\n",
       "401        Louisa\n",
       "402        Louisa\n",
       "Name: location, Length: 403, dtype: object"
      ]
     },
     "execution_count": 233,
     "metadata": {},
     "output_type": "execute_result"
    }
   ],
   "source": [
    "dataset[\"location\"]"
   ]
  },
  {
   "cell_type": "code",
   "execution_count": 234,
   "metadata": {},
   "outputs": [
    {
     "data": {
      "text/plain": [
       "chol        0\n",
       "stab.glu    0\n",
       "hdl         0\n",
       "ratio       0\n",
       "glyhb       0\n",
       "location    0\n",
       "age         0\n",
       "gender      0\n",
       "height      0\n",
       "weight      0\n",
       "frame       0\n",
       "bp.1s       0\n",
       "bp.1d       0\n",
       "waist       0\n",
       "hip         0\n",
       "time.ppn    0\n",
       "dtype: int64"
      ]
     },
     "execution_count": 234,
     "metadata": {},
     "output_type": "execute_result"
    }
   ],
   "source": [
    "dataset.isnull().sum()"
   ]
  },
  {
   "cell_type": "code",
   "execution_count": 235,
   "metadata": {},
   "outputs": [],
   "source": [
    "y = dataset[\"glyhb\"]\n",
    "dataset.drop(columns=\"glyhb\",inplace=True)"
   ]
  },
  {
   "cell_type": "code",
   "execution_count": 236,
   "metadata": {},
   "outputs": [],
   "source": [
    "from sklearn.model_selection import train_test_split"
   ]
  },
  {
   "cell_type": "markdown",
   "metadata": {},
   "source": [
    "# Splitting train and test values"
   ]
  },
  {
   "cell_type": "code",
   "execution_count": 237,
   "metadata": {},
   "outputs": [],
   "source": [
    "x_train,x_test,y_train,y_test = train_test_split(dataset,y,test_size=0.2,random_state=42)"
   ]
  },
  {
   "cell_type": "code",
   "execution_count": 238,
   "metadata": {},
   "outputs": [
    {
     "data": {
      "text/plain": [
       "((322, 15), (322,), (81, 15), (81,))"
      ]
     },
     "execution_count": 238,
     "metadata": {},
     "output_type": "execute_result"
    }
   ],
   "source": [
    "x_train.shape,y_train.shape,x_test.shape,y_test.shape"
   ]
  },
  {
   "cell_type": "code",
   "execution_count": 239,
   "metadata": {},
   "outputs": [],
   "source": [
    "# x_train.drop(columns=[\"waist\",\"hip\",\"ratio\"],inplace=True)\n",
    "# x_test.drop(columns=[\"waist\",\"hip\",\"ratio\"],inplace=True)"
   ]
  },
  {
   "cell_type": "markdown",
   "metadata": {},
   "source": [
    "# Feature Engineering"
   ]
  },
  {
   "cell_type": "code",
   "execution_count": 240,
   "metadata": {},
   "outputs": [
    {
     "data": {
      "text/html": [
       "<div>\n",
       "<style scoped>\n",
       "    .dataframe tbody tr th:only-of-type {\n",
       "        vertical-align: middle;\n",
       "    }\n",
       "\n",
       "    .dataframe tbody tr th {\n",
       "        vertical-align: top;\n",
       "    }\n",
       "\n",
       "    .dataframe thead th {\n",
       "        text-align: right;\n",
       "    }\n",
       "</style>\n",
       "<table border=\"1\" class=\"dataframe\">\n",
       "  <thead>\n",
       "    <tr style=\"text-align: right;\">\n",
       "      <th></th>\n",
       "      <th>chol</th>\n",
       "      <th>stab.glu</th>\n",
       "      <th>hdl</th>\n",
       "      <th>ratio</th>\n",
       "      <th>location</th>\n",
       "      <th>age</th>\n",
       "      <th>gender</th>\n",
       "      <th>height</th>\n",
       "      <th>weight</th>\n",
       "      <th>frame</th>\n",
       "      <th>bp.1s</th>\n",
       "      <th>bp.1d</th>\n",
       "      <th>waist</th>\n",
       "      <th>hip</th>\n",
       "      <th>time.ppn</th>\n",
       "    </tr>\n",
       "  </thead>\n",
       "  <tbody>\n",
       "    <tr>\n",
       "      <th>353</th>\n",
       "      <td>-0.041417</td>\n",
       "      <td>-0.446559</td>\n",
       "      <td>1.020010</td>\n",
       "      <td>-1.001985</td>\n",
       "      <td>Louisa</td>\n",
       "      <td>0.316036</td>\n",
       "      <td>male</td>\n",
       "      <td>0.766256</td>\n",
       "      <td>-0.610801</td>\n",
       "      <td>small</td>\n",
       "      <td>0.137639</td>\n",
       "      <td>1.089433</td>\n",
       "      <td>-0.332110</td>\n",
       "      <td>-0.538447</td>\n",
       "      <td>-0.472201</td>\n",
       "    </tr>\n",
       "    <tr>\n",
       "      <th>233</th>\n",
       "      <td>-0.266969</td>\n",
       "      <td>0.157092</td>\n",
       "      <td>0.671602</td>\n",
       "      <td>-0.816145</td>\n",
       "      <td>Louisa</td>\n",
       "      <td>0.193277</td>\n",
       "      <td>male</td>\n",
       "      <td>0.252016</td>\n",
       "      <td>-0.933853</td>\n",
       "      <td>medium</td>\n",
       "      <td>1.732583</td>\n",
       "      <td>1.979081</td>\n",
       "      <td>-0.507293</td>\n",
       "      <td>-1.070731</td>\n",
       "      <td>-0.910336</td>\n",
       "    </tr>\n",
       "    <tr>\n",
       "      <th>3</th>\n",
       "      <td>-2.928491</td>\n",
       "      <td>-0.257919</td>\n",
       "      <td>-2.231804</td>\n",
       "      <td>1.224437</td>\n",
       "      <td>Buckingham</td>\n",
       "      <td>1.236729</td>\n",
       "      <td>male</td>\n",
       "      <td>0.252016</td>\n",
       "      <td>-1.455706</td>\n",
       "      <td>large</td>\n",
       "      <td>-1.191480</td>\n",
       "      <td>-2.469160</td>\n",
       "      <td>-0.857660</td>\n",
       "      <td>-0.893303</td>\n",
       "      <td>0.452752</td>\n",
       "    </tr>\n",
       "    <tr>\n",
       "      <th>18</th>\n",
       "      <td>-0.312080</td>\n",
       "      <td>-0.484288</td>\n",
       "      <td>-0.838169</td>\n",
       "      <td>0.690563</td>\n",
       "      <td>Louisa</td>\n",
       "      <td>-0.666036</td>\n",
       "      <td>male</td>\n",
       "      <td>-0.519344</td>\n",
       "      <td>-1.281755</td>\n",
       "      <td>medium</td>\n",
       "      <td>-1.191480</td>\n",
       "      <td>-0.541589</td>\n",
       "      <td>-1.383211</td>\n",
       "      <td>-1.603015</td>\n",
       "      <td>-0.715609</td>\n",
       "    </tr>\n",
       "    <tr>\n",
       "      <th>131</th>\n",
       "      <td>-0.447411</td>\n",
       "      <td>-0.559744</td>\n",
       "      <td>-0.315556</td>\n",
       "      <td>-0.033104</td>\n",
       "      <td>Louisa</td>\n",
       "      <td>-0.972934</td>\n",
       "      <td>female</td>\n",
       "      <td>0.252016</td>\n",
       "      <td>1.228108</td>\n",
       "      <td>medium</td>\n",
       "      <td>-0.659833</td>\n",
       "      <td>-0.986413</td>\n",
       "      <td>1.594909</td>\n",
       "      <td>1.768115</td>\n",
       "      <td>-0.650700</td>\n",
       "    </tr>\n",
       "    <tr>\n",
       "      <th>...</th>\n",
       "      <td>...</td>\n",
       "      <td>...</td>\n",
       "      <td>...</td>\n",
       "      <td>...</td>\n",
       "      <td>...</td>\n",
       "      <td>...</td>\n",
       "      <td>...</td>\n",
       "      <td>...</td>\n",
       "      <td>...</td>\n",
       "      <td>...</td>\n",
       "      <td>...</td>\n",
       "      <td>...</td>\n",
       "      <td>...</td>\n",
       "      <td>...</td>\n",
       "      <td>...</td>\n",
       "    </tr>\n",
       "    <tr>\n",
       "      <th>71</th>\n",
       "      <td>-0.988738</td>\n",
       "      <td>-0.389967</td>\n",
       "      <td>-0.605897</td>\n",
       "      <td>-0.102494</td>\n",
       "      <td>Buckingham</td>\n",
       "      <td>-1.463970</td>\n",
       "      <td>female</td>\n",
       "      <td>0.766256</td>\n",
       "      <td>1.675411</td>\n",
       "      <td>large</td>\n",
       "      <td>-0.482617</td>\n",
       "      <td>-0.615726</td>\n",
       "      <td>1.069359</td>\n",
       "      <td>0.703548</td>\n",
       "      <td>0.258025</td>\n",
       "    </tr>\n",
       "    <tr>\n",
       "      <th>106</th>\n",
       "      <td>1.920891</td>\n",
       "      <td>-0.408831</td>\n",
       "      <td>2.529781</td>\n",
       "      <td>-0.907566</td>\n",
       "      <td>Louisa</td>\n",
       "      <td>-0.972934</td>\n",
       "      <td>female</td>\n",
       "      <td>0.252016</td>\n",
       "      <td>0.557155</td>\n",
       "      <td>medium</td>\n",
       "      <td>-1.191480</td>\n",
       "      <td>0.496334</td>\n",
       "      <td>0.543808</td>\n",
       "      <td>-0.183592</td>\n",
       "      <td>-0.326155</td>\n",
       "    </tr>\n",
       "    <tr>\n",
       "      <th>270</th>\n",
       "      <td>-1.372177</td>\n",
       "      <td>-0.389967</td>\n",
       "      <td>-0.954305</td>\n",
       "      <td>0.034653</td>\n",
       "      <td>Buckingham</td>\n",
       "      <td>-0.543277</td>\n",
       "      <td>male</td>\n",
       "      <td>0.766256</td>\n",
       "      <td>0.681405</td>\n",
       "      <td>small</td>\n",
       "      <td>-0.305401</td>\n",
       "      <td>0.941158</td>\n",
       "      <td>0.193441</td>\n",
       "      <td>-0.361020</td>\n",
       "      <td>0.452752</td>\n",
       "    </tr>\n",
       "    <tr>\n",
       "      <th>348</th>\n",
       "      <td>-1.936059</td>\n",
       "      <td>-0.465424</td>\n",
       "      <td>-0.431692</td>\n",
       "      <td>-1.200652</td>\n",
       "      <td>Louisa</td>\n",
       "      <td>-0.666036</td>\n",
       "      <td>female</td>\n",
       "      <td>1.280495</td>\n",
       "      <td>0.134703</td>\n",
       "      <td>medium</td>\n",
       "      <td>-1.191480</td>\n",
       "      <td>-0.245040</td>\n",
       "      <td>0.543808</td>\n",
       "      <td>0.348692</td>\n",
       "      <td>-0.812973</td>\n",
       "    </tr>\n",
       "    <tr>\n",
       "      <th>102</th>\n",
       "      <td>-0.199303</td>\n",
       "      <td>0.440053</td>\n",
       "      <td>-0.141352</td>\n",
       "      <td>-0.102494</td>\n",
       "      <td>Louisa</td>\n",
       "      <td>-0.604657</td>\n",
       "      <td>female</td>\n",
       "      <td>-1.290704</td>\n",
       "      <td>0.631705</td>\n",
       "      <td>large</td>\n",
       "      <td>-0.039577</td>\n",
       "      <td>0.051510</td>\n",
       "      <td>0.718992</td>\n",
       "      <td>1.413259</td>\n",
       "      <td>-1.072608</td>\n",
       "    </tr>\n",
       "  </tbody>\n",
       "</table>\n",
       "<p>322 rows × 15 columns</p>\n",
       "</div>"
      ],
      "text/plain": [
       "         chol  stab.glu       hdl     ratio    location       age  gender  \\\n",
       "353 -0.041417 -0.446559  1.020010 -1.001985      Louisa  0.316036    male   \n",
       "233 -0.266969  0.157092  0.671602 -0.816145      Louisa  0.193277    male   \n",
       "3   -2.928491 -0.257919 -2.231804  1.224437  Buckingham  1.236729    male   \n",
       "18  -0.312080 -0.484288 -0.838169  0.690563      Louisa -0.666036    male   \n",
       "131 -0.447411 -0.559744 -0.315556 -0.033104      Louisa -0.972934  female   \n",
       "..        ...       ...       ...       ...         ...       ...     ...   \n",
       "71  -0.988738 -0.389967 -0.605897 -0.102494  Buckingham -1.463970  female   \n",
       "106  1.920891 -0.408831  2.529781 -0.907566      Louisa -0.972934  female   \n",
       "270 -1.372177 -0.389967 -0.954305  0.034653  Buckingham -0.543277    male   \n",
       "348 -1.936059 -0.465424 -0.431692 -1.200652      Louisa -0.666036  female   \n",
       "102 -0.199303  0.440053 -0.141352 -0.102494      Louisa -0.604657  female   \n",
       "\n",
       "       height    weight   frame     bp.1s     bp.1d     waist       hip  \\\n",
       "353  0.766256 -0.610801   small  0.137639  1.089433 -0.332110 -0.538447   \n",
       "233  0.252016 -0.933853  medium  1.732583  1.979081 -0.507293 -1.070731   \n",
       "3    0.252016 -1.455706   large -1.191480 -2.469160 -0.857660 -0.893303   \n",
       "18  -0.519344 -1.281755  medium -1.191480 -0.541589 -1.383211 -1.603015   \n",
       "131  0.252016  1.228108  medium -0.659833 -0.986413  1.594909  1.768115   \n",
       "..        ...       ...     ...       ...       ...       ...       ...   \n",
       "71   0.766256  1.675411   large -0.482617 -0.615726  1.069359  0.703548   \n",
       "106  0.252016  0.557155  medium -1.191480  0.496334  0.543808 -0.183592   \n",
       "270  0.766256  0.681405   small -0.305401  0.941158  0.193441 -0.361020   \n",
       "348  1.280495  0.134703  medium -1.191480 -0.245040  0.543808  0.348692   \n",
       "102 -1.290704  0.631705   large -0.039577  0.051510  0.718992  1.413259   \n",
       "\n",
       "     time.ppn  \n",
       "353 -0.472201  \n",
       "233 -0.910336  \n",
       "3    0.452752  \n",
       "18  -0.715609  \n",
       "131 -0.650700  \n",
       "..        ...  \n",
       "71   0.258025  \n",
       "106 -0.326155  \n",
       "270  0.452752  \n",
       "348 -0.812973  \n",
       "102 -1.072608  \n",
       "\n",
       "[322 rows x 15 columns]"
      ]
     },
     "execution_count": 240,
     "metadata": {},
     "output_type": "execute_result"
    }
   ],
   "source": [
    "x_train"
   ]
  },
  {
   "cell_type": "code",
   "execution_count": 241,
   "metadata": {},
   "outputs": [
    {
     "data": {
      "text/plain": [
       "chol        0\n",
       "stab.glu    0\n",
       "hdl         0\n",
       "ratio       0\n",
       "location    0\n",
       "age         0\n",
       "gender      0\n",
       "height      0\n",
       "weight      0\n",
       "frame       0\n",
       "bp.1s       0\n",
       "bp.1d       0\n",
       "waist       0\n",
       "hip         0\n",
       "time.ppn    0\n",
       "dtype: int64"
      ]
     },
     "execution_count": 241,
     "metadata": {},
     "output_type": "execute_result"
    }
   ],
   "source": [
    "x_test.isnull().sum()"
   ]
  },
  {
   "cell_type": "code",
   "execution_count": 242,
   "metadata": {},
   "outputs": [
    {
     "data": {
      "text/html": [
       "<div>\n",
       "<style scoped>\n",
       "    .dataframe tbody tr th:only-of-type {\n",
       "        vertical-align: middle;\n",
       "    }\n",
       "\n",
       "    .dataframe tbody tr th {\n",
       "        vertical-align: top;\n",
       "    }\n",
       "\n",
       "    .dataframe thead th {\n",
       "        text-align: right;\n",
       "    }\n",
       "</style>\n",
       "<table border=\"1\" class=\"dataframe\">\n",
       "  <thead>\n",
       "    <tr style=\"text-align: right;\">\n",
       "      <th></th>\n",
       "      <th>chol</th>\n",
       "      <th>stab.glu</th>\n",
       "      <th>hdl</th>\n",
       "      <th>ratio</th>\n",
       "      <th>location</th>\n",
       "      <th>age</th>\n",
       "      <th>gender</th>\n",
       "      <th>height</th>\n",
       "      <th>weight</th>\n",
       "      <th>frame</th>\n",
       "      <th>bp.1s</th>\n",
       "      <th>bp.1d</th>\n",
       "      <th>waist</th>\n",
       "      <th>hip</th>\n",
       "      <th>time.ppn</th>\n",
       "    </tr>\n",
       "  </thead>\n",
       "  <tbody>\n",
       "    <tr>\n",
       "      <th>353</th>\n",
       "      <td>-0.041417</td>\n",
       "      <td>-0.446559</td>\n",
       "      <td>1.020010</td>\n",
       "      <td>-1.001985</td>\n",
       "      <td>Louisa</td>\n",
       "      <td>0.316036</td>\n",
       "      <td>male</td>\n",
       "      <td>0.766256</td>\n",
       "      <td>-0.610801</td>\n",
       "      <td>small</td>\n",
       "      <td>0.137639</td>\n",
       "      <td>1.089433</td>\n",
       "      <td>-0.332110</td>\n",
       "      <td>-0.538447</td>\n",
       "      <td>-0.472201</td>\n",
       "    </tr>\n",
       "    <tr>\n",
       "      <th>233</th>\n",
       "      <td>-0.266969</td>\n",
       "      <td>0.157092</td>\n",
       "      <td>0.671602</td>\n",
       "      <td>-0.816145</td>\n",
       "      <td>Louisa</td>\n",
       "      <td>0.193277</td>\n",
       "      <td>male</td>\n",
       "      <td>0.252016</td>\n",
       "      <td>-0.933853</td>\n",
       "      <td>medium</td>\n",
       "      <td>1.732583</td>\n",
       "      <td>1.979081</td>\n",
       "      <td>-0.507293</td>\n",
       "      <td>-1.070731</td>\n",
       "      <td>-0.910336</td>\n",
       "    </tr>\n",
       "    <tr>\n",
       "      <th>3</th>\n",
       "      <td>-2.928491</td>\n",
       "      <td>-0.257919</td>\n",
       "      <td>-2.231804</td>\n",
       "      <td>1.224437</td>\n",
       "      <td>Buckingham</td>\n",
       "      <td>1.236729</td>\n",
       "      <td>male</td>\n",
       "      <td>0.252016</td>\n",
       "      <td>-1.455706</td>\n",
       "      <td>large</td>\n",
       "      <td>-1.191480</td>\n",
       "      <td>-2.469160</td>\n",
       "      <td>-0.857660</td>\n",
       "      <td>-0.893303</td>\n",
       "      <td>0.452752</td>\n",
       "    </tr>\n",
       "    <tr>\n",
       "      <th>18</th>\n",
       "      <td>-0.312080</td>\n",
       "      <td>-0.484288</td>\n",
       "      <td>-0.838169</td>\n",
       "      <td>0.690563</td>\n",
       "      <td>Louisa</td>\n",
       "      <td>-0.666036</td>\n",
       "      <td>male</td>\n",
       "      <td>-0.519344</td>\n",
       "      <td>-1.281755</td>\n",
       "      <td>medium</td>\n",
       "      <td>-1.191480</td>\n",
       "      <td>-0.541589</td>\n",
       "      <td>-1.383211</td>\n",
       "      <td>-1.603015</td>\n",
       "      <td>-0.715609</td>\n",
       "    </tr>\n",
       "    <tr>\n",
       "      <th>131</th>\n",
       "      <td>-0.447411</td>\n",
       "      <td>-0.559744</td>\n",
       "      <td>-0.315556</td>\n",
       "      <td>-0.033104</td>\n",
       "      <td>Louisa</td>\n",
       "      <td>-0.972934</td>\n",
       "      <td>female</td>\n",
       "      <td>0.252016</td>\n",
       "      <td>1.228108</td>\n",
       "      <td>medium</td>\n",
       "      <td>-0.659833</td>\n",
       "      <td>-0.986413</td>\n",
       "      <td>1.594909</td>\n",
       "      <td>1.768115</td>\n",
       "      <td>-0.650700</td>\n",
       "    </tr>\n",
       "    <tr>\n",
       "      <th>...</th>\n",
       "      <td>...</td>\n",
       "      <td>...</td>\n",
       "      <td>...</td>\n",
       "      <td>...</td>\n",
       "      <td>...</td>\n",
       "      <td>...</td>\n",
       "      <td>...</td>\n",
       "      <td>...</td>\n",
       "      <td>...</td>\n",
       "      <td>...</td>\n",
       "      <td>...</td>\n",
       "      <td>...</td>\n",
       "      <td>...</td>\n",
       "      <td>...</td>\n",
       "      <td>...</td>\n",
       "    </tr>\n",
       "    <tr>\n",
       "      <th>71</th>\n",
       "      <td>-0.988738</td>\n",
       "      <td>-0.389967</td>\n",
       "      <td>-0.605897</td>\n",
       "      <td>-0.102494</td>\n",
       "      <td>Buckingham</td>\n",
       "      <td>-1.463970</td>\n",
       "      <td>female</td>\n",
       "      <td>0.766256</td>\n",
       "      <td>1.675411</td>\n",
       "      <td>large</td>\n",
       "      <td>-0.482617</td>\n",
       "      <td>-0.615726</td>\n",
       "      <td>1.069359</td>\n",
       "      <td>0.703548</td>\n",
       "      <td>0.258025</td>\n",
       "    </tr>\n",
       "    <tr>\n",
       "      <th>106</th>\n",
       "      <td>1.920891</td>\n",
       "      <td>-0.408831</td>\n",
       "      <td>2.529781</td>\n",
       "      <td>-0.907566</td>\n",
       "      <td>Louisa</td>\n",
       "      <td>-0.972934</td>\n",
       "      <td>female</td>\n",
       "      <td>0.252016</td>\n",
       "      <td>0.557155</td>\n",
       "      <td>medium</td>\n",
       "      <td>-1.191480</td>\n",
       "      <td>0.496334</td>\n",
       "      <td>0.543808</td>\n",
       "      <td>-0.183592</td>\n",
       "      <td>-0.326155</td>\n",
       "    </tr>\n",
       "    <tr>\n",
       "      <th>270</th>\n",
       "      <td>-1.372177</td>\n",
       "      <td>-0.389967</td>\n",
       "      <td>-0.954305</td>\n",
       "      <td>0.034653</td>\n",
       "      <td>Buckingham</td>\n",
       "      <td>-0.543277</td>\n",
       "      <td>male</td>\n",
       "      <td>0.766256</td>\n",
       "      <td>0.681405</td>\n",
       "      <td>small</td>\n",
       "      <td>-0.305401</td>\n",
       "      <td>0.941158</td>\n",
       "      <td>0.193441</td>\n",
       "      <td>-0.361020</td>\n",
       "      <td>0.452752</td>\n",
       "    </tr>\n",
       "    <tr>\n",
       "      <th>348</th>\n",
       "      <td>-1.936059</td>\n",
       "      <td>-0.465424</td>\n",
       "      <td>-0.431692</td>\n",
       "      <td>-1.200652</td>\n",
       "      <td>Louisa</td>\n",
       "      <td>-0.666036</td>\n",
       "      <td>female</td>\n",
       "      <td>1.280495</td>\n",
       "      <td>0.134703</td>\n",
       "      <td>medium</td>\n",
       "      <td>-1.191480</td>\n",
       "      <td>-0.245040</td>\n",
       "      <td>0.543808</td>\n",
       "      <td>0.348692</td>\n",
       "      <td>-0.812973</td>\n",
       "    </tr>\n",
       "    <tr>\n",
       "      <th>102</th>\n",
       "      <td>-0.199303</td>\n",
       "      <td>0.440053</td>\n",
       "      <td>-0.141352</td>\n",
       "      <td>-0.102494</td>\n",
       "      <td>Louisa</td>\n",
       "      <td>-0.604657</td>\n",
       "      <td>female</td>\n",
       "      <td>-1.290704</td>\n",
       "      <td>0.631705</td>\n",
       "      <td>large</td>\n",
       "      <td>-0.039577</td>\n",
       "      <td>0.051510</td>\n",
       "      <td>0.718992</td>\n",
       "      <td>1.413259</td>\n",
       "      <td>-1.072608</td>\n",
       "    </tr>\n",
       "  </tbody>\n",
       "</table>\n",
       "<p>322 rows × 15 columns</p>\n",
       "</div>"
      ],
      "text/plain": [
       "         chol  stab.glu       hdl     ratio    location       age  gender  \\\n",
       "353 -0.041417 -0.446559  1.020010 -1.001985      Louisa  0.316036    male   \n",
       "233 -0.266969  0.157092  0.671602 -0.816145      Louisa  0.193277    male   \n",
       "3   -2.928491 -0.257919 -2.231804  1.224437  Buckingham  1.236729    male   \n",
       "18  -0.312080 -0.484288 -0.838169  0.690563      Louisa -0.666036    male   \n",
       "131 -0.447411 -0.559744 -0.315556 -0.033104      Louisa -0.972934  female   \n",
       "..        ...       ...       ...       ...         ...       ...     ...   \n",
       "71  -0.988738 -0.389967 -0.605897 -0.102494  Buckingham -1.463970  female   \n",
       "106  1.920891 -0.408831  2.529781 -0.907566      Louisa -0.972934  female   \n",
       "270 -1.372177 -0.389967 -0.954305  0.034653  Buckingham -0.543277    male   \n",
       "348 -1.936059 -0.465424 -0.431692 -1.200652      Louisa -0.666036  female   \n",
       "102 -0.199303  0.440053 -0.141352 -0.102494      Louisa -0.604657  female   \n",
       "\n",
       "       height    weight   frame     bp.1s     bp.1d     waist       hip  \\\n",
       "353  0.766256 -0.610801   small  0.137639  1.089433 -0.332110 -0.538447   \n",
       "233  0.252016 -0.933853  medium  1.732583  1.979081 -0.507293 -1.070731   \n",
       "3    0.252016 -1.455706   large -1.191480 -2.469160 -0.857660 -0.893303   \n",
       "18  -0.519344 -1.281755  medium -1.191480 -0.541589 -1.383211 -1.603015   \n",
       "131  0.252016  1.228108  medium -0.659833 -0.986413  1.594909  1.768115   \n",
       "..        ...       ...     ...       ...       ...       ...       ...   \n",
       "71   0.766256  1.675411   large -0.482617 -0.615726  1.069359  0.703548   \n",
       "106  0.252016  0.557155  medium -1.191480  0.496334  0.543808 -0.183592   \n",
       "270  0.766256  0.681405   small -0.305401  0.941158  0.193441 -0.361020   \n",
       "348  1.280495  0.134703  medium -1.191480 -0.245040  0.543808  0.348692   \n",
       "102 -1.290704  0.631705   large -0.039577  0.051510  0.718992  1.413259   \n",
       "\n",
       "     time.ppn  \n",
       "353 -0.472201  \n",
       "233 -0.910336  \n",
       "3    0.452752  \n",
       "18  -0.715609  \n",
       "131 -0.650700  \n",
       "..        ...  \n",
       "71   0.258025  \n",
       "106 -0.326155  \n",
       "270  0.452752  \n",
       "348 -0.812973  \n",
       "102 -1.072608  \n",
       "\n",
       "[322 rows x 15 columns]"
      ]
     },
     "execution_count": 242,
     "metadata": {},
     "output_type": "execute_result"
    }
   ],
   "source": [
    "x_train"
   ]
  },
  {
   "cell_type": "markdown",
   "metadata": {},
   "source": [
    "# MAPE Metric Function"
   ]
  },
  {
   "cell_type": "code",
   "execution_count": 243,
   "metadata": {},
   "outputs": [],
   "source": [
    "def MAPE(y_actual,y_pred):\n",
    "    mape = np.mean(np.abs((y_actual-y_pred)/y_actual))\n",
    "    return mape"
   ]
  },
  {
   "cell_type": "code",
   "execution_count": 245,
   "metadata": {},
   "outputs": [],
   "source": [
    "# def MAE(y_actual,y_pred):\n",
    "#     mape = np.mean(np.abs((y_actual-y_pred)/y_actual))\n",
    "#     return mape"
   ]
  },
  {
   "cell_type": "markdown",
   "metadata": {},
   "source": [
    "# Catboost without Embedding"
   ]
  },
  {
   "cell_type": "code",
   "execution_count": 246,
   "metadata": {},
   "outputs": [],
   "source": [
    "from catboost import CatBoostRegressor"
   ]
  },
  {
   "cell_type": "code",
   "execution_count": 247,
   "metadata": {},
   "outputs": [],
   "source": [
    "# cb = CatBoostRegressor(depth=5,iterations=300,l2_leaf_reg= 10)72.81\n",
    "# # ,learning_rate=0.1\n",
    "\n",
    "\n",
    "\n",
    "# cb = CatBoostRegressor(depth=5,iterations=400,l2_leaf_reg= 32)0.7293744365862816\n",
    "# # ,learning_rate=0.1"
   ]
  },
  {
   "cell_type": "code",
   "execution_count": 248,
   "metadata": {},
   "outputs": [],
   "source": [
    "# cb = CatBoostRegressor?\n",
    "# # ,learning_rate=0.1"
   ]
  },
  {
   "cell_type": "code",
   "execution_count": 249,
   "metadata": {},
   "outputs": [],
   "source": [
    "cb = CatBoostRegressor(depth=5,iterations=400,l2_leaf_reg= 32)\n",
    "# ,learning_rate=0.1"
   ]
  },
  {
   "cell_type": "code",
   "execution_count": 250,
   "metadata": {},
   "outputs": [],
   "source": [
    "cat_features_index = [4,6,9]"
   ]
  },
  {
   "cell_type": "code",
   "execution_count": 251,
   "metadata": {},
   "outputs": [
    {
     "name": "stdout",
     "output_type": "stream",
     "text": [
      "0:\tlearn: 2.1626393\ttotal: 43.6ms\tremaining: 17.4s\n",
      "1:\tlearn: 2.1447458\ttotal: 71ms\tremaining: 14.1s\n",
      "2:\tlearn: 2.1354927\ttotal: 90.5ms\tremaining: 12s\n",
      "3:\tlearn: 2.1236222\ttotal: 109ms\tremaining: 10.8s\n",
      "4:\tlearn: 2.1113628\ttotal: 129ms\tremaining: 10.2s\n",
      "5:\tlearn: 2.0954351\ttotal: 148ms\tremaining: 9.7s\n",
      "6:\tlearn: 2.0807900\ttotal: 167ms\tremaining: 9.37s\n",
      "7:\tlearn: 2.0717826\ttotal: 186ms\tremaining: 9.12s\n",
      "8:\tlearn: 2.0594591\ttotal: 209ms\tremaining: 9.09s\n",
      "9:\tlearn: 2.0475542\ttotal: 228ms\tremaining: 8.89s\n",
      "10:\tlearn: 2.0321701\ttotal: 250ms\tremaining: 8.84s\n",
      "11:\tlearn: 2.0179554\ttotal: 265ms\tremaining: 8.56s\n",
      "12:\tlearn: 2.0025115\ttotal: 269ms\tremaining: 8.02s\n",
      "13:\tlearn: 1.9879614\ttotal: 284ms\tremaining: 7.82s\n",
      "14:\tlearn: 1.9794633\ttotal: 304ms\tremaining: 7.81s\n",
      "15:\tlearn: 1.9655934\ttotal: 317ms\tremaining: 7.6s\n",
      "16:\tlearn: 1.9553229\ttotal: 332ms\tremaining: 7.48s\n",
      "17:\tlearn: 1.9475857\ttotal: 347ms\tremaining: 7.37s\n",
      "18:\tlearn: 1.9416107\ttotal: 362ms\tremaining: 7.27s\n",
      "19:\tlearn: 1.9332484\ttotal: 378ms\tremaining: 7.17s\n",
      "20:\tlearn: 1.9216588\ttotal: 397ms\tremaining: 7.16s\n",
      "21:\tlearn: 1.9145974\ttotal: 412ms\tremaining: 7.07s\n",
      "22:\tlearn: 1.9020609\ttotal: 431ms\tremaining: 7.06s\n",
      "23:\tlearn: 1.8894339\ttotal: 451ms\tremaining: 7.07s\n",
      "24:\tlearn: 1.8836899\ttotal: 463ms\tremaining: 6.94s\n",
      "25:\tlearn: 1.8759461\ttotal: 469ms\tremaining: 6.74s\n",
      "26:\tlearn: 1.8670165\ttotal: 480ms\tremaining: 6.63s\n",
      "27:\tlearn: 1.8585893\ttotal: 494ms\tremaining: 6.56s\n",
      "28:\tlearn: 1.8486483\ttotal: 512ms\tremaining: 6.55s\n",
      "29:\tlearn: 1.8411582\ttotal: 528ms\tremaining: 6.51s\n",
      "30:\tlearn: 1.8318632\ttotal: 548ms\tremaining: 6.52s\n",
      "31:\tlearn: 1.8244651\ttotal: 566ms\tremaining: 6.51s\n",
      "32:\tlearn: 1.8159728\ttotal: 574ms\tremaining: 6.38s\n",
      "33:\tlearn: 1.8110728\ttotal: 589ms\tremaining: 6.34s\n",
      "34:\tlearn: 1.8011428\ttotal: 604ms\tremaining: 6.3s\n",
      "35:\tlearn: 1.7932900\ttotal: 623ms\tremaining: 6.3s\n",
      "36:\tlearn: 1.7854451\ttotal: 639ms\tremaining: 6.27s\n",
      "37:\tlearn: 1.7780761\ttotal: 660ms\tremaining: 6.28s\n",
      "38:\tlearn: 1.7696224\ttotal: 678ms\tremaining: 6.28s\n",
      "39:\tlearn: 1.7642867\ttotal: 697ms\tremaining: 6.27s\n",
      "40:\tlearn: 1.7543256\ttotal: 713ms\tremaining: 6.24s\n",
      "41:\tlearn: 1.7459116\ttotal: 732ms\tremaining: 6.24s\n",
      "42:\tlearn: 1.7416332\ttotal: 751ms\tremaining: 6.23s\n",
      "43:\tlearn: 1.7374248\ttotal: 770ms\tremaining: 6.23s\n",
      "44:\tlearn: 1.7321608\ttotal: 795ms\tremaining: 6.27s\n",
      "45:\tlearn: 1.7257338\ttotal: 811ms\tremaining: 6.24s\n",
      "46:\tlearn: 1.7199385\ttotal: 828ms\tremaining: 6.22s\n",
      "47:\tlearn: 1.7143819\ttotal: 843ms\tremaining: 6.18s\n",
      "48:\tlearn: 1.7076720\ttotal: 851ms\tremaining: 6.09s\n",
      "49:\tlearn: 1.7033278\ttotal: 863ms\tremaining: 6.04s\n",
      "50:\tlearn: 1.6992251\ttotal: 877ms\tremaining: 6s\n",
      "51:\tlearn: 1.6928010\ttotal: 889ms\tremaining: 5.95s\n",
      "52:\tlearn: 1.6845638\ttotal: 890ms\tremaining: 5.83s\n",
      "53:\tlearn: 1.6805585\ttotal: 912ms\tremaining: 5.84s\n",
      "54:\tlearn: 1.6746635\ttotal: 929ms\tremaining: 5.83s\n",
      "55:\tlearn: 1.6689024\ttotal: 945ms\tremaining: 5.8s\n",
      "56:\tlearn: 1.6645616\ttotal: 962ms\tremaining: 5.79s\n",
      "57:\tlearn: 1.6593446\ttotal: 976ms\tremaining: 5.76s\n",
      "58:\tlearn: 1.6555253\ttotal: 998ms\tremaining: 5.76s\n",
      "59:\tlearn: 1.6494123\ttotal: 1.01s\tremaining: 5.73s\n",
      "60:\tlearn: 1.6455896\ttotal: 1.02s\tremaining: 5.67s\n",
      "61:\tlearn: 1.6389897\ttotal: 1.03s\tremaining: 5.64s\n",
      "62:\tlearn: 1.6349023\ttotal: 1.05s\tremaining: 5.61s\n",
      "63:\tlearn: 1.6296481\ttotal: 1.06s\tremaining: 5.58s\n",
      "64:\tlearn: 1.6258636\ttotal: 1.08s\tremaining: 5.55s\n",
      "65:\tlearn: 1.6206953\ttotal: 1.1s\tremaining: 5.55s\n",
      "66:\tlearn: 1.6150588\ttotal: 1.11s\tremaining: 5.54s\n",
      "67:\tlearn: 1.6114031\ttotal: 1.13s\tremaining: 5.51s\n",
      "68:\tlearn: 1.6073768\ttotal: 1.15s\tremaining: 5.52s\n",
      "69:\tlearn: 1.6015202\ttotal: 1.17s\tremaining: 5.5s\n",
      "70:\tlearn: 1.5975522\ttotal: 1.18s\tremaining: 5.45s\n",
      "71:\tlearn: 1.5929630\ttotal: 1.2s\tremaining: 5.44s\n",
      "72:\tlearn: 1.5879201\ttotal: 1.21s\tremaining: 5.42s\n",
      "73:\tlearn: 1.5858039\ttotal: 1.23s\tremaining: 5.41s\n",
      "74:\tlearn: 1.5824761\ttotal: 1.24s\tremaining: 5.36s\n",
      "75:\tlearn: 1.5784377\ttotal: 1.25s\tremaining: 5.34s\n",
      "76:\tlearn: 1.5733550\ttotal: 1.27s\tremaining: 5.32s\n",
      "77:\tlearn: 1.5685791\ttotal: 1.29s\tremaining: 5.31s\n",
      "78:\tlearn: 1.5657629\ttotal: 1.3s\tremaining: 5.29s\n",
      "79:\tlearn: 1.5612429\ttotal: 1.3s\tremaining: 5.21s\n",
      "80:\tlearn: 1.5586769\ttotal: 1.32s\tremaining: 5.21s\n",
      "81:\tlearn: 1.5546968\ttotal: 1.33s\tremaining: 5.16s\n",
      "82:\tlearn: 1.5500514\ttotal: 1.35s\tremaining: 5.14s\n",
      "83:\tlearn: 1.5479990\ttotal: 1.36s\tremaining: 5.12s\n",
      "84:\tlearn: 1.5448786\ttotal: 1.38s\tremaining: 5.1s\n",
      "85:\tlearn: 1.5403987\ttotal: 1.39s\tremaining: 5.07s\n",
      "86:\tlearn: 1.5380273\ttotal: 1.4s\tremaining: 5.03s\n",
      "87:\tlearn: 1.5360874\ttotal: 1.41s\tremaining: 5.01s\n",
      "88:\tlearn: 1.5317227\ttotal: 1.43s\tremaining: 5s\n",
      "89:\tlearn: 1.5300169\ttotal: 1.45s\tremaining: 4.99s\n",
      "90:\tlearn: 1.5259256\ttotal: 1.47s\tremaining: 4.98s\n",
      "91:\tlearn: 1.5217816\ttotal: 1.47s\tremaining: 4.92s\n",
      "92:\tlearn: 1.5187611\ttotal: 1.48s\tremaining: 4.89s\n",
      "93:\tlearn: 1.5157217\ttotal: 1.49s\tremaining: 4.84s\n",
      "94:\tlearn: 1.5120967\ttotal: 1.51s\tremaining: 4.85s\n",
      "95:\tlearn: 1.5084113\ttotal: 1.52s\tremaining: 4.83s\n",
      "96:\tlearn: 1.5054741\ttotal: 1.54s\tremaining: 4.81s\n",
      "97:\tlearn: 1.5033481\ttotal: 1.56s\tremaining: 4.81s\n",
      "98:\tlearn: 1.4986154\ttotal: 1.58s\tremaining: 4.8s\n",
      "99:\tlearn: 1.4964026\ttotal: 1.59s\tremaining: 4.78s\n",
      "100:\tlearn: 1.4924327\ttotal: 1.6s\tremaining: 4.74s\n",
      "101:\tlearn: 1.4900446\ttotal: 1.62s\tremaining: 4.73s\n",
      "102:\tlearn: 1.4881389\ttotal: 1.64s\tremaining: 4.72s\n",
      "103:\tlearn: 1.4844568\ttotal: 1.65s\tremaining: 4.69s\n",
      "104:\tlearn: 1.4831174\ttotal: 1.66s\tremaining: 4.67s\n",
      "105:\tlearn: 1.4812000\ttotal: 1.68s\tremaining: 4.65s\n",
      "106:\tlearn: 1.4781039\ttotal: 1.7s\tremaining: 4.64s\n",
      "107:\tlearn: 1.4763921\ttotal: 1.71s\tremaining: 4.64s\n",
      "108:\tlearn: 1.4735132\ttotal: 1.72s\tremaining: 4.6s\n",
      "109:\tlearn: 1.4723924\ttotal: 1.73s\tremaining: 4.57s\n",
      "110:\tlearn: 1.4700347\ttotal: 1.75s\tremaining: 4.55s\n",
      "111:\tlearn: 1.4676242\ttotal: 1.76s\tremaining: 4.53s\n",
      "112:\tlearn: 1.4654898\ttotal: 1.78s\tremaining: 4.53s\n",
      "113:\tlearn: 1.4633863\ttotal: 1.79s\tremaining: 4.5s\n",
      "114:\tlearn: 1.4585854\ttotal: 1.81s\tremaining: 4.48s\n",
      "115:\tlearn: 1.4548177\ttotal: 1.83s\tremaining: 4.47s\n",
      "116:\tlearn: 1.4531913\ttotal: 1.85s\tremaining: 4.47s\n",
      "117:\tlearn: 1.4494367\ttotal: 1.87s\tremaining: 4.46s\n",
      "118:\tlearn: 1.4467839\ttotal: 1.88s\tremaining: 4.45s\n",
      "119:\tlearn: 1.4446944\ttotal: 1.89s\tremaining: 4.41s\n",
      "120:\tlearn: 1.4421299\ttotal: 1.91s\tremaining: 4.4s\n",
      "121:\tlearn: 1.4393172\ttotal: 1.93s\tremaining: 4.39s\n",
      "122:\tlearn: 1.4357173\ttotal: 1.94s\tremaining: 4.37s\n",
      "123:\tlearn: 1.4320435\ttotal: 1.96s\tremaining: 4.35s\n",
      "124:\tlearn: 1.4301134\ttotal: 1.97s\tremaining: 4.34s\n",
      "125:\tlearn: 1.4276738\ttotal: 1.99s\tremaining: 4.33s\n",
      "126:\tlearn: 1.4265011\ttotal: 2.01s\tremaining: 4.31s\n",
      "127:\tlearn: 1.4234585\ttotal: 2.02s\tremaining: 4.3s\n",
      "128:\tlearn: 1.4217717\ttotal: 2.04s\tremaining: 4.29s\n",
      "129:\tlearn: 1.4197102\ttotal: 2.05s\tremaining: 4.26s\n",
      "130:\tlearn: 1.4180228\ttotal: 2.06s\tremaining: 4.24s\n",
      "131:\tlearn: 1.4163577\ttotal: 2.08s\tremaining: 4.21s\n",
      "132:\tlearn: 1.4136389\ttotal: 2.1s\tremaining: 4.21s\n",
      "133:\tlearn: 1.4120200\ttotal: 2.11s\tremaining: 4.19s\n",
      "134:\tlearn: 1.4102574\ttotal: 2.13s\tremaining: 4.18s\n",
      "135:\tlearn: 1.4083135\ttotal: 2.15s\tremaining: 4.17s\n",
      "136:\tlearn: 1.4066212\ttotal: 2.17s\tremaining: 4.16s\n",
      "137:\tlearn: 1.4042510\ttotal: 2.19s\tremaining: 4.15s\n",
      "138:\tlearn: 1.4020356\ttotal: 2.21s\tremaining: 4.14s\n",
      "139:\tlearn: 1.4006332\ttotal: 2.22s\tremaining: 4.12s\n",
      "140:\tlearn: 1.3985182\ttotal: 2.23s\tremaining: 4.11s\n",
      "141:\tlearn: 1.3970038\ttotal: 2.25s\tremaining: 4.09s\n",
      "142:\tlearn: 1.3950410\ttotal: 2.26s\tremaining: 4.06s\n",
      "143:\tlearn: 1.3929088\ttotal: 2.27s\tremaining: 4.03s\n",
      "144:\tlearn: 1.3909569\ttotal: 2.29s\tremaining: 4.02s\n",
      "145:\tlearn: 1.3888450\ttotal: 2.31s\tremaining: 4.01s\n",
      "146:\tlearn: 1.3868481\ttotal: 2.33s\tremaining: 4s\n",
      "147:\tlearn: 1.3839164\ttotal: 2.34s\tremaining: 3.98s\n",
      "148:\tlearn: 1.3821587\ttotal: 2.35s\tremaining: 3.97s\n",
      "149:\tlearn: 1.3799975\ttotal: 2.37s\tremaining: 3.95s\n",
      "150:\tlearn: 1.3778338\ttotal: 2.38s\tremaining: 3.93s\n",
      "151:\tlearn: 1.3763600\ttotal: 2.4s\tremaining: 3.92s\n",
      "152:\tlearn: 1.3741649\ttotal: 2.42s\tremaining: 3.91s\n",
      "153:\tlearn: 1.3717847\ttotal: 2.44s\tremaining: 3.9s\n",
      "154:\tlearn: 1.3692048\ttotal: 2.46s\tremaining: 3.89s\n",
      "155:\tlearn: 1.3671483\ttotal: 2.47s\tremaining: 3.87s\n",
      "156:\tlearn: 1.3631804\ttotal: 2.48s\tremaining: 3.84s\n",
      "157:\tlearn: 1.3618742\ttotal: 2.49s\tremaining: 3.81s\n",
      "158:\tlearn: 1.3610181\ttotal: 2.5s\tremaining: 3.79s\n",
      "159:\tlearn: 1.3594564\ttotal: 2.51s\tremaining: 3.76s\n",
      "160:\tlearn: 1.3571497\ttotal: 2.53s\tremaining: 3.75s\n",
      "161:\tlearn: 1.3547107\ttotal: 2.55s\tremaining: 3.74s\n",
      "162:\tlearn: 1.3531447\ttotal: 2.56s\tremaining: 3.72s\n",
      "163:\tlearn: 1.3515033\ttotal: 2.58s\tremaining: 3.71s\n",
      "164:\tlearn: 1.3494711\ttotal: 2.59s\tremaining: 3.68s\n",
      "165:\tlearn: 1.3475862\ttotal: 2.6s\tremaining: 3.67s\n",
      "166:\tlearn: 1.3450795\ttotal: 2.62s\tremaining: 3.65s\n",
      "167:\tlearn: 1.3440326\ttotal: 2.64s\tremaining: 3.64s\n",
      "168:\tlearn: 1.3420651\ttotal: 2.65s\tremaining: 3.62s\n"
     ]
    },
    {
     "name": "stdout",
     "output_type": "stream",
     "text": [
      "169:\tlearn: 1.3411620\ttotal: 2.67s\tremaining: 3.61s\n",
      "170:\tlearn: 1.3391621\ttotal: 2.68s\tremaining: 3.59s\n",
      "171:\tlearn: 1.3361310\ttotal: 2.7s\tremaining: 3.58s\n",
      "172:\tlearn: 1.3335561\ttotal: 2.72s\tremaining: 3.57s\n",
      "173:\tlearn: 1.3319993\ttotal: 2.74s\tremaining: 3.56s\n",
      "174:\tlearn: 1.3300254\ttotal: 2.75s\tremaining: 3.53s\n",
      "175:\tlearn: 1.3285741\ttotal: 2.76s\tremaining: 3.52s\n",
      "176:\tlearn: 1.3274867\ttotal: 2.78s\tremaining: 3.5s\n",
      "177:\tlearn: 1.3264107\ttotal: 2.79s\tremaining: 3.48s\n",
      "178:\tlearn: 1.3255055\ttotal: 2.81s\tremaining: 3.47s\n",
      "179:\tlearn: 1.3236823\ttotal: 2.82s\tremaining: 3.45s\n",
      "180:\tlearn: 1.3224903\ttotal: 2.83s\tremaining: 3.43s\n",
      "181:\tlearn: 1.3202442\ttotal: 2.86s\tremaining: 3.42s\n",
      "182:\tlearn: 1.3193097\ttotal: 2.86s\tremaining: 3.39s\n",
      "183:\tlearn: 1.3175406\ttotal: 2.88s\tremaining: 3.38s\n",
      "184:\tlearn: 1.3167012\ttotal: 2.89s\tremaining: 3.36s\n",
      "185:\tlearn: 1.3151311\ttotal: 2.9s\tremaining: 3.34s\n",
      "186:\tlearn: 1.3133375\ttotal: 2.92s\tremaining: 3.32s\n",
      "187:\tlearn: 1.3120264\ttotal: 2.94s\tremaining: 3.31s\n",
      "188:\tlearn: 1.3104447\ttotal: 2.95s\tremaining: 3.29s\n",
      "189:\tlearn: 1.3079391\ttotal: 2.97s\tremaining: 3.28s\n",
      "190:\tlearn: 1.3066903\ttotal: 2.97s\tremaining: 3.25s\n",
      "191:\tlearn: 1.3051817\ttotal: 2.99s\tremaining: 3.24s\n",
      "192:\tlearn: 1.3041273\ttotal: 3s\tremaining: 3.22s\n",
      "193:\tlearn: 1.3032795\ttotal: 3.02s\tremaining: 3.21s\n",
      "194:\tlearn: 1.3016581\ttotal: 3.04s\tremaining: 3.2s\n",
      "195:\tlearn: 1.3001472\ttotal: 3.06s\tremaining: 3.19s\n",
      "196:\tlearn: 1.2980502\ttotal: 3.08s\tremaining: 3.17s\n",
      "197:\tlearn: 1.2971469\ttotal: 3.1s\tremaining: 3.16s\n",
      "198:\tlearn: 1.2959060\ttotal: 3.11s\tremaining: 3.14s\n",
      "199:\tlearn: 1.2943480\ttotal: 3.13s\tremaining: 3.13s\n",
      "200:\tlearn: 1.2925691\ttotal: 3.15s\tremaining: 3.12s\n",
      "201:\tlearn: 1.2895255\ttotal: 3.17s\tremaining: 3.1s\n",
      "202:\tlearn: 1.2875760\ttotal: 3.18s\tremaining: 3.09s\n",
      "203:\tlearn: 1.2865172\ttotal: 3.2s\tremaining: 3.07s\n",
      "204:\tlearn: 1.2846409\ttotal: 3.21s\tremaining: 3.05s\n",
      "205:\tlearn: 1.2834714\ttotal: 3.23s\tremaining: 3.04s\n",
      "206:\tlearn: 1.2827469\ttotal: 3.25s\tremaining: 3.03s\n",
      "207:\tlearn: 1.2808766\ttotal: 3.26s\tremaining: 3.01s\n",
      "208:\tlearn: 1.2792772\ttotal: 3.28s\tremaining: 3s\n",
      "209:\tlearn: 1.2774041\ttotal: 3.3s\tremaining: 2.99s\n",
      "210:\tlearn: 1.2758948\ttotal: 3.32s\tremaining: 2.97s\n",
      "211:\tlearn: 1.2738818\ttotal: 3.33s\tremaining: 2.96s\n",
      "212:\tlearn: 1.2722285\ttotal: 3.35s\tremaining: 2.94s\n",
      "213:\tlearn: 1.2714879\ttotal: 3.37s\tremaining: 2.93s\n",
      "214:\tlearn: 1.2702555\ttotal: 3.38s\tremaining: 2.91s\n",
      "215:\tlearn: 1.2689015\ttotal: 3.4s\tremaining: 2.9s\n",
      "216:\tlearn: 1.2664488\ttotal: 3.42s\tremaining: 2.88s\n",
      "217:\tlearn: 1.2648340\ttotal: 3.43s\tremaining: 2.86s\n",
      "218:\tlearn: 1.2630963\ttotal: 3.44s\tremaining: 2.84s\n",
      "219:\tlearn: 1.2625849\ttotal: 3.46s\tremaining: 2.83s\n",
      "220:\tlearn: 1.2616337\ttotal: 3.48s\tremaining: 2.82s\n",
      "221:\tlearn: 1.2609703\ttotal: 3.49s\tremaining: 2.8s\n",
      "222:\tlearn: 1.2597903\ttotal: 3.5s\tremaining: 2.78s\n",
      "223:\tlearn: 1.2590514\ttotal: 3.52s\tremaining: 2.76s\n",
      "224:\tlearn: 1.2573365\ttotal: 3.54s\tremaining: 2.75s\n",
      "225:\tlearn: 1.2562045\ttotal: 3.55s\tremaining: 2.73s\n",
      "226:\tlearn: 1.2549331\ttotal: 3.57s\tremaining: 2.72s\n",
      "227:\tlearn: 1.2539104\ttotal: 3.58s\tremaining: 2.7s\n",
      "228:\tlearn: 1.2518175\ttotal: 3.6s\tremaining: 2.69s\n",
      "229:\tlearn: 1.2503791\ttotal: 3.62s\tremaining: 2.68s\n",
      "230:\tlearn: 1.2489243\ttotal: 3.64s\tremaining: 2.66s\n",
      "231:\tlearn: 1.2479429\ttotal: 3.65s\tremaining: 2.64s\n",
      "232:\tlearn: 1.2463661\ttotal: 3.67s\tremaining: 2.63s\n",
      "233:\tlearn: 1.2447392\ttotal: 3.69s\tremaining: 2.61s\n",
      "234:\tlearn: 1.2439696\ttotal: 3.71s\tremaining: 2.6s\n",
      "235:\tlearn: 1.2429205\ttotal: 3.72s\tremaining: 2.58s\n",
      "236:\tlearn: 1.2417849\ttotal: 3.73s\tremaining: 2.57s\n",
      "237:\tlearn: 1.2405877\ttotal: 3.75s\tremaining: 2.55s\n",
      "238:\tlearn: 1.2388011\ttotal: 3.76s\tremaining: 2.53s\n",
      "239:\tlearn: 1.2368097\ttotal: 3.78s\tremaining: 2.52s\n",
      "240:\tlearn: 1.2346091\ttotal: 3.79s\tremaining: 2.5s\n",
      "241:\tlearn: 1.2335624\ttotal: 3.81s\tremaining: 2.49s\n",
      "242:\tlearn: 1.2309886\ttotal: 3.83s\tremaining: 2.47s\n",
      "243:\tlearn: 1.2293108\ttotal: 3.84s\tremaining: 2.46s\n",
      "244:\tlearn: 1.2280263\ttotal: 3.86s\tremaining: 2.44s\n",
      "245:\tlearn: 1.2273252\ttotal: 3.88s\tremaining: 2.43s\n",
      "246:\tlearn: 1.2264926\ttotal: 3.9s\tremaining: 2.42s\n",
      "247:\tlearn: 1.2252566\ttotal: 3.91s\tremaining: 2.4s\n",
      "248:\tlearn: 1.2242609\ttotal: 3.92s\tremaining: 2.38s\n",
      "249:\tlearn: 1.2235644\ttotal: 3.94s\tremaining: 2.36s\n",
      "250:\tlearn: 1.2225931\ttotal: 3.96s\tremaining: 2.35s\n",
      "251:\tlearn: 1.2209567\ttotal: 3.97s\tremaining: 2.33s\n",
      "252:\tlearn: 1.2199562\ttotal: 3.99s\tremaining: 2.32s\n",
      "253:\tlearn: 1.2181984\ttotal: 4s\tremaining: 2.3s\n",
      "254:\tlearn: 1.2173129\ttotal: 4.02s\tremaining: 2.29s\n",
      "255:\tlearn: 1.2166004\ttotal: 4.03s\tremaining: 2.27s\n",
      "256:\tlearn: 1.2141889\ttotal: 4.04s\tremaining: 2.25s\n",
      "257:\tlearn: 1.2127819\ttotal: 4.05s\tremaining: 2.23s\n",
      "258:\tlearn: 1.2121004\ttotal: 4.07s\tremaining: 2.22s\n",
      "259:\tlearn: 1.2099116\ttotal: 4.09s\tremaining: 2.2s\n",
      "260:\tlearn: 1.2090784\ttotal: 4.11s\tremaining: 2.19s\n",
      "261:\tlearn: 1.2082619\ttotal: 4.12s\tremaining: 2.17s\n",
      "262:\tlearn: 1.2070354\ttotal: 4.14s\tremaining: 2.16s\n",
      "263:\tlearn: 1.2053752\ttotal: 4.14s\tremaining: 2.13s\n",
      "264:\tlearn: 1.2045704\ttotal: 4.17s\tremaining: 2.12s\n",
      "265:\tlearn: 1.2030138\ttotal: 4.18s\tremaining: 2.11s\n",
      "266:\tlearn: 1.2012898\ttotal: 4.2s\tremaining: 2.09s\n",
      "267:\tlearn: 1.2000352\ttotal: 4.21s\tremaining: 2.08s\n",
      "268:\tlearn: 1.1990168\ttotal: 4.23s\tremaining: 2.06s\n",
      "269:\tlearn: 1.1983791\ttotal: 4.23s\tremaining: 2.04s\n",
      "270:\tlearn: 1.1976299\ttotal: 4.25s\tremaining: 2.02s\n",
      "271:\tlearn: 1.1964422\ttotal: 4.26s\tremaining: 2.01s\n",
      "272:\tlearn: 1.1942827\ttotal: 4.27s\tremaining: 1.99s\n",
      "273:\tlearn: 1.1935855\ttotal: 4.28s\tremaining: 1.97s\n",
      "274:\tlearn: 1.1928163\ttotal: 4.28s\tremaining: 1.95s\n",
      "275:\tlearn: 1.1921851\ttotal: 4.29s\tremaining: 1.93s\n",
      "276:\tlearn: 1.1900812\ttotal: 4.3s\tremaining: 1.91s\n",
      "277:\tlearn: 1.1880229\ttotal: 4.31s\tremaining: 1.89s\n",
      "278:\tlearn: 1.1873965\ttotal: 4.32s\tremaining: 1.87s\n",
      "279:\tlearn: 1.1863017\ttotal: 4.32s\tremaining: 1.85s\n",
      "280:\tlearn: 1.1855766\ttotal: 4.32s\tremaining: 1.83s\n",
      "281:\tlearn: 1.1844724\ttotal: 4.33s\tremaining: 1.81s\n",
      "282:\tlearn: 1.1822153\ttotal: 4.34s\tremaining: 1.79s\n",
      "283:\tlearn: 1.1814770\ttotal: 4.34s\tremaining: 1.77s\n",
      "284:\tlearn: 1.1800823\ttotal: 4.36s\tremaining: 1.76s\n",
      "285:\tlearn: 1.1783418\ttotal: 4.38s\tremaining: 1.75s\n",
      "286:\tlearn: 1.1763815\ttotal: 4.39s\tremaining: 1.73s\n",
      "287:\tlearn: 1.1744491\ttotal: 4.41s\tremaining: 1.71s\n",
      "288:\tlearn: 1.1734016\ttotal: 4.42s\tremaining: 1.7s\n",
      "289:\tlearn: 1.1714827\ttotal: 4.43s\tremaining: 1.68s\n",
      "290:\tlearn: 1.1695802\ttotal: 4.44s\tremaining: 1.66s\n",
      "291:\tlearn: 1.1669870\ttotal: 4.45s\tremaining: 1.65s\n",
      "292:\tlearn: 1.1648683\ttotal: 4.46s\tremaining: 1.63s\n",
      "293:\tlearn: 1.1630460\ttotal: 4.46s\tremaining: 1.61s\n",
      "294:\tlearn: 1.1615673\ttotal: 4.47s\tremaining: 1.59s\n",
      "295:\tlearn: 1.1608071\ttotal: 4.49s\tremaining: 1.58s\n",
      "296:\tlearn: 1.1589886\ttotal: 4.49s\tremaining: 1.56s\n",
      "297:\tlearn: 1.1571959\ttotal: 4.49s\tremaining: 1.54s\n",
      "298:\tlearn: 1.1566108\ttotal: 4.5s\tremaining: 1.52s\n",
      "299:\tlearn: 1.1557367\ttotal: 4.5s\tremaining: 1.5s\n",
      "300:\tlearn: 1.1539968\ttotal: 4.5s\tremaining: 1.48s\n",
      "301:\tlearn: 1.1522485\ttotal: 4.51s\tremaining: 1.46s\n",
      "302:\tlearn: 1.1505250\ttotal: 4.52s\tremaining: 1.45s\n",
      "303:\tlearn: 1.1497929\ttotal: 4.52s\tremaining: 1.43s\n",
      "304:\tlearn: 1.1482577\ttotal: 4.53s\tremaining: 1.41s\n",
      "305:\tlearn: 1.1468233\ttotal: 4.54s\tremaining: 1.39s\n",
      "306:\tlearn: 1.1451323\ttotal: 4.55s\tremaining: 1.38s\n",
      "307:\tlearn: 1.1434843\ttotal: 4.55s\tremaining: 1.36s\n",
      "308:\tlearn: 1.1425838\ttotal: 4.56s\tremaining: 1.34s\n",
      "309:\tlearn: 1.1420761\ttotal: 4.56s\tremaining: 1.32s\n",
      "310:\tlearn: 1.1404170\ttotal: 4.57s\tremaining: 1.31s\n",
      "311:\tlearn: 1.1395265\ttotal: 4.57s\tremaining: 1.29s\n",
      "312:\tlearn: 1.1379060\ttotal: 4.57s\tremaining: 1.27s\n",
      "313:\tlearn: 1.1365582\ttotal: 4.58s\tremaining: 1.25s\n",
      "314:\tlearn: 1.1351761\ttotal: 4.59s\tremaining: 1.24s\n",
      "315:\tlearn: 1.1341435\ttotal: 4.61s\tremaining: 1.22s\n",
      "316:\tlearn: 1.1332742\ttotal: 4.61s\tremaining: 1.21s\n",
      "317:\tlearn: 1.1323170\ttotal: 4.61s\tremaining: 1.19s\n",
      "318:\tlearn: 1.1318268\ttotal: 4.61s\tremaining: 1.17s\n",
      "319:\tlearn: 1.1312931\ttotal: 4.62s\tremaining: 1.15s\n",
      "320:\tlearn: 1.1299351\ttotal: 4.62s\tremaining: 1.14s\n",
      "321:\tlearn: 1.1293416\ttotal: 4.63s\tremaining: 1.12s\n",
      "322:\tlearn: 1.1287970\ttotal: 4.63s\tremaining: 1.1s\n",
      "323:\tlearn: 1.1283009\ttotal: 4.64s\tremaining: 1.09s\n",
      "324:\tlearn: 1.1276623\ttotal: 4.65s\tremaining: 1.07s\n",
      "325:\tlearn: 1.1266066\ttotal: 4.66s\tremaining: 1.06s\n",
      "326:\tlearn: 1.1260286\ttotal: 4.67s\tremaining: 1.04s\n",
      "327:\tlearn: 1.1251668\ttotal: 4.68s\tremaining: 1.03s\n",
      "328:\tlearn: 1.1235643\ttotal: 4.68s\tremaining: 1.01s\n",
      "329:\tlearn: 1.1223360\ttotal: 4.68s\tremaining: 994ms\n",
      "330:\tlearn: 1.1210143\ttotal: 4.69s\tremaining: 978ms\n",
      "331:\tlearn: 1.1202803\ttotal: 4.7s\tremaining: 962ms\n",
      "332:\tlearn: 1.1197543\ttotal: 4.71s\tremaining: 947ms\n",
      "333:\tlearn: 1.1183249\ttotal: 4.73s\tremaining: 934ms\n",
      "334:\tlearn: 1.1168898\ttotal: 4.73s\tremaining: 918ms\n",
      "335:\tlearn: 1.1160714\ttotal: 4.74s\tremaining: 902ms\n",
      "336:\tlearn: 1.1145271\ttotal: 4.74s\tremaining: 886ms\n",
      "337:\tlearn: 1.1128608\ttotal: 4.74s\tremaining: 870ms\n",
      "338:\tlearn: 1.1119046\ttotal: 4.76s\tremaining: 856ms\n",
      "339:\tlearn: 1.1114085\ttotal: 4.76s\tremaining: 841ms\n",
      "340:\tlearn: 1.1097120\ttotal: 4.77s\tremaining: 826ms\n",
      "341:\tlearn: 1.1079812\ttotal: 4.79s\tremaining: 813ms\n",
      "342:\tlearn: 1.1073211\ttotal: 4.8s\tremaining: 798ms\n",
      "343:\tlearn: 1.1054920\ttotal: 4.82s\tremaining: 785ms\n",
      "344:\tlearn: 1.1051173\ttotal: 4.84s\tremaining: 771ms\n",
      "345:\tlearn: 1.1038518\ttotal: 4.84s\tremaining: 756ms\n",
      "346:\tlearn: 1.1031109\ttotal: 4.86s\tremaining: 742ms\n"
     ]
    },
    {
     "name": "stdout",
     "output_type": "stream",
     "text": [
      "347:\tlearn: 1.1027303\ttotal: 4.88s\tremaining: 729ms\n",
      "348:\tlearn: 1.1004073\ttotal: 4.89s\tremaining: 715ms\n",
      "349:\tlearn: 1.0996184\ttotal: 4.9s\tremaining: 701ms\n",
      "350:\tlearn: 1.0982474\ttotal: 4.92s\tremaining: 687ms\n",
      "351:\tlearn: 1.0969903\ttotal: 4.93s\tremaining: 673ms\n",
      "352:\tlearn: 1.0965095\ttotal: 4.95s\tremaining: 659ms\n",
      "353:\tlearn: 1.0957898\ttotal: 4.96s\tremaining: 645ms\n",
      "354:\tlearn: 1.0952699\ttotal: 4.98s\tremaining: 632ms\n",
      "355:\tlearn: 1.0938636\ttotal: 5s\tremaining: 618ms\n",
      "356:\tlearn: 1.0923093\ttotal: 5.02s\tremaining: 605ms\n",
      "357:\tlearn: 1.0914208\ttotal: 5.03s\tremaining: 591ms\n",
      "358:\tlearn: 1.0906538\ttotal: 5.05s\tremaining: 577ms\n",
      "359:\tlearn: 1.0894178\ttotal: 5.06s\tremaining: 562ms\n",
      "360:\tlearn: 1.0880840\ttotal: 5.08s\tremaining: 548ms\n",
      "361:\tlearn: 1.0876560\ttotal: 5.09s\tremaining: 535ms\n",
      "362:\tlearn: 1.0873141\ttotal: 5.11s\tremaining: 521ms\n",
      "363:\tlearn: 1.0864831\ttotal: 5.13s\tremaining: 508ms\n",
      "364:\tlearn: 1.0848554\ttotal: 5.15s\tremaining: 494ms\n",
      "365:\tlearn: 1.0843940\ttotal: 5.16s\tremaining: 479ms\n",
      "366:\tlearn: 1.0832530\ttotal: 5.17s\tremaining: 465ms\n",
      "367:\tlearn: 1.0820825\ttotal: 5.19s\tremaining: 451ms\n",
      "368:\tlearn: 1.0807124\ttotal: 5.21s\tremaining: 438ms\n",
      "369:\tlearn: 1.0793635\ttotal: 5.21s\tremaining: 422ms\n",
      "370:\tlearn: 1.0777846\ttotal: 5.23s\tremaining: 409ms\n",
      "371:\tlearn: 1.0773099\ttotal: 5.25s\tremaining: 395ms\n",
      "372:\tlearn: 1.0768662\ttotal: 5.26s\tremaining: 381ms\n",
      "373:\tlearn: 1.0757198\ttotal: 5.26s\tremaining: 366ms\n",
      "374:\tlearn: 1.0740720\ttotal: 5.28s\tremaining: 352ms\n",
      "375:\tlearn: 1.0737218\ttotal: 5.29s\tremaining: 338ms\n",
      "376:\tlearn: 1.0732939\ttotal: 5.29s\tremaining: 323ms\n",
      "377:\tlearn: 1.0723537\ttotal: 5.3s\tremaining: 309ms\n",
      "378:\tlearn: 1.0721751\ttotal: 5.32s\tremaining: 295ms\n",
      "379:\tlearn: 1.0715775\ttotal: 5.34s\tremaining: 281ms\n",
      "380:\tlearn: 1.0706405\ttotal: 5.36s\tremaining: 267ms\n",
      "381:\tlearn: 1.0702172\ttotal: 5.36s\tremaining: 252ms\n",
      "382:\tlearn: 1.0699236\ttotal: 5.37s\tremaining: 239ms\n",
      "383:\tlearn: 1.0695287\ttotal: 5.39s\tremaining: 225ms\n",
      "384:\tlearn: 1.0686034\ttotal: 5.4s\tremaining: 211ms\n",
      "385:\tlearn: 1.0678458\ttotal: 5.41s\tremaining: 196ms\n",
      "386:\tlearn: 1.0673138\ttotal: 5.42s\tremaining: 182ms\n",
      "387:\tlearn: 1.0667652\ttotal: 5.43s\tremaining: 168ms\n",
      "388:\tlearn: 1.0663478\ttotal: 5.44s\tremaining: 154ms\n",
      "389:\tlearn: 1.0655231\ttotal: 5.44s\tremaining: 139ms\n",
      "390:\tlearn: 1.0651882\ttotal: 5.44s\tremaining: 125ms\n",
      "391:\tlearn: 1.0648784\ttotal: 5.46s\tremaining: 111ms\n",
      "392:\tlearn: 1.0635098\ttotal: 5.46s\tremaining: 97.3ms\n",
      "393:\tlearn: 1.0617210\ttotal: 5.48s\tremaining: 83.4ms\n",
      "394:\tlearn: 1.0615068\ttotal: 5.5s\tremaining: 69.6ms\n",
      "395:\tlearn: 1.0613393\ttotal: 5.51s\tremaining: 55.6ms\n",
      "396:\tlearn: 1.0611153\ttotal: 5.53s\tremaining: 41.8ms\n",
      "397:\tlearn: 1.0606919\ttotal: 5.53s\tremaining: 27.8ms\n",
      "398:\tlearn: 1.0604989\ttotal: 5.54s\tremaining: 13.9ms\n",
      "399:\tlearn: 1.0603693\ttotal: 5.56s\tremaining: 0us\n"
     ]
    },
    {
     "data": {
      "text/plain": [
       "<catboost.core.CatBoostRegressor at 0x25c42572828>"
      ]
     },
     "execution_count": 251,
     "metadata": {},
     "output_type": "execute_result"
    }
   ],
   "source": [
    "cb.fit(x_train,y_train,cat_features=cat_features_index)"
   ]
  },
  {
   "cell_type": "code",
   "execution_count": 252,
   "metadata": {},
   "outputs": [
    {
     "data": {
      "text/plain": [
       "0.7621118920836301"
      ]
     },
     "execution_count": 252,
     "metadata": {},
     "output_type": "execute_result"
    }
   ],
   "source": [
    "cb.score(x_train,y_train)"
   ]
  },
  {
   "cell_type": "code",
   "execution_count": 253,
   "metadata": {},
   "outputs": [],
   "source": [
    "y_pred = cb.predict(x_test)"
   ]
  },
  {
   "cell_type": "code",
   "execution_count": 254,
   "metadata": {},
   "outputs": [],
   "source": [
    "from sklearn.metrics import r2_score,mean_squared_error,mean_absolute_error"
   ]
  },
  {
   "cell_type": "code",
   "execution_count": 255,
   "metadata": {},
   "outputs": [
    {
     "data": {
      "text/plain": [
       "0.7293829017413725"
      ]
     },
     "execution_count": 255,
     "metadata": {},
     "output_type": "execute_result"
    }
   ],
   "source": [
    "r2_score(y_test,y_pred)"
   ]
  },
  {
   "cell_type": "code",
   "execution_count": 256,
   "metadata": {},
   "outputs": [
    {
     "data": {
      "text/plain": [
       "0.7608298520671232"
      ]
     },
     "execution_count": 256,
     "metadata": {},
     "output_type": "execute_result"
    }
   ],
   "source": [
    "mean_absolute_error(y_test,y_pred)"
   ]
  },
  {
   "cell_type": "code",
   "execution_count": 257,
   "metadata": {},
   "outputs": [
    {
     "data": {
      "text/plain": [
       "0.1228867235626524"
      ]
     },
     "execution_count": 257,
     "metadata": {},
     "output_type": "execute_result"
    }
   ],
   "source": [
    "MAPE(y_test,y_pred)"
   ]
  },
  {
   "cell_type": "markdown",
   "metadata": {},
   "source": [
    "# Unique Values Preprocessing"
   ]
  },
  {
   "cell_type": "code",
   "execution_count": 258,
   "metadata": {},
   "outputs": [
    {
     "data": {
      "text/plain": [
       "array(['Louisa', 'Buckingham'], dtype=object)"
      ]
     },
     "execution_count": 258,
     "metadata": {},
     "output_type": "execute_result"
    }
   ],
   "source": [
    "x_train[\"location\"].unique()"
   ]
  },
  {
   "cell_type": "code",
   "execution_count": 259,
   "metadata": {},
   "outputs": [
    {
     "data": {
      "text/plain": [
       "array(['male', 'female'], dtype=object)"
      ]
     },
     "execution_count": 259,
     "metadata": {},
     "output_type": "execute_result"
    }
   ],
   "source": [
    "x_train[\"gender\"].unique()"
   ]
  },
  {
   "cell_type": "code",
   "execution_count": 260,
   "metadata": {},
   "outputs": [
    {
     "data": {
      "text/plain": [
       "array(['small', 'medium', 'large'], dtype=object)"
      ]
     },
     "execution_count": 260,
     "metadata": {},
     "output_type": "execute_result"
    }
   ],
   "source": [
    "x_train[\"frame\"].unique()"
   ]
  },
  {
   "cell_type": "markdown",
   "metadata": {},
   "source": [
    "# Label Encoding"
   ]
  },
  {
   "cell_type": "code",
   "execution_count": 261,
   "metadata": {},
   "outputs": [],
   "source": [
    "from sklearn.preprocessing import LabelEncoder"
   ]
  },
  {
   "cell_type": "code",
   "execution_count": 262,
   "metadata": {},
   "outputs": [],
   "source": [
    "le = LabelEncoder()"
   ]
  },
  {
   "cell_type": "code",
   "execution_count": 263,
   "metadata": {},
   "outputs": [],
   "source": [
    "combine = x_train.append(x_test)"
   ]
  },
  {
   "cell_type": "code",
   "execution_count": 264,
   "metadata": {},
   "outputs": [
    {
     "data": {
      "text/plain": [
       "(403, 15)"
      ]
     },
     "execution_count": 264,
     "metadata": {},
     "output_type": "execute_result"
    }
   ],
   "source": [
    "combine.shape"
   ]
  },
  {
   "cell_type": "code",
   "execution_count": 265,
   "metadata": {},
   "outputs": [],
   "source": [
    "combine[\"location\"] = le.fit_transform(combine[\"location\"])"
   ]
  },
  {
   "cell_type": "code",
   "execution_count": 266,
   "metadata": {},
   "outputs": [],
   "source": [
    "combine[\"gender\"] = le.fit_transform(combine[\"gender\"])"
   ]
  },
  {
   "cell_type": "code",
   "execution_count": 267,
   "metadata": {},
   "outputs": [],
   "source": [
    "combine[\"frame\"] = le.fit_transform(combine[\"frame\"])"
   ]
  },
  {
   "cell_type": "markdown",
   "metadata": {},
   "source": [
    "# One Hot Encoding"
   ]
  },
  {
   "cell_type": "code",
   "execution_count": 268,
   "metadata": {},
   "outputs": [
    {
     "data": {
      "text/html": [
       "<div>\n",
       "<style scoped>\n",
       "    .dataframe tbody tr th:only-of-type {\n",
       "        vertical-align: middle;\n",
       "    }\n",
       "\n",
       "    .dataframe tbody tr th {\n",
       "        vertical-align: top;\n",
       "    }\n",
       "\n",
       "    .dataframe thead th {\n",
       "        text-align: right;\n",
       "    }\n",
       "</style>\n",
       "<table border=\"1\" class=\"dataframe\">\n",
       "  <thead>\n",
       "    <tr style=\"text-align: right;\">\n",
       "      <th></th>\n",
       "      <th>chol</th>\n",
       "      <th>stab.glu</th>\n",
       "      <th>hdl</th>\n",
       "      <th>ratio</th>\n",
       "      <th>location</th>\n",
       "      <th>age</th>\n",
       "      <th>gender</th>\n",
       "      <th>height</th>\n",
       "      <th>weight</th>\n",
       "      <th>frame</th>\n",
       "      <th>bp.1s</th>\n",
       "      <th>bp.1d</th>\n",
       "      <th>waist</th>\n",
       "      <th>hip</th>\n",
       "      <th>time.ppn</th>\n",
       "    </tr>\n",
       "  </thead>\n",
       "  <tbody>\n",
       "    <tr>\n",
       "      <th>353</th>\n",
       "      <td>-0.041417</td>\n",
       "      <td>-0.446559</td>\n",
       "      <td>1.020010</td>\n",
       "      <td>-1.001985</td>\n",
       "      <td>1</td>\n",
       "      <td>0.316036</td>\n",
       "      <td>1</td>\n",
       "      <td>0.766256</td>\n",
       "      <td>-0.610801</td>\n",
       "      <td>2</td>\n",
       "      <td>0.137639</td>\n",
       "      <td>1.089433</td>\n",
       "      <td>-0.332110</td>\n",
       "      <td>-0.538447</td>\n",
       "      <td>-0.472201</td>\n",
       "    </tr>\n",
       "    <tr>\n",
       "      <th>233</th>\n",
       "      <td>-0.266969</td>\n",
       "      <td>0.157092</td>\n",
       "      <td>0.671602</td>\n",
       "      <td>-0.816145</td>\n",
       "      <td>1</td>\n",
       "      <td>0.193277</td>\n",
       "      <td>1</td>\n",
       "      <td>0.252016</td>\n",
       "      <td>-0.933853</td>\n",
       "      <td>1</td>\n",
       "      <td>1.732583</td>\n",
       "      <td>1.979081</td>\n",
       "      <td>-0.507293</td>\n",
       "      <td>-1.070731</td>\n",
       "      <td>-0.910336</td>\n",
       "    </tr>\n",
       "    <tr>\n",
       "      <th>3</th>\n",
       "      <td>-2.928491</td>\n",
       "      <td>-0.257919</td>\n",
       "      <td>-2.231804</td>\n",
       "      <td>1.224437</td>\n",
       "      <td>0</td>\n",
       "      <td>1.236729</td>\n",
       "      <td>1</td>\n",
       "      <td>0.252016</td>\n",
       "      <td>-1.455706</td>\n",
       "      <td>0</td>\n",
       "      <td>-1.191480</td>\n",
       "      <td>-2.469160</td>\n",
       "      <td>-0.857660</td>\n",
       "      <td>-0.893303</td>\n",
       "      <td>0.452752</td>\n",
       "    </tr>\n",
       "    <tr>\n",
       "      <th>18</th>\n",
       "      <td>-0.312080</td>\n",
       "      <td>-0.484288</td>\n",
       "      <td>-0.838169</td>\n",
       "      <td>0.690563</td>\n",
       "      <td>1</td>\n",
       "      <td>-0.666036</td>\n",
       "      <td>1</td>\n",
       "      <td>-0.519344</td>\n",
       "      <td>-1.281755</td>\n",
       "      <td>1</td>\n",
       "      <td>-1.191480</td>\n",
       "      <td>-0.541589</td>\n",
       "      <td>-1.383211</td>\n",
       "      <td>-1.603015</td>\n",
       "      <td>-0.715609</td>\n",
       "    </tr>\n",
       "    <tr>\n",
       "      <th>131</th>\n",
       "      <td>-0.447411</td>\n",
       "      <td>-0.559744</td>\n",
       "      <td>-0.315556</td>\n",
       "      <td>-0.033104</td>\n",
       "      <td>1</td>\n",
       "      <td>-0.972934</td>\n",
       "      <td>0</td>\n",
       "      <td>0.252016</td>\n",
       "      <td>1.228108</td>\n",
       "      <td>1</td>\n",
       "      <td>-0.659833</td>\n",
       "      <td>-0.986413</td>\n",
       "      <td>1.594909</td>\n",
       "      <td>1.768115</td>\n",
       "      <td>-0.650700</td>\n",
       "    </tr>\n",
       "    <tr>\n",
       "      <th>...</th>\n",
       "      <td>...</td>\n",
       "      <td>...</td>\n",
       "      <td>...</td>\n",
       "      <td>...</td>\n",
       "      <td>...</td>\n",
       "      <td>...</td>\n",
       "      <td>...</td>\n",
       "      <td>...</td>\n",
       "      <td>...</td>\n",
       "      <td>...</td>\n",
       "      <td>...</td>\n",
       "      <td>...</td>\n",
       "      <td>...</td>\n",
       "      <td>...</td>\n",
       "      <td>...</td>\n",
       "    </tr>\n",
       "    <tr>\n",
       "      <th>45</th>\n",
       "      <td>0.793128</td>\n",
       "      <td>-1.031346</td>\n",
       "      <td>0.497397</td>\n",
       "      <td>-0.102494</td>\n",
       "      <td>0</td>\n",
       "      <td>-0.604657</td>\n",
       "      <td>0</td>\n",
       "      <td>-0.519344</td>\n",
       "      <td>1.377209</td>\n",
       "      <td>1</td>\n",
       "      <td>-1.191480</td>\n",
       "      <td>-0.096765</td>\n",
       "      <td>1.945276</td>\n",
       "      <td>2.477827</td>\n",
       "      <td>-0.812973</td>\n",
       "    </tr>\n",
       "    <tr>\n",
       "      <th>90</th>\n",
       "      <td>-1.101514</td>\n",
       "      <td>-0.352239</td>\n",
       "      <td>-0.431692</td>\n",
       "      <td>-0.398089</td>\n",
       "      <td>1</td>\n",
       "      <td>-0.543277</td>\n",
       "      <td>1</td>\n",
       "      <td>0.509136</td>\n",
       "      <td>-0.213199</td>\n",
       "      <td>0</td>\n",
       "      <td>0.049031</td>\n",
       "      <td>-0.319177</td>\n",
       "      <td>-0.682477</td>\n",
       "      <td>-0.538447</td>\n",
       "      <td>1.134296</td>\n",
       "    </tr>\n",
       "    <tr>\n",
       "      <th>248</th>\n",
       "      <td>0.657797</td>\n",
       "      <td>0.213684</td>\n",
       "      <td>-0.315556</td>\n",
       "      <td>0.636739</td>\n",
       "      <td>0</td>\n",
       "      <td>1.605006</td>\n",
       "      <td>0</td>\n",
       "      <td>-0.519344</td>\n",
       "      <td>-0.088949</td>\n",
       "      <td>0</td>\n",
       "      <td>1.112327</td>\n",
       "      <td>-0.615726</td>\n",
       "      <td>0.018257</td>\n",
       "      <td>0.171264</td>\n",
       "      <td>-0.131429</td>\n",
       "    </tr>\n",
       "    <tr>\n",
       "      <th>337</th>\n",
       "      <td>1.199123</td>\n",
       "      <td>-0.107006</td>\n",
       "      <td>1.891032</td>\n",
       "      <td>-0.907566</td>\n",
       "      <td>1</td>\n",
       "      <td>0.316036</td>\n",
       "      <td>0</td>\n",
       "      <td>-0.519344</td>\n",
       "      <td>0.507454</td>\n",
       "      <td>1</td>\n",
       "      <td>0.669287</td>\n",
       "      <td>0.644608</td>\n",
       "      <td>0.718992</td>\n",
       "      <td>1.058404</td>\n",
       "      <td>-1.040154</td>\n",
       "    </tr>\n",
       "    <tr>\n",
       "      <th>390</th>\n",
       "      <td>-0.266969</td>\n",
       "      <td>0.251412</td>\n",
       "      <td>0.961942</td>\n",
       "      <td>-1.099606</td>\n",
       "      <td>1</td>\n",
       "      <td>0.316036</td>\n",
       "      <td>0</td>\n",
       "      <td>-1.033584</td>\n",
       "      <td>-0.759902</td>\n",
       "      <td>1</td>\n",
       "      <td>0.314855</td>\n",
       "      <td>0.792883</td>\n",
       "      <td>-0.682477</td>\n",
       "      <td>-0.183592</td>\n",
       "      <td>0.452752</td>\n",
       "    </tr>\n",
       "  </tbody>\n",
       "</table>\n",
       "<p>403 rows × 15 columns</p>\n",
       "</div>"
      ],
      "text/plain": [
       "         chol  stab.glu       hdl     ratio  location       age  gender  \\\n",
       "353 -0.041417 -0.446559  1.020010 -1.001985         1  0.316036       1   \n",
       "233 -0.266969  0.157092  0.671602 -0.816145         1  0.193277       1   \n",
       "3   -2.928491 -0.257919 -2.231804  1.224437         0  1.236729       1   \n",
       "18  -0.312080 -0.484288 -0.838169  0.690563         1 -0.666036       1   \n",
       "131 -0.447411 -0.559744 -0.315556 -0.033104         1 -0.972934       0   \n",
       "..        ...       ...       ...       ...       ...       ...     ...   \n",
       "45   0.793128 -1.031346  0.497397 -0.102494         0 -0.604657       0   \n",
       "90  -1.101514 -0.352239 -0.431692 -0.398089         1 -0.543277       1   \n",
       "248  0.657797  0.213684 -0.315556  0.636739         0  1.605006       0   \n",
       "337  1.199123 -0.107006  1.891032 -0.907566         1  0.316036       0   \n",
       "390 -0.266969  0.251412  0.961942 -1.099606         1  0.316036       0   \n",
       "\n",
       "       height    weight  frame     bp.1s     bp.1d     waist       hip  \\\n",
       "353  0.766256 -0.610801      2  0.137639  1.089433 -0.332110 -0.538447   \n",
       "233  0.252016 -0.933853      1  1.732583  1.979081 -0.507293 -1.070731   \n",
       "3    0.252016 -1.455706      0 -1.191480 -2.469160 -0.857660 -0.893303   \n",
       "18  -0.519344 -1.281755      1 -1.191480 -0.541589 -1.383211 -1.603015   \n",
       "131  0.252016  1.228108      1 -0.659833 -0.986413  1.594909  1.768115   \n",
       "..        ...       ...    ...       ...       ...       ...       ...   \n",
       "45  -0.519344  1.377209      1 -1.191480 -0.096765  1.945276  2.477827   \n",
       "90   0.509136 -0.213199      0  0.049031 -0.319177 -0.682477 -0.538447   \n",
       "248 -0.519344 -0.088949      0  1.112327 -0.615726  0.018257  0.171264   \n",
       "337 -0.519344  0.507454      1  0.669287  0.644608  0.718992  1.058404   \n",
       "390 -1.033584 -0.759902      1  0.314855  0.792883 -0.682477 -0.183592   \n",
       "\n",
       "     time.ppn  \n",
       "353 -0.472201  \n",
       "233 -0.910336  \n",
       "3    0.452752  \n",
       "18  -0.715609  \n",
       "131 -0.650700  \n",
       "..        ...  \n",
       "45  -0.812973  \n",
       "90   1.134296  \n",
       "248 -0.131429  \n",
       "337 -1.040154  \n",
       "390  0.452752  \n",
       "\n",
       "[403 rows x 15 columns]"
      ]
     },
     "execution_count": 268,
     "metadata": {},
     "output_type": "execute_result"
    }
   ],
   "source": [
    "combine"
   ]
  },
  {
   "cell_type": "code",
   "execution_count": 168,
   "metadata": {},
   "outputs": [],
   "source": [
    "from sklearn.preprocessing import OneHotEncoder"
   ]
  },
  {
   "cell_type": "code",
   "execution_count": 169,
   "metadata": {},
   "outputs": [],
   "source": [
    "combine = pd.concat([combine,pd.get_dummies(combine[\"frame\"])],axis=1)\n",
    "combine.drop(columns=\"frame\",inplace=True)"
   ]
  },
  {
   "cell_type": "code",
   "execution_count": 133,
   "metadata": {},
   "outputs": [
    {
     "data": {
      "text/html": [
       "<div>\n",
       "<style scoped>\n",
       "    .dataframe tbody tr th:only-of-type {\n",
       "        vertical-align: middle;\n",
       "    }\n",
       "\n",
       "    .dataframe tbody tr th {\n",
       "        vertical-align: top;\n",
       "    }\n",
       "\n",
       "    .dataframe thead th {\n",
       "        text-align: right;\n",
       "    }\n",
       "</style>\n",
       "<table border=\"1\" class=\"dataframe\">\n",
       "  <thead>\n",
       "    <tr style=\"text-align: right;\">\n",
       "      <th></th>\n",
       "      <th>chol</th>\n",
       "      <th>stab.glu</th>\n",
       "      <th>hdl</th>\n",
       "      <th>ratio</th>\n",
       "      <th>glyhb</th>\n",
       "      <th>location</th>\n",
       "      <th>age</th>\n",
       "      <th>gender</th>\n",
       "      <th>height</th>\n",
       "      <th>weight</th>\n",
       "      <th>frame</th>\n",
       "      <th>bp.1s</th>\n",
       "      <th>bp.1d</th>\n",
       "      <th>waist</th>\n",
       "      <th>hip</th>\n",
       "      <th>time.ppn</th>\n",
       "    </tr>\n",
       "  </thead>\n",
       "  <tbody>\n",
       "    <tr>\n",
       "      <th>353</th>\n",
       "      <td>-0.041417</td>\n",
       "      <td>-0.446559</td>\n",
       "      <td>1.020010</td>\n",
       "      <td>1.098612</td>\n",
       "      <td>4.88</td>\n",
       "      <td>1</td>\n",
       "      <td>52</td>\n",
       "      <td>1</td>\n",
       "      <td>69.0</td>\n",
       "      <td>-0.610801</td>\n",
       "      <td>2</td>\n",
       "      <td>140.0</td>\n",
       "      <td>98.0</td>\n",
       "      <td>-0.332110</td>\n",
       "      <td>40.0</td>\n",
       "      <td>195.0</td>\n",
       "    </tr>\n",
       "    <tr>\n",
       "      <th>233</th>\n",
       "      <td>-0.266969</td>\n",
       "      <td>0.157092</td>\n",
       "      <td>0.671602</td>\n",
       "      <td>1.163151</td>\n",
       "      <td>4.34</td>\n",
       "      <td>1</td>\n",
       "      <td>50</td>\n",
       "      <td>1</td>\n",
       "      <td>67.0</td>\n",
       "      <td>-0.933853</td>\n",
       "      <td>1</td>\n",
       "      <td>176.0</td>\n",
       "      <td>110.0</td>\n",
       "      <td>-0.507293</td>\n",
       "      <td>37.0</td>\n",
       "      <td>60.0</td>\n",
       "    </tr>\n",
       "    <tr>\n",
       "      <th>3</th>\n",
       "      <td>-2.928491</td>\n",
       "      <td>-0.257919</td>\n",
       "      <td>-2.231804</td>\n",
       "      <td>1.871802</td>\n",
       "      <td>4.63</td>\n",
       "      <td>0</td>\n",
       "      <td>67</td>\n",
       "      <td>1</td>\n",
       "      <td>67.0</td>\n",
       "      <td>-1.455706</td>\n",
       "      <td>0</td>\n",
       "      <td>110.0</td>\n",
       "      <td>50.0</td>\n",
       "      <td>-0.857660</td>\n",
       "      <td>38.0</td>\n",
       "      <td>480.0</td>\n",
       "    </tr>\n",
       "    <tr>\n",
       "      <th>18</th>\n",
       "      <td>-0.312080</td>\n",
       "      <td>-0.484288</td>\n",
       "      <td>-0.838169</td>\n",
       "      <td>1.686399</td>\n",
       "      <td>5.28</td>\n",
       "      <td>1</td>\n",
       "      <td>36</td>\n",
       "      <td>1</td>\n",
       "      <td>64.0</td>\n",
       "      <td>-1.281755</td>\n",
       "      <td>1</td>\n",
       "      <td>110.0</td>\n",
       "      <td>76.0</td>\n",
       "      <td>-1.383211</td>\n",
       "      <td>34.0</td>\n",
       "      <td>120.0</td>\n",
       "    </tr>\n",
       "    <tr>\n",
       "      <th>131</th>\n",
       "      <td>-0.447411</td>\n",
       "      <td>-0.559744</td>\n",
       "      <td>-0.315556</td>\n",
       "      <td>1.435084</td>\n",
       "      <td>4.79</td>\n",
       "      <td>1</td>\n",
       "      <td>31</td>\n",
       "      <td>0</td>\n",
       "      <td>67.0</td>\n",
       "      <td>1.228108</td>\n",
       "      <td>1</td>\n",
       "      <td>122.0</td>\n",
       "      <td>70.0</td>\n",
       "      <td>1.594909</td>\n",
       "      <td>53.0</td>\n",
       "      <td>140.0</td>\n",
       "    </tr>\n",
       "    <tr>\n",
       "      <th>...</th>\n",
       "      <td>...</td>\n",
       "      <td>...</td>\n",
       "      <td>...</td>\n",
       "      <td>...</td>\n",
       "      <td>...</td>\n",
       "      <td>...</td>\n",
       "      <td>...</td>\n",
       "      <td>...</td>\n",
       "      <td>...</td>\n",
       "      <td>...</td>\n",
       "      <td>...</td>\n",
       "      <td>...</td>\n",
       "      <td>...</td>\n",
       "      <td>...</td>\n",
       "      <td>...</td>\n",
       "      <td>...</td>\n",
       "    </tr>\n",
       "    <tr>\n",
       "      <th>45</th>\n",
       "      <td>0.793128</td>\n",
       "      <td>-1.031346</td>\n",
       "      <td>0.497397</td>\n",
       "      <td>1.410987</td>\n",
       "      <td>4.41</td>\n",
       "      <td>0</td>\n",
       "      <td>37</td>\n",
       "      <td>0</td>\n",
       "      <td>64.0</td>\n",
       "      <td>1.377209</td>\n",
       "      <td>1</td>\n",
       "      <td>110.0</td>\n",
       "      <td>82.0</td>\n",
       "      <td>1.945276</td>\n",
       "      <td>57.0</td>\n",
       "      <td>90.0</td>\n",
       "    </tr>\n",
       "    <tr>\n",
       "      <th>90</th>\n",
       "      <td>-1.101514</td>\n",
       "      <td>-0.352239</td>\n",
       "      <td>-0.431692</td>\n",
       "      <td>1.308333</td>\n",
       "      <td>5.02</td>\n",
       "      <td>1</td>\n",
       "      <td>38</td>\n",
       "      <td>1</td>\n",
       "      <td>68.0</td>\n",
       "      <td>-0.213199</td>\n",
       "      <td>0</td>\n",
       "      <td>138.0</td>\n",
       "      <td>79.0</td>\n",
       "      <td>-0.682477</td>\n",
       "      <td>40.0</td>\n",
       "      <td>690.0</td>\n",
       "    </tr>\n",
       "    <tr>\n",
       "      <th>248</th>\n",
       "      <td>0.657797</td>\n",
       "      <td>0.213684</td>\n",
       "      <td>-0.315556</td>\n",
       "      <td>1.667707</td>\n",
       "      <td>7.51</td>\n",
       "      <td>0</td>\n",
       "      <td>73</td>\n",
       "      <td>0</td>\n",
       "      <td>64.0</td>\n",
       "      <td>-0.088949</td>\n",
       "      <td>0</td>\n",
       "      <td>162.0</td>\n",
       "      <td>75.0</td>\n",
       "      <td>0.018257</td>\n",
       "      <td>44.0</td>\n",
       "      <td>300.0</td>\n",
       "    </tr>\n",
       "    <tr>\n",
       "      <th>337</th>\n",
       "      <td>1.199123</td>\n",
       "      <td>-0.107006</td>\n",
       "      <td>1.891032</td>\n",
       "      <td>1.131402</td>\n",
       "      <td>5.12</td>\n",
       "      <td>1</td>\n",
       "      <td>52</td>\n",
       "      <td>0</td>\n",
       "      <td>64.0</td>\n",
       "      <td>0.507454</td>\n",
       "      <td>1</td>\n",
       "      <td>152.0</td>\n",
       "      <td>92.0</td>\n",
       "      <td>0.718992</td>\n",
       "      <td>49.0</td>\n",
       "      <td>20.0</td>\n",
       "    </tr>\n",
       "    <tr>\n",
       "      <th>390</th>\n",
       "      <td>-0.266969</td>\n",
       "      <td>0.251412</td>\n",
       "      <td>0.961942</td>\n",
       "      <td>1.064711</td>\n",
       "      <td>9.37</td>\n",
       "      <td>1</td>\n",
       "      <td>52</td>\n",
       "      <td>0</td>\n",
       "      <td>62.0</td>\n",
       "      <td>-0.759902</td>\n",
       "      <td>1</td>\n",
       "      <td>144.0</td>\n",
       "      <td>94.0</td>\n",
       "      <td>-0.682477</td>\n",
       "      <td>42.0</td>\n",
       "      <td>480.0</td>\n",
       "    </tr>\n",
       "  </tbody>\n",
       "</table>\n",
       "<p>403 rows × 16 columns</p>\n",
       "</div>"
      ],
      "text/plain": [
       "         chol  stab.glu       hdl     ratio  glyhb  location  age  gender  \\\n",
       "353 -0.041417 -0.446559  1.020010  1.098612   4.88         1   52       1   \n",
       "233 -0.266969  0.157092  0.671602  1.163151   4.34         1   50       1   \n",
       "3   -2.928491 -0.257919 -2.231804  1.871802   4.63         0   67       1   \n",
       "18  -0.312080 -0.484288 -0.838169  1.686399   5.28         1   36       1   \n",
       "131 -0.447411 -0.559744 -0.315556  1.435084   4.79         1   31       0   \n",
       "..        ...       ...       ...       ...    ...       ...  ...     ...   \n",
       "45   0.793128 -1.031346  0.497397  1.410987   4.41         0   37       0   \n",
       "90  -1.101514 -0.352239 -0.431692  1.308333   5.02         1   38       1   \n",
       "248  0.657797  0.213684 -0.315556  1.667707   7.51         0   73       0   \n",
       "337  1.199123 -0.107006  1.891032  1.131402   5.12         1   52       0   \n",
       "390 -0.266969  0.251412  0.961942  1.064711   9.37         1   52       0   \n",
       "\n",
       "     height    weight  frame  bp.1s  bp.1d     waist   hip  time.ppn  \n",
       "353    69.0 -0.610801      2  140.0   98.0 -0.332110  40.0     195.0  \n",
       "233    67.0 -0.933853      1  176.0  110.0 -0.507293  37.0      60.0  \n",
       "3      67.0 -1.455706      0  110.0   50.0 -0.857660  38.0     480.0  \n",
       "18     64.0 -1.281755      1  110.0   76.0 -1.383211  34.0     120.0  \n",
       "131    67.0  1.228108      1  122.0   70.0  1.594909  53.0     140.0  \n",
       "..      ...       ...    ...    ...    ...       ...   ...       ...  \n",
       "45     64.0  1.377209      1  110.0   82.0  1.945276  57.0      90.0  \n",
       "90     68.0 -0.213199      0  138.0   79.0 -0.682477  40.0     690.0  \n",
       "248    64.0 -0.088949      0  162.0   75.0  0.018257  44.0     300.0  \n",
       "337    64.0  0.507454      1  152.0   92.0  0.718992  49.0      20.0  \n",
       "390    62.0 -0.759902      1  144.0   94.0 -0.682477  42.0     480.0  \n",
       "\n",
       "[403 rows x 16 columns]"
      ]
     },
     "execution_count": 133,
     "metadata": {},
     "output_type": "execute_result"
    }
   ],
   "source": [
    "combine"
   ]
  },
  {
   "cell_type": "markdown",
   "metadata": {},
   "source": [
    "# Separation OF Train And Test after using embedding"
   ]
  },
  {
   "cell_type": "code",
   "execution_count": 269,
   "metadata": {},
   "outputs": [],
   "source": [
    "x_train = combine.iloc[:322]\n",
    "x_test = combine.iloc[322:]"
   ]
  },
  {
   "cell_type": "code",
   "execution_count": 270,
   "metadata": {},
   "outputs": [
    {
     "data": {
      "text/plain": [
       "((322, 15), (322,), (81, 15), (81,))"
      ]
     },
     "execution_count": 270,
     "metadata": {},
     "output_type": "execute_result"
    }
   ],
   "source": [
    "x_train.shape,y_train.shape,x_test.shape,y_test.shape"
   ]
  },
  {
   "cell_type": "code",
   "execution_count": 271,
   "metadata": {},
   "outputs": [],
   "source": [
    "score = make_scorer(r2_score)"
   ]
  },
  {
   "cell_type": "markdown",
   "metadata": {},
   "source": [
    "# Model Building XGBOOST"
   ]
  },
  {
   "cell_type": "code",
   "execution_count": 272,
   "metadata": {},
   "outputs": [],
   "source": [
    "from xgboost import XGBRegressor,XGBRFRegressor"
   ]
  },
  {
   "cell_type": "code",
   "execution_count": 273,
   "metadata": {},
   "outputs": [],
   "source": [
    "xg = XGBRegressor(max_depth = 2,n_estimators = 20,learning_rate=0.32)\n",
    "# ,reg_lambda=,learning_rate=,reg_alpha="
   ]
  },
  {
   "cell_type": "code",
   "execution_count": 274,
   "metadata": {},
   "outputs": [],
   "source": [
    "k = KFold(n_splits=5,random_state=42,shuffle=True)"
   ]
  },
  {
   "cell_type": "code",
   "execution_count": 275,
   "metadata": {},
   "outputs": [],
   "source": [
    "scores = cross_val_score(xg,x_train,y_train,scoring =score,cv=k,n_jobs=-1)"
   ]
  },
  {
   "cell_type": "code",
   "execution_count": 276,
   "metadata": {},
   "outputs": [],
   "source": [
    "scores1 = cross_val_score(xg,combine,y,scoring =score,cv=k,n_jobs=-1)"
   ]
  },
  {
   "cell_type": "code",
   "execution_count": 277,
   "metadata": {},
   "outputs": [
    {
     "data": {
      "text/plain": [
       "array([0.42359336, 0.34674445, 0.56667213, 0.55252621, 0.59021802])"
      ]
     },
     "execution_count": 277,
     "metadata": {},
     "output_type": "execute_result"
    }
   ],
   "source": [
    "scores"
   ]
  },
  {
   "cell_type": "code",
   "execution_count": 278,
   "metadata": {},
   "outputs": [
    {
     "data": {
      "text/plain": [
       "array([-0.13061032, -0.08236017, -0.18117812, -0.26787831, -0.09706925])"
      ]
     },
     "execution_count": 278,
     "metadata": {},
     "output_type": "execute_result"
    }
   ],
   "source": [
    "scores1"
   ]
  },
  {
   "cell_type": "code",
   "execution_count": 279,
   "metadata": {},
   "outputs": [
    {
     "data": {
      "text/plain": [
       "0.552526208072654"
      ]
     },
     "execution_count": 279,
     "metadata": {},
     "output_type": "execute_result"
    }
   ],
   "source": [
    "np.median(scores)"
   ]
  },
  {
   "cell_type": "code",
   "execution_count": 280,
   "metadata": {},
   "outputs": [
    {
     "data": {
      "text/plain": [
       "XGBRegressor(base_score=0.5, booster='gbtree', colsample_bylevel=1,\n",
       "             colsample_bynode=1, colsample_bytree=1, gamma=0, gpu_id=-1,\n",
       "             importance_type='gain', interaction_constraints='',\n",
       "             learning_rate=0.32, max_delta_step=0, max_depth=2,\n",
       "             min_child_weight=1, missing=nan, monotone_constraints='()',\n",
       "             n_estimators=20, n_jobs=0, num_parallel_tree=1, random_state=0,\n",
       "             reg_alpha=0, reg_lambda=1, scale_pos_weight=1, subsample=1,\n",
       "             tree_method='exact', validate_parameters=1, verbosity=None)"
      ]
     },
     "execution_count": 280,
     "metadata": {},
     "output_type": "execute_result"
    }
   ],
   "source": [
    "xg.fit(x_train,y_train)"
   ]
  },
  {
   "cell_type": "code",
   "execution_count": 281,
   "metadata": {},
   "outputs": [
    {
     "data": {
      "text/plain": [
       "0.7635304865795016"
      ]
     },
     "execution_count": 281,
     "metadata": {},
     "output_type": "execute_result"
    }
   ],
   "source": [
    "xg.score(x_train,y_train)"
   ]
  },
  {
   "cell_type": "code",
   "execution_count": 282,
   "metadata": {},
   "outputs": [],
   "source": [
    "y_xgb = xg.predict(x_test)"
   ]
  },
  {
   "cell_type": "code",
   "execution_count": 283,
   "metadata": {},
   "outputs": [
    {
     "data": {
      "text/plain": [
       "353    4.88\n",
       "233    4.34\n",
       "3      4.63\n",
       "18     5.28\n",
       "131    4.79\n",
       "       ... \n",
       "71     5.23\n",
       "106    5.17\n",
       "270    4.62\n",
       "348    3.98\n",
       "102    5.44\n",
       "Name: glyhb, Length: 322, dtype: float64"
      ]
     },
     "execution_count": 283,
     "metadata": {},
     "output_type": "execute_result"
    }
   ],
   "source": [
    "y_train"
   ]
  },
  {
   "cell_type": "markdown",
   "metadata": {},
   "source": [
    "# R2 Score XGB"
   ]
  },
  {
   "cell_type": "code",
   "execution_count": 284,
   "metadata": {},
   "outputs": [
    {
     "data": {
      "text/plain": [
       "0.6682308059723767"
      ]
     },
     "execution_count": 284,
     "metadata": {},
     "output_type": "execute_result"
    }
   ],
   "source": [
    "r2_score(y_test,y_xgb)"
   ]
  },
  {
   "cell_type": "markdown",
   "metadata": {},
   "source": [
    "# MAE For XGB"
   ]
  },
  {
   "cell_type": "code",
   "execution_count": 285,
   "metadata": {},
   "outputs": [
    {
     "data": {
      "text/plain": [
       "0.8330734899196446"
      ]
     },
     "execution_count": 285,
     "metadata": {},
     "output_type": "execute_result"
    }
   ],
   "source": [
    "mean_absolute_error(y_test,y_xgb)"
   ]
  },
  {
   "cell_type": "code",
   "execution_count": 286,
   "metadata": {},
   "outputs": [
    {
     "data": {
      "text/plain": [
       "1.790000005587964"
      ]
     },
     "execution_count": 286,
     "metadata": {},
     "output_type": "execute_result"
    }
   ],
   "source": [
    "mean_squared_error(y_test,y_xgb)"
   ]
  },
  {
   "cell_type": "markdown",
   "metadata": {},
   "source": [
    "# Mean Square Error"
   ]
  },
  {
   "cell_type": "code",
   "execution_count": 287,
   "metadata": {},
   "outputs": [
    {
     "data": {
      "text/plain": [
       "1.3379088181142853"
      ]
     },
     "execution_count": 287,
     "metadata": {},
     "output_type": "execute_result"
    }
   ],
   "source": [
    "np.sqrt(mean_squared_error(y_test,y_xgb))"
   ]
  },
  {
   "cell_type": "code",
   "execution_count": 288,
   "metadata": {},
   "outputs": [
    {
     "data": {
      "text/plain": [
       "0.13303338929509"
      ]
     },
     "execution_count": 288,
     "metadata": {},
     "output_type": "execute_result"
    }
   ],
   "source": [
    "MAPE(y_test,y_xgb)"
   ]
  },
  {
   "cell_type": "markdown",
   "metadata": {},
   "source": [
    "# XGBOOST Best Parameter"
   ]
  },
  {
   "cell_type": "code",
   "execution_count": 79,
   "metadata": {},
   "outputs": [],
   "source": [
    "imp_features = sorted(np.stack((x_test.columns,xg.feature_importances_),axis=1),key=lambda x_train:x_train[1],reverse=True)[:12]"
   ]
  },
  {
   "cell_type": "code",
   "execution_count": 80,
   "metadata": {},
   "outputs": [],
   "source": [
    "imp_features_np = np.array(imp_features)"
   ]
  },
  {
   "cell_type": "code",
   "execution_count": 81,
   "metadata": {},
   "outputs": [
    {
     "data": {
      "text/plain": [
       "1.0000000074505806"
      ]
     },
     "execution_count": 81,
     "metadata": {},
     "output_type": "execute_result"
    }
   ],
   "source": [
    "np.sum(imp_features_np[:,1:])"
   ]
  },
  {
   "cell_type": "code",
   "execution_count": 82,
   "metadata": {},
   "outputs": [],
   "source": [
    "combine = x_train.append(x_test)"
   ]
  },
  {
   "cell_type": "code",
   "execution_count": 83,
   "metadata": {},
   "outputs": [
    {
     "data": {
      "text/plain": [
       "[array(['stab.glu', 0.45104098320007324], dtype=object),\n",
       " array(['time.ppn', 0.09448936581611633], dtype=object),\n",
       " array(['hip', 0.0847371518611908], dtype=object),\n",
       " array(['waist', 0.06900504976511002], dtype=object),\n",
       " array(['age', 0.06664318591356277], dtype=object),\n",
       " array(['weight', 0.06296173483133316], dtype=object),\n",
       " array(['ratio', 0.05283845588564873], dtype=object),\n",
       " array(['chol', 0.03618239983916283], dtype=object),\n",
       " array(['hdl', 0.035990748554468155], dtype=object),\n",
       " array(['height', 0.02426481433212757], dtype=object),\n",
       " array(['location', 0.021846117451786995], dtype=object),\n",
       " array(['gender', 0.0], dtype=object)]"
      ]
     },
     "execution_count": 83,
     "metadata": {},
     "output_type": "execute_result"
    }
   ],
   "source": [
    "imp_features"
   ]
  },
  {
   "cell_type": "code",
   "execution_count": 84,
   "metadata": {},
   "outputs": [],
   "source": [
    "imp_features = list(np.array(imp_features)[:,0])"
   ]
  },
  {
   "cell_type": "code",
   "execution_count": 85,
   "metadata": {},
   "outputs": [],
   "source": [
    "combine_imp_features = combine[imp_features]"
   ]
  },
  {
   "cell_type": "code",
   "execution_count": 86,
   "metadata": {},
   "outputs": [],
   "source": [
    "x_train_imp_features = combine_imp_features[:322]\n",
    "x_test_imp_features = combine_imp_features[322:]"
   ]
  },
  {
   "cell_type": "code",
   "execution_count": 87,
   "metadata": {
    "scrolled": true
   },
   "outputs": [
    {
     "data": {
      "text/html": [
       "<div>\n",
       "<style scoped>\n",
       "    .dataframe tbody tr th:only-of-type {\n",
       "        vertical-align: middle;\n",
       "    }\n",
       "\n",
       "    .dataframe tbody tr th {\n",
       "        vertical-align: top;\n",
       "    }\n",
       "\n",
       "    .dataframe thead th {\n",
       "        text-align: right;\n",
       "    }\n",
       "</style>\n",
       "<table border=\"1\" class=\"dataframe\">\n",
       "  <thead>\n",
       "    <tr style=\"text-align: right;\">\n",
       "      <th></th>\n",
       "      <th>stab.glu</th>\n",
       "      <th>time.ppn</th>\n",
       "      <th>hip</th>\n",
       "      <th>waist</th>\n",
       "      <th>age</th>\n",
       "      <th>weight</th>\n",
       "      <th>ratio</th>\n",
       "      <th>chol</th>\n",
       "      <th>hdl</th>\n",
       "      <th>height</th>\n",
       "      <th>location</th>\n",
       "      <th>gender</th>\n",
       "    </tr>\n",
       "  </thead>\n",
       "  <tbody>\n",
       "    <tr>\n",
       "      <th>353</th>\n",
       "      <td>-0.446559</td>\n",
       "      <td>-0.472201</td>\n",
       "      <td>-0.538447</td>\n",
       "      <td>-0.332110</td>\n",
       "      <td>0.316036</td>\n",
       "      <td>-0.610801</td>\n",
       "      <td>-1.001985</td>\n",
       "      <td>-0.041417</td>\n",
       "      <td>1.020010</td>\n",
       "      <td>0.766256</td>\n",
       "      <td>1</td>\n",
       "      <td>1</td>\n",
       "    </tr>\n",
       "    <tr>\n",
       "      <th>233</th>\n",
       "      <td>0.157092</td>\n",
       "      <td>-0.910336</td>\n",
       "      <td>-1.070731</td>\n",
       "      <td>-0.507293</td>\n",
       "      <td>0.193277</td>\n",
       "      <td>-0.933853</td>\n",
       "      <td>-0.816145</td>\n",
       "      <td>-0.266969</td>\n",
       "      <td>0.671602</td>\n",
       "      <td>0.252016</td>\n",
       "      <td>1</td>\n",
       "      <td>1</td>\n",
       "    </tr>\n",
       "    <tr>\n",
       "      <th>3</th>\n",
       "      <td>-0.257919</td>\n",
       "      <td>0.452752</td>\n",
       "      <td>-0.893303</td>\n",
       "      <td>-0.857660</td>\n",
       "      <td>1.236729</td>\n",
       "      <td>-1.455706</td>\n",
       "      <td>1.224437</td>\n",
       "      <td>-2.928491</td>\n",
       "      <td>-2.231804</td>\n",
       "      <td>0.252016</td>\n",
       "      <td>0</td>\n",
       "      <td>1</td>\n",
       "    </tr>\n",
       "    <tr>\n",
       "      <th>18</th>\n",
       "      <td>-0.484288</td>\n",
       "      <td>-0.715609</td>\n",
       "      <td>-1.603015</td>\n",
       "      <td>-1.383211</td>\n",
       "      <td>-0.666036</td>\n",
       "      <td>-1.281755</td>\n",
       "      <td>0.690563</td>\n",
       "      <td>-0.312080</td>\n",
       "      <td>-0.838169</td>\n",
       "      <td>-0.519344</td>\n",
       "      <td>1</td>\n",
       "      <td>1</td>\n",
       "    </tr>\n",
       "    <tr>\n",
       "      <th>131</th>\n",
       "      <td>-0.559744</td>\n",
       "      <td>-0.650700</td>\n",
       "      <td>1.768115</td>\n",
       "      <td>1.594909</td>\n",
       "      <td>-0.972934</td>\n",
       "      <td>1.228108</td>\n",
       "      <td>-0.033104</td>\n",
       "      <td>-0.447411</td>\n",
       "      <td>-0.315556</td>\n",
       "      <td>0.252016</td>\n",
       "      <td>1</td>\n",
       "      <td>0</td>\n",
       "    </tr>\n",
       "    <tr>\n",
       "      <th>...</th>\n",
       "      <td>...</td>\n",
       "      <td>...</td>\n",
       "      <td>...</td>\n",
       "      <td>...</td>\n",
       "      <td>...</td>\n",
       "      <td>...</td>\n",
       "      <td>...</td>\n",
       "      <td>...</td>\n",
       "      <td>...</td>\n",
       "      <td>...</td>\n",
       "      <td>...</td>\n",
       "      <td>...</td>\n",
       "    </tr>\n",
       "    <tr>\n",
       "      <th>71</th>\n",
       "      <td>-0.389967</td>\n",
       "      <td>0.258025</td>\n",
       "      <td>0.703548</td>\n",
       "      <td>1.069359</td>\n",
       "      <td>-1.463970</td>\n",
       "      <td>1.675411</td>\n",
       "      <td>-0.102494</td>\n",
       "      <td>-0.988738</td>\n",
       "      <td>-0.605897</td>\n",
       "      <td>0.766256</td>\n",
       "      <td>0</td>\n",
       "      <td>0</td>\n",
       "    </tr>\n",
       "    <tr>\n",
       "      <th>106</th>\n",
       "      <td>-0.408831</td>\n",
       "      <td>-0.326155</td>\n",
       "      <td>-0.183592</td>\n",
       "      <td>0.543808</td>\n",
       "      <td>-0.972934</td>\n",
       "      <td>0.557155</td>\n",
       "      <td>-0.907566</td>\n",
       "      <td>1.920891</td>\n",
       "      <td>2.529781</td>\n",
       "      <td>0.252016</td>\n",
       "      <td>1</td>\n",
       "      <td>0</td>\n",
       "    </tr>\n",
       "    <tr>\n",
       "      <th>270</th>\n",
       "      <td>-0.389967</td>\n",
       "      <td>0.452752</td>\n",
       "      <td>-0.361020</td>\n",
       "      <td>0.193441</td>\n",
       "      <td>-0.543277</td>\n",
       "      <td>0.681405</td>\n",
       "      <td>0.034653</td>\n",
       "      <td>-1.372177</td>\n",
       "      <td>-0.954305</td>\n",
       "      <td>0.766256</td>\n",
       "      <td>0</td>\n",
       "      <td>1</td>\n",
       "    </tr>\n",
       "    <tr>\n",
       "      <th>348</th>\n",
       "      <td>-0.465424</td>\n",
       "      <td>-0.812973</td>\n",
       "      <td>0.348692</td>\n",
       "      <td>0.543808</td>\n",
       "      <td>-0.666036</td>\n",
       "      <td>0.134703</td>\n",
       "      <td>-1.200652</td>\n",
       "      <td>-1.936059</td>\n",
       "      <td>-0.431692</td>\n",
       "      <td>1.280495</td>\n",
       "      <td>1</td>\n",
       "      <td>0</td>\n",
       "    </tr>\n",
       "    <tr>\n",
       "      <th>102</th>\n",
       "      <td>0.440053</td>\n",
       "      <td>-1.072608</td>\n",
       "      <td>1.413259</td>\n",
       "      <td>0.718992</td>\n",
       "      <td>-0.604657</td>\n",
       "      <td>0.631705</td>\n",
       "      <td>-0.102494</td>\n",
       "      <td>-0.199303</td>\n",
       "      <td>-0.141352</td>\n",
       "      <td>-1.290704</td>\n",
       "      <td>1</td>\n",
       "      <td>0</td>\n",
       "    </tr>\n",
       "  </tbody>\n",
       "</table>\n",
       "<p>322 rows × 12 columns</p>\n",
       "</div>"
      ],
      "text/plain": [
       "     stab.glu  time.ppn       hip     waist       age    weight     ratio  \\\n",
       "353 -0.446559 -0.472201 -0.538447 -0.332110  0.316036 -0.610801 -1.001985   \n",
       "233  0.157092 -0.910336 -1.070731 -0.507293  0.193277 -0.933853 -0.816145   \n",
       "3   -0.257919  0.452752 -0.893303 -0.857660  1.236729 -1.455706  1.224437   \n",
       "18  -0.484288 -0.715609 -1.603015 -1.383211 -0.666036 -1.281755  0.690563   \n",
       "131 -0.559744 -0.650700  1.768115  1.594909 -0.972934  1.228108 -0.033104   \n",
       "..        ...       ...       ...       ...       ...       ...       ...   \n",
       "71  -0.389967  0.258025  0.703548  1.069359 -1.463970  1.675411 -0.102494   \n",
       "106 -0.408831 -0.326155 -0.183592  0.543808 -0.972934  0.557155 -0.907566   \n",
       "270 -0.389967  0.452752 -0.361020  0.193441 -0.543277  0.681405  0.034653   \n",
       "348 -0.465424 -0.812973  0.348692  0.543808 -0.666036  0.134703 -1.200652   \n",
       "102  0.440053 -1.072608  1.413259  0.718992 -0.604657  0.631705 -0.102494   \n",
       "\n",
       "         chol       hdl    height  location  gender  \n",
       "353 -0.041417  1.020010  0.766256         1       1  \n",
       "233 -0.266969  0.671602  0.252016         1       1  \n",
       "3   -2.928491 -2.231804  0.252016         0       1  \n",
       "18  -0.312080 -0.838169 -0.519344         1       1  \n",
       "131 -0.447411 -0.315556  0.252016         1       0  \n",
       "..        ...       ...       ...       ...     ...  \n",
       "71  -0.988738 -0.605897  0.766256         0       0  \n",
       "106  1.920891  2.529781  0.252016         1       0  \n",
       "270 -1.372177 -0.954305  0.766256         0       1  \n",
       "348 -1.936059 -0.431692  1.280495         1       0  \n",
       "102 -0.199303 -0.141352 -1.290704         1       0  \n",
       "\n",
       "[322 rows x 12 columns]"
      ]
     },
     "execution_count": 87,
     "metadata": {},
     "output_type": "execute_result"
    }
   ],
   "source": [
    "x_train_imp_features"
   ]
  },
  {
   "cell_type": "code",
   "execution_count": 88,
   "metadata": {},
   "outputs": [
    {
     "data": {
      "text/plain": [
       "XGBRegressor(base_score=0.5, booster='gbtree', colsample_bylevel=1,\n",
       "             colsample_bynode=1, colsample_bytree=1, gamma=0, gpu_id=-1,\n",
       "             importance_type='gain', interaction_constraints='',\n",
       "             learning_rate=0.32, max_delta_step=0, max_depth=2,\n",
       "             min_child_weight=1, missing=nan, monotone_constraints='()',\n",
       "             n_estimators=20, n_jobs=0, num_parallel_tree=1, random_state=0,\n",
       "             reg_alpha=0, reg_lambda=1, scale_pos_weight=1, subsample=1,\n",
       "             tree_method='exact', validate_parameters=1, verbosity=None)"
      ]
     },
     "execution_count": 88,
     "metadata": {},
     "output_type": "execute_result"
    }
   ],
   "source": [
    "xg.fit(x_train_imp_features,y_train)"
   ]
  },
  {
   "cell_type": "code",
   "execution_count": 89,
   "metadata": {},
   "outputs": [
    {
     "data": {
      "text/plain": [
       "0.7635304865795016"
      ]
     },
     "execution_count": 89,
     "metadata": {},
     "output_type": "execute_result"
    }
   ],
   "source": [
    "xg.score(x_train_imp_features,y_train)"
   ]
  },
  {
   "cell_type": "code",
   "execution_count": 90,
   "metadata": {},
   "outputs": [],
   "source": [
    "y_imp_features_xgb = xg.predict(x_test_imp_features)"
   ]
  },
  {
   "cell_type": "code",
   "execution_count": 91,
   "metadata": {},
   "outputs": [
    {
     "data": {
      "text/plain": [
       "0.6682308059723767"
      ]
     },
     "execution_count": 91,
     "metadata": {},
     "output_type": "execute_result"
    }
   ],
   "source": [
    "r2_score(y_test,y_imp_features_xgb) "
   ]
  },
  {
   "cell_type": "code",
   "execution_count": 92,
   "metadata": {},
   "outputs": [
    {
     "data": {
      "text/plain": [
       "0.8330734899196446"
      ]
     },
     "execution_count": 92,
     "metadata": {},
     "output_type": "execute_result"
    }
   ],
   "source": [
    "mean_absolute_error(y_test,y_imp_features_xgb)"
   ]
  },
  {
   "cell_type": "code",
   "execution_count": 93,
   "metadata": {},
   "outputs": [
    {
     "data": {
      "text/plain": [
       "1.790000005587964"
      ]
     },
     "execution_count": 93,
     "metadata": {},
     "output_type": "execute_result"
    }
   ],
   "source": [
    "mean_squared_error(y_test,y_imp_features_xgb)"
   ]
  },
  {
   "cell_type": "code",
   "execution_count": 94,
   "metadata": {},
   "outputs": [
    {
     "data": {
      "text/plain": [
       "1.3379088181142853"
      ]
     },
     "execution_count": 94,
     "metadata": {},
     "output_type": "execute_result"
    }
   ],
   "source": [
    "np.sqrt(mean_squared_error(y_test,y_imp_features_xgb))"
   ]
  },
  {
   "cell_type": "markdown",
   "metadata": {},
   "source": [
    "# Model Building LGBM & Grid Search & Random Search"
   ]
  },
  {
   "cell_type": "code",
   "execution_count": 324,
   "metadata": {},
   "outputs": [],
   "source": [
    "from sklearn.model_selection import RandomizedSearchCV,GridSearchCV\n",
    "from hyperopt import tpe, hp, fmin, STATUS_OK,Trials\n",
    "from hyperopt.pyll.base import scope\n",
    "from hyperopt import Trials\n",
    "from sklearn.model_selection import cross_val_score,StratifiedKFold,KFold\n",
    "from sklearn.metrics import r2_score"
   ]
  },
  {
   "cell_type": "code",
   "execution_count": 290,
   "metadata": {},
   "outputs": [],
   "source": [
    "scoring_function = make_scorer(r2_score)"
   ]
  },
  {
   "cell_type": "code",
   "execution_count": null,
   "metadata": {},
   "outputs": [],
   "source": [
    "parameters = {\"max_depth\":[5,10,15,20,25,30],\n",
    "             \"n_estimators\":[100,150,200,250,300,350,400],\n",
    "             \"num_leaves\":[4,5,6,7,8,9,10],\n",
    "             \"reg_lambda\":[0.2,0.3,0.4,0.5,0.6,0.7,0.8]}"
   ]
  },
  {
   "cell_type": "code",
   "execution_count": null,
   "metadata": {},
   "outputs": [],
   "source": [
    "lg = LGBMRegressor()"
   ]
  },
  {
   "cell_type": "code",
   "execution_count": null,
   "metadata": {},
   "outputs": [],
   "source": [
    "gs = GridSearchCV(lg,param_grid=parameters,scoring=scoring_function,cv=10)"
   ]
  },
  {
   "cell_type": "code",
   "execution_count": null,
   "metadata": {},
   "outputs": [],
   "source": [
    "gs.fit(x_train,y_train)"
   ]
  },
  {
   "cell_type": "code",
   "execution_count": null,
   "metadata": {},
   "outputs": [],
   "source": [
    "gs.score(x_train,y_train)"
   ]
  },
  {
   "cell_type": "code",
   "execution_count": null,
   "metadata": {},
   "outputs": [],
   "source": [
    "y_gs = gs.predict(x_test)"
   ]
  },
  {
   "cell_type": "code",
   "execution_count": null,
   "metadata": {},
   "outputs": [],
   "source": [
    "r2_score(y_test,y_gs)"
   ]
  },
  {
   "cell_type": "markdown",
   "metadata": {},
   "source": [
    "# Lgbm"
   ]
  },
  {
   "cell_type": "code",
   "execution_count": 289,
   "metadata": {},
   "outputs": [],
   "source": [
    "from lightgbm import LGBMRegressor"
   ]
  },
  {
   "cell_type": "code",
   "execution_count": 423,
   "metadata": {},
   "outputs": [],
   "source": [
    "def lgb_model(train,test,y):\n",
    "    params={ 'max_depth': 5,'random_state': 24,\"num_leaves\":4,'lambda': 2.8849054495567423, \n",
    "        'alpha': 0.001054193185317787}\n",
    "    \n",
    "    err = []\n",
    "    oofs = np.zeros(shape=len(train))\n",
    "    preds = np.zeros(shape=len(test))\n",
    "    \n",
    "    Folds = 8\n",
    "    \n",
    "    fold = KFold(n_splits=Folds,shuffle=True,random_state=42)\n",
    "    \n",
    "    i = 1\n",
    "    \n",
    "    for train_index,test_index in fold.split(train,y):\n",
    "        x_train,x_val = train.iloc[train_index],train.iloc[test_index]\n",
    "        y_train,y_val = y.iloc[train_index],y.iloc[test_index]\n",
    "        \n",
    "        m = LGBMRegressor(n_estimators=100,**params)\n",
    "        \n",
    "        m.fit(x_train,y_train,eval_set=[(x_val,y_val)], early_stopping_rounds=30,verbose=False)\n",
    "        \n",
    "        pred_y = m.predict(x_val)\n",
    "        oofs[test_index] = pred_y\n",
    "        \n",
    "        print(i,\"err_lgm:\",r2_score(y_val,pred_y))\n",
    "        \n",
    "        err.append(r2_score(y_val,pred_y))\n",
    "        print(1)\n",
    "        preds+=m.predict(test)\n",
    "        i = i+1\n",
    "        \n",
    "    preds = preds/Folds\n",
    "    \n",
    "    print(f\"Average KFold Score : {sum(err)/Folds} \")\n",
    "    oof_score = r2_score(y, oofs)\n",
    "    \n",
    "    print(f'\\nOOF Auc is : {oof_score}')"
   ]
  },
  {
   "cell_type": "code",
   "execution_count": 424,
   "metadata": {},
   "outputs": [
    {
     "name": "stdout",
     "output_type": "stream",
     "text": [
      "[LightGBM] [Warning] lambda_l2 is set with reg_lambda=0.0, will be overridden by lambda=2.8849054495567423. Current value: lambda_l2=2.8849054495567423\n",
      "1 err_lgm: 0.34770880496751655\n",
      "1\n",
      "[LightGBM] [Warning] lambda_l2 is set with reg_lambda=0.0, will be overridden by lambda=2.8849054495567423. Current value: lambda_l2=2.8849054495567423\n",
      "2 err_lgm: 0.5869174087797809\n",
      "1\n",
      "[LightGBM] [Warning] lambda_l2 is set with reg_lambda=0.0, will be overridden by lambda=2.8849054495567423. Current value: lambda_l2=2.8849054495567423\n",
      "3 err_lgm: 0.21509607361624028\n",
      "1\n",
      "[LightGBM] [Warning] lambda_l2 is set with reg_lambda=0.0, will be overridden by lambda=2.8849054495567423. Current value: lambda_l2=2.8849054495567423\n",
      "4 err_lgm: 0.5774559415678711\n",
      "1\n",
      "[LightGBM] [Warning] lambda_l2 is set with reg_lambda=0.0, will be overridden by lambda=2.8849054495567423. Current value: lambda_l2=2.8849054495567423\n",
      "5 err_lgm: 0.6512290864612263\n",
      "1\n",
      "[LightGBM] [Warning] lambda_l2 is set with reg_lambda=0.0, will be overridden by lambda=2.8849054495567423. Current value: lambda_l2=2.8849054495567423\n",
      "6 err_lgm: 0.41915767453238395\n",
      "1\n",
      "[LightGBM] [Warning] lambda_l2 is set with reg_lambda=0.0, will be overridden by lambda=2.8849054495567423. Current value: lambda_l2=2.8849054495567423\n",
      "7 err_lgm: 0.8032237531414622\n",
      "1\n",
      "[LightGBM] [Warning] lambda_l2 is set with reg_lambda=0.0, will be overridden by lambda=2.8849054495567423. Current value: lambda_l2=2.8849054495567423\n",
      "8 err_lgm: 0.45349793756603396\n",
      "1\n",
      "Average KFold Score : 0.5067858350790644 \n",
      "\n",
      "OOF Auc is : 0.5482056937395561\n"
     ]
    }
   ],
   "source": [
    "lgb_model(x_train,x_test,y_train)"
   ]
  },
  {
   "cell_type": "code",
   "execution_count": 300,
   "metadata": {},
   "outputs": [],
   "source": [
    "lg = LGBMRegressor(max_depth=10,n_estimators=100,num_leaves=4,reg_lambda=0.5)\n",
    "# ,reg_alpha=0.0"
   ]
  },
  {
   "cell_type": "code",
   "execution_count": 301,
   "metadata": {},
   "outputs": [
    {
     "data": {
      "text/plain": [
       "LGBMRegressor(max_depth=10, num_leaves=4, reg_lambda=0.5)"
      ]
     },
     "execution_count": 301,
     "metadata": {},
     "output_type": "execute_result"
    }
   ],
   "source": [
    "lg.fit(x_train,y_train)"
   ]
  },
  {
   "cell_type": "code",
   "execution_count": 302,
   "metadata": {},
   "outputs": [],
   "source": [
    "y_lgbm = lg.predict(x_test)"
   ]
  },
  {
   "cell_type": "code",
   "execution_count": 303,
   "metadata": {},
   "outputs": [
    {
     "data": {
      "text/plain": [
       "0.7601541846104987"
      ]
     },
     "execution_count": 303,
     "metadata": {},
     "output_type": "execute_result"
    }
   ],
   "source": [
    "lg.score(x_train,y_train)"
   ]
  },
  {
   "cell_type": "code",
   "execution_count": 304,
   "metadata": {},
   "outputs": [
    {
     "data": {
      "text/plain": [
       "0.7481656209881826"
      ]
     },
     "execution_count": 304,
     "metadata": {},
     "output_type": "execute_result"
    }
   ],
   "source": [
    "r2_score(y_test,y_lgbm)"
   ]
  },
  {
   "cell_type": "code",
   "execution_count": 305,
   "metadata": {},
   "outputs": [
    {
     "data": {
      "text/plain": [
       "0.7723092289942841"
      ]
     },
     "execution_count": 305,
     "metadata": {},
     "output_type": "execute_result"
    }
   ],
   "source": [
    "mean_absolute_error(y_test,y_lgbm)"
   ]
  },
  {
   "cell_type": "code",
   "execution_count": 306,
   "metadata": {},
   "outputs": [
    {
     "data": {
      "text/plain": [
       "1.3587263312966367"
      ]
     },
     "execution_count": 306,
     "metadata": {},
     "output_type": "execute_result"
    }
   ],
   "source": [
    "mean_squared_error(y_test,y_lgbm)"
   ]
  },
  {
   "cell_type": "code",
   "execution_count": 307,
   "metadata": {},
   "outputs": [
    {
     "data": {
      "text/plain": [
       "1.1656441701036542"
      ]
     },
     "execution_count": 307,
     "metadata": {},
     "output_type": "execute_result"
    }
   ],
   "source": [
    "np.sqrt(mean_squared_error(y_test,y_lgbm))"
   ]
  },
  {
   "cell_type": "code",
   "execution_count": 308,
   "metadata": {},
   "outputs": [
    {
     "data": {
      "text/plain": [
       "0.12687405120933698"
      ]
     },
     "execution_count": 308,
     "metadata": {},
     "output_type": "execute_result"
    }
   ],
   "source": [
    "MAPE(y_test,y_lgbm)"
   ]
  },
  {
   "cell_type": "markdown",
   "metadata": {},
   "source": [
    "# Check Feature Importance"
   ]
  },
  {
   "cell_type": "code",
   "execution_count": 309,
   "metadata": {},
   "outputs": [
    {
     "data": {
      "text/plain": [
       "<AxesSubplot:>"
      ]
     },
     "execution_count": 309,
     "metadata": {},
     "output_type": "execute_result"
    },
    {
     "data": {
      "image/png": "[encoded data removed]",
      "text/plain": [
       "<Figure size 576x720 with 1 Axes>"
      ]
     },
     "metadata": {
      "needs_background": "light"
     },
     "output_type": "display_data"
    }
   ],
   "source": [
    "feat_imp = pd.Series(lg.feature_importances_, index=x_train.columns)\n",
    "feat_imp.nlargest(30).plot(kind='barh', figsize=(8,10))"
   ]
  },
  {
   "cell_type": "markdown",
   "metadata": {},
   "source": [
    "# LGBM Varient Without Embedding"
   ]
  },
  {
   "cell_type": "code",
   "execution_count": 310,
   "metadata": {},
   "outputs": [],
   "source": [
    "from lightgbm import LGBMRegressor"
   ]
  },
  {
   "cell_type": "code",
   "execution_count": 311,
   "metadata": {},
   "outputs": [],
   "source": [
    "cat_features_index = [4,6,9]"
   ]
  },
  {
   "cell_type": "code",
   "execution_count": 312,
   "metadata": {},
   "outputs": [],
   "source": [
    "lgb = LGBMRegressor(max_depth=5,n_estimators=100,num_leaves=4,reg_lambda=0.3)"
   ]
  },
  {
   "cell_type": "code",
   "execution_count": 313,
   "metadata": {},
   "outputs": [
    {
     "name": "stderr",
     "output_type": "stream",
     "text": [
      "C:\\Users\\Hp\\.conda\\envs\\tensorflow_env\\lib\\site-packages\\lightgbm\\basic.py:1551: UserWarning: Using categorical_feature in Dataset.\n",
      "  warnings.warn('Using categorical_feature in Dataset.')\n"
     ]
    },
    {
     "data": {
      "text/plain": [
       "LGBMRegressor(max_depth=5, num_leaves=4, reg_lambda=0.3)"
      ]
     },
     "execution_count": 313,
     "metadata": {},
     "output_type": "execute_result"
    }
   ],
   "source": [
    "lgb.fit(x_train,y_train,categorical_feature=cat_features_index)"
   ]
  },
  {
   "cell_type": "code",
   "execution_count": 314,
   "metadata": {},
   "outputs": [
    {
     "data": {
      "text/plain": [
       "0.7624496037594661"
      ]
     },
     "execution_count": 314,
     "metadata": {},
     "output_type": "execute_result"
    }
   ],
   "source": [
    "lgb.score(x_train,y_train)"
   ]
  },
  {
   "cell_type": "code",
   "execution_count": 315,
   "metadata": {},
   "outputs": [],
   "source": [
    "y_lgbm_emb = lgb.predict(x_test)"
   ]
  },
  {
   "cell_type": "markdown",
   "metadata": {},
   "source": [
    "# LGBM Results"
   ]
  },
  {
   "cell_type": "code",
   "execution_count": 316,
   "metadata": {},
   "outputs": [
    {
     "data": {
      "text/plain": [
       "0.7490471277028068"
      ]
     },
     "execution_count": 316,
     "metadata": {},
     "output_type": "execute_result"
    }
   ],
   "source": [
    "r2_score(y_test,y_lgbm_emb)"
   ]
  },
  {
   "cell_type": "code",
   "execution_count": 317,
   "metadata": {},
   "outputs": [
    {
     "data": {
      "text/plain": [
       "0.7694938395970032"
      ]
     },
     "execution_count": 317,
     "metadata": {},
     "output_type": "execute_result"
    }
   ],
   "source": [
    "mean_absolute_error(y_test,y_lgbm_emb)"
   ]
  },
  {
   "cell_type": "code",
   "execution_count": 318,
   "metadata": {},
   "outputs": [
    {
     "data": {
      "text/plain": [
       "1.3539703230459976"
      ]
     },
     "execution_count": 318,
     "metadata": {},
     "output_type": "execute_result"
    }
   ],
   "source": [
    "mean_squared_error(y_test,y_lgbm_emb)"
   ]
  },
  {
   "cell_type": "code",
   "execution_count": 319,
   "metadata": {},
   "outputs": [
    {
     "data": {
      "text/plain": [
       "1.1636023045035608"
      ]
     },
     "execution_count": 319,
     "metadata": {},
     "output_type": "execute_result"
    }
   ],
   "source": [
    "np.sqrt(mean_squared_error(y_test,y_lgbm_emb))"
   ]
  },
  {
   "cell_type": "code",
   "execution_count": 320,
   "metadata": {},
   "outputs": [
    {
     "data": {
      "text/plain": [
       "0.1278851209751777"
      ]
     },
     "execution_count": 320,
     "metadata": {},
     "output_type": "execute_result"
    }
   ],
   "source": [
    "MAPE(y_test,y_lgbm_emb)"
   ]
  },
  {
   "cell_type": "code",
   "execution_count": 321,
   "metadata": {},
   "outputs": [
    {
     "data": {
      "text/plain": [
       "<AxesSubplot:>"
      ]
     },
     "execution_count": 321,
     "metadata": {},
     "output_type": "execute_result"
    },
    {
     "data": {
      "image/png": "[encoded data removed]",
      "text/plain": [
       "<Figure size 576x720 with 1 Axes>"
      ]
     },
     "metadata": {
      "needs_background": "light"
     },
     "output_type": "display_data"
    }
   ],
   "source": [
    "feat_imp = pd.Series(lgb.feature_importances_, index=x_train.columns)\n",
    "feat_imp.nlargest(30).plot(kind='barh', figsize=(8,10))"
   ]
  },
  {
   "cell_type": "markdown",
   "metadata": {},
   "source": [
    "# Catboost"
   ]
  },
  {
   "cell_type": "code",
   "execution_count": 335,
   "metadata": {},
   "outputs": [],
   "source": [
    "from catboost import CatBoostRegressor"
   ]
  },
  {
   "cell_type": "code",
   "execution_count": 336,
   "metadata": {},
   "outputs": [],
   "source": [
    "cb = CatBoostRegressor(depth=5,iterations=300,l2_leaf_reg= 14)"
   ]
  },
  {
   "cell_type": "code",
   "execution_count": 337,
   "metadata": {},
   "outputs": [
    {
     "name": "stdout",
     "output_type": "stream",
     "text": [
      "0:\tlearn: 2.1576223\ttotal: 1.95ms\tremaining: 584ms\n",
      "1:\tlearn: 2.1361665\ttotal: 4.2ms\tremaining: 626ms\n",
      "2:\tlearn: 2.1160162\ttotal: 6.12ms\tremaining: 605ms\n",
      "3:\tlearn: 2.0991762\ttotal: 8.06ms\tremaining: 597ms\n",
      "4:\tlearn: 2.0845449\ttotal: 10.1ms\tremaining: 599ms\n",
      "5:\tlearn: 2.0701121\ttotal: 11.6ms\tremaining: 567ms\n",
      "6:\tlearn: 2.0503628\ttotal: 13.2ms\tremaining: 552ms\n",
      "7:\tlearn: 2.0329263\ttotal: 15.3ms\tremaining: 559ms\n",
      "8:\tlearn: 2.0176097\ttotal: 16.9ms\tremaining: 546ms\n",
      "9:\tlearn: 1.9995217\ttotal: 18.6ms\tremaining: 538ms\n",
      "10:\tlearn: 1.9856611\ttotal: 20.2ms\tremaining: 530ms\n",
      "11:\tlearn: 1.9703170\ttotal: 21.8ms\tremaining: 524ms\n",
      "12:\tlearn: 1.9554006\ttotal: 23.5ms\tremaining: 518ms\n",
      "13:\tlearn: 1.9457310\ttotal: 25.1ms\tremaining: 513ms\n",
      "14:\tlearn: 1.9276079\ttotal: 26.8ms\tremaining: 509ms\n",
      "15:\tlearn: 1.9148964\ttotal: 28.4ms\tremaining: 505ms\n",
      "16:\tlearn: 1.9007729\ttotal: 30.4ms\tremaining: 506ms\n",
      "17:\tlearn: 1.8854351\ttotal: 31.8ms\tremaining: 499ms\n",
      "18:\tlearn: 1.8726682\ttotal: 33.5ms\tremaining: 495ms\n",
      "19:\tlearn: 1.8569717\ttotal: 35.2ms\tremaining: 492ms\n",
      "20:\tlearn: 1.8432845\ttotal: 36.8ms\tremaining: 489ms\n",
      "21:\tlearn: 1.8298324\ttotal: 38.5ms\tremaining: 486ms\n",
      "22:\tlearn: 1.8212583\ttotal: 40.1ms\tremaining: 483ms\n",
      "23:\tlearn: 1.8116568\ttotal: 41.7ms\tremaining: 480ms\n",
      "24:\tlearn: 1.7996494\ttotal: 43.4ms\tremaining: 478ms\n",
      "25:\tlearn: 1.7883124\ttotal: 45.1ms\tremaining: 475ms\n",
      "26:\tlearn: 1.7747685\ttotal: 46.7ms\tremaining: 473ms\n",
      "27:\tlearn: 1.7643034\ttotal: 48.3ms\tremaining: 469ms\n",
      "28:\tlearn: 1.7547611\ttotal: 49.9ms\tremaining: 467ms\n",
      "29:\tlearn: 1.7474995\ttotal: 51.6ms\tremaining: 464ms\n",
      "30:\tlearn: 1.7374329\ttotal: 53.2ms\tremaining: 461ms\n",
      "31:\tlearn: 1.7294802\ttotal: 54.8ms\tremaining: 459ms\n",
      "32:\tlearn: 1.7200224\ttotal: 56.4ms\tremaining: 456ms\n",
      "33:\tlearn: 1.7094744\ttotal: 58.1ms\tremaining: 454ms\n",
      "34:\tlearn: 1.7017635\ttotal: 59.7ms\tremaining: 452ms\n",
      "35:\tlearn: 1.6919988\ttotal: 61.3ms\tremaining: 450ms\n",
      "36:\tlearn: 1.6859708\ttotal: 62.9ms\tremaining: 447ms\n",
      "37:\tlearn: 1.6798450\ttotal: 64.6ms\tremaining: 445ms\n",
      "38:\tlearn: 1.6715681\ttotal: 66.1ms\tremaining: 443ms\n",
      "39:\tlearn: 1.6659507\ttotal: 67.8ms\tremaining: 441ms\n",
      "40:\tlearn: 1.6592625\ttotal: 69.4ms\tremaining: 438ms\n",
      "41:\tlearn: 1.6513433\ttotal: 71.2ms\tremaining: 437ms\n",
      "42:\tlearn: 1.6449775\ttotal: 72.9ms\tremaining: 436ms\n",
      "43:\tlearn: 1.6374475\ttotal: 74.3ms\tremaining: 432ms\n",
      "44:\tlearn: 1.6298002\ttotal: 75.9ms\tremaining: 430ms\n",
      "45:\tlearn: 1.6231665\ttotal: 77.5ms\tremaining: 428ms\n",
      "46:\tlearn: 1.6185090\ttotal: 79.2ms\tremaining: 426ms\n",
      "47:\tlearn: 1.6117452\ttotal: 80.8ms\tremaining: 424ms\n",
      "48:\tlearn: 1.6061017\ttotal: 82.4ms\tremaining: 422ms\n",
      "49:\tlearn: 1.6000818\ttotal: 84ms\tremaining: 420ms\n",
      "50:\tlearn: 1.5935206\ttotal: 85.6ms\tremaining: 418ms\n",
      "51:\tlearn: 1.5896023\ttotal: 87.2ms\tremaining: 416ms\n",
      "52:\tlearn: 1.5840578\ttotal: 88.8ms\tremaining: 414ms\n",
      "53:\tlearn: 1.5778501\ttotal: 90.4ms\tremaining: 412ms\n",
      "54:\tlearn: 1.5712017\ttotal: 92ms\tremaining: 410ms\n",
      "55:\tlearn: 1.5642632\ttotal: 93.6ms\tremaining: 408ms\n",
      "56:\tlearn: 1.5568549\ttotal: 95.2ms\tremaining: 406ms\n",
      "57:\tlearn: 1.5498816\ttotal: 96.8ms\tremaining: 404ms\n",
      "58:\tlearn: 1.5449966\ttotal: 98.2ms\tremaining: 401ms\n",
      "59:\tlearn: 1.5391438\ttotal: 99.6ms\tremaining: 398ms\n",
      "60:\tlearn: 1.5327296\ttotal: 101ms\tremaining: 396ms\n",
      "61:\tlearn: 1.5277424\ttotal: 102ms\tremaining: 393ms\n",
      "62:\tlearn: 1.5223761\ttotal: 104ms\tremaining: 390ms\n",
      "63:\tlearn: 1.5182384\ttotal: 105ms\tremaining: 388ms\n",
      "64:\tlearn: 1.5121094\ttotal: 106ms\tremaining: 385ms\n",
      "65:\tlearn: 1.5081426\ttotal: 108ms\tremaining: 383ms\n",
      "66:\tlearn: 1.5049893\ttotal: 109ms\tremaining: 381ms\n",
      "67:\tlearn: 1.4999839\ttotal: 111ms\tremaining: 378ms\n",
      "68:\tlearn: 1.4943558\ttotal: 112ms\tremaining: 376ms\n",
      "69:\tlearn: 1.4905948\ttotal: 114ms\tremaining: 373ms\n",
      "70:\tlearn: 1.4876017\ttotal: 115ms\tremaining: 371ms\n",
      "71:\tlearn: 1.4828067\ttotal: 116ms\tremaining: 368ms\n",
      "72:\tlearn: 1.4786715\ttotal: 118ms\tremaining: 366ms\n",
      "73:\tlearn: 1.4733651\ttotal: 119ms\tremaining: 364ms\n",
      "74:\tlearn: 1.4674792\ttotal: 120ms\tremaining: 361ms\n",
      "75:\tlearn: 1.4625225\ttotal: 122ms\tremaining: 359ms\n",
      "76:\tlearn: 1.4584643\ttotal: 123ms\tremaining: 357ms\n",
      "77:\tlearn: 1.4550074\ttotal: 125ms\tremaining: 355ms\n",
      "78:\tlearn: 1.4518504\ttotal: 126ms\tremaining: 352ms\n",
      "79:\tlearn: 1.4487527\ttotal: 127ms\tremaining: 350ms\n",
      "80:\tlearn: 1.4455545\ttotal: 129ms\tremaining: 348ms\n",
      "81:\tlearn: 1.4405052\ttotal: 130ms\tremaining: 346ms\n",
      "82:\tlearn: 1.4365029\ttotal: 131ms\tremaining: 344ms\n",
      "83:\tlearn: 1.4322919\ttotal: 133ms\tremaining: 342ms\n",
      "84:\tlearn: 1.4282246\ttotal: 134ms\tremaining: 340ms\n",
      "85:\tlearn: 1.4233133\ttotal: 136ms\tremaining: 337ms\n",
      "86:\tlearn: 1.4204070\ttotal: 137ms\tremaining: 335ms\n",
      "87:\tlearn: 1.4160005\ttotal: 138ms\tremaining: 333ms\n",
      "88:\tlearn: 1.4129793\ttotal: 140ms\tremaining: 331ms\n",
      "89:\tlearn: 1.4084276\ttotal: 141ms\tremaining: 329ms\n",
      "90:\tlearn: 1.4054211\ttotal: 143ms\tremaining: 327ms\n",
      "91:\tlearn: 1.4020329\ttotal: 144ms\tremaining: 325ms\n",
      "92:\tlearn: 1.3993348\ttotal: 145ms\tremaining: 323ms\n",
      "93:\tlearn: 1.3948562\ttotal: 147ms\tremaining: 322ms\n",
      "94:\tlearn: 1.3912577\ttotal: 148ms\tremaining: 320ms\n",
      "95:\tlearn: 1.3887143\ttotal: 150ms\tremaining: 318ms\n",
      "96:\tlearn: 1.3839188\ttotal: 151ms\tremaining: 316ms\n",
      "97:\tlearn: 1.3808039\ttotal: 152ms\tremaining: 314ms\n",
      "98:\tlearn: 1.3778525\ttotal: 154ms\tremaining: 312ms\n",
      "99:\tlearn: 1.3737994\ttotal: 155ms\tremaining: 310ms\n",
      "100:\tlearn: 1.3705379\ttotal: 157ms\tremaining: 310ms\n",
      "101:\tlearn: 1.3679533\ttotal: 159ms\tremaining: 308ms\n",
      "102:\tlearn: 1.3643078\ttotal: 160ms\tremaining: 306ms\n",
      "103:\tlearn: 1.3614603\ttotal: 162ms\tremaining: 305ms\n",
      "104:\tlearn: 1.3590954\ttotal: 163ms\tremaining: 303ms\n",
      "105:\tlearn: 1.3571417\ttotal: 164ms\tremaining: 301ms\n",
      "106:\tlearn: 1.3537522\ttotal: 166ms\tremaining: 299ms\n",
      "107:\tlearn: 1.3514613\ttotal: 167ms\tremaining: 297ms\n",
      "108:\tlearn: 1.3486055\ttotal: 168ms\tremaining: 295ms\n",
      "109:\tlearn: 1.3436179\ttotal: 170ms\tremaining: 293ms\n",
      "110:\tlearn: 1.3410330\ttotal: 171ms\tremaining: 292ms\n",
      "111:\tlearn: 1.3386498\ttotal: 173ms\tremaining: 290ms\n",
      "112:\tlearn: 1.3352409\ttotal: 174ms\tremaining: 288ms\n",
      "113:\tlearn: 1.3321823\ttotal: 176ms\tremaining: 286ms\n",
      "114:\tlearn: 1.3296261\ttotal: 177ms\tremaining: 285ms\n",
      "115:\tlearn: 1.3261370\ttotal: 178ms\tremaining: 283ms\n",
      "116:\tlearn: 1.3239223\ttotal: 180ms\tremaining: 281ms\n",
      "117:\tlearn: 1.3213879\ttotal: 181ms\tremaining: 280ms\n",
      "118:\tlearn: 1.3191189\ttotal: 183ms\tremaining: 278ms\n",
      "119:\tlearn: 1.3161702\ttotal: 184ms\tremaining: 276ms\n",
      "120:\tlearn: 1.3140369\ttotal: 185ms\tremaining: 273ms\n",
      "121:\tlearn: 1.3115142\ttotal: 187ms\tremaining: 272ms\n",
      "122:\tlearn: 1.3088040\ttotal: 188ms\tremaining: 270ms\n",
      "123:\tlearn: 1.3064484\ttotal: 189ms\tremaining: 269ms\n",
      "124:\tlearn: 1.3035028\ttotal: 191ms\tremaining: 267ms\n",
      "125:\tlearn: 1.3016488\ttotal: 192ms\tremaining: 266ms\n",
      "126:\tlearn: 1.2998744\ttotal: 194ms\tremaining: 264ms\n",
      "127:\tlearn: 1.2975083\ttotal: 195ms\tremaining: 262ms\n",
      "128:\tlearn: 1.2961506\ttotal: 196ms\tremaining: 260ms\n",
      "129:\tlearn: 1.2951959\ttotal: 198ms\tremaining: 259ms\n",
      "130:\tlearn: 1.2936606\ttotal: 199ms\tremaining: 257ms\n",
      "131:\tlearn: 1.2904540\ttotal: 200ms\tremaining: 254ms\n",
      "132:\tlearn: 1.2878596\ttotal: 201ms\tremaining: 253ms\n",
      "133:\tlearn: 1.2848791\ttotal: 202ms\tremaining: 251ms\n",
      "134:\tlearn: 1.2816156\ttotal: 204ms\tremaining: 249ms\n",
      "135:\tlearn: 1.2803365\ttotal: 205ms\tremaining: 247ms\n",
      "136:\tlearn: 1.2783793\ttotal: 206ms\tremaining: 245ms\n",
      "137:\tlearn: 1.2761963\ttotal: 207ms\tremaining: 243ms\n",
      "138:\tlearn: 1.2730733\ttotal: 209ms\tremaining: 242ms\n",
      "139:\tlearn: 1.2710606\ttotal: 210ms\tremaining: 240ms\n",
      "140:\tlearn: 1.2687521\ttotal: 211ms\tremaining: 238ms\n",
      "141:\tlearn: 1.2667957\ttotal: 213ms\tremaining: 237ms\n",
      "142:\tlearn: 1.2642557\ttotal: 214ms\tremaining: 235ms\n",
      "143:\tlearn: 1.2617836\ttotal: 215ms\tremaining: 233ms\n",
      "144:\tlearn: 1.2599829\ttotal: 217ms\tremaining: 232ms\n",
      "145:\tlearn: 1.2577593\ttotal: 219ms\tremaining: 231ms\n",
      "146:\tlearn: 1.2560937\ttotal: 220ms\tremaining: 229ms\n",
      "147:\tlearn: 1.2524529\ttotal: 221ms\tremaining: 227ms\n",
      "148:\tlearn: 1.2499910\ttotal: 222ms\tremaining: 225ms\n",
      "149:\tlearn: 1.2477180\ttotal: 224ms\tremaining: 224ms\n",
      "150:\tlearn: 1.2450084\ttotal: 225ms\tremaining: 222ms\n",
      "151:\tlearn: 1.2432881\ttotal: 226ms\tremaining: 220ms\n",
      "152:\tlearn: 1.2395902\ttotal: 228ms\tremaining: 219ms\n",
      "153:\tlearn: 1.2384300\ttotal: 229ms\tremaining: 217ms\n",
      "154:\tlearn: 1.2362650\ttotal: 230ms\tremaining: 216ms\n",
      "155:\tlearn: 1.2347535\ttotal: 232ms\tremaining: 214ms\n",
      "156:\tlearn: 1.2322055\ttotal: 233ms\tremaining: 212ms\n",
      "157:\tlearn: 1.2298739\ttotal: 234ms\tremaining: 211ms\n",
      "158:\tlearn: 1.2275678\ttotal: 236ms\tremaining: 210ms\n",
      "159:\tlearn: 1.2264357\ttotal: 238ms\tremaining: 208ms\n",
      "160:\tlearn: 1.2245947\ttotal: 239ms\tremaining: 206ms\n",
      "161:\tlearn: 1.2227424\ttotal: 240ms\tremaining: 205ms\n",
      "162:\tlearn: 1.2211310\ttotal: 242ms\tremaining: 203ms\n",
      "163:\tlearn: 1.2195908\ttotal: 243ms\tremaining: 201ms\n",
      "164:\tlearn: 1.2179417\ttotal: 244ms\tremaining: 200ms\n",
      "165:\tlearn: 1.2158156\ttotal: 246ms\tremaining: 198ms\n",
      "166:\tlearn: 1.2136424\ttotal: 247ms\tremaining: 197ms\n",
      "167:\tlearn: 1.2122145\ttotal: 249ms\tremaining: 195ms\n",
      "168:\tlearn: 1.2109157\ttotal: 250ms\tremaining: 194ms\n",
      "169:\tlearn: 1.2092590\ttotal: 252ms\tremaining: 193ms\n",
      "170:\tlearn: 1.2076243\ttotal: 253ms\tremaining: 191ms\n",
      "171:\tlearn: 1.2058588\ttotal: 255ms\tremaining: 189ms\n",
      "172:\tlearn: 1.2038286\ttotal: 256ms\tremaining: 188ms\n",
      "173:\tlearn: 1.2026976\ttotal: 257ms\tremaining: 186ms\n",
      "174:\tlearn: 1.1992264\ttotal: 259ms\tremaining: 185ms\n",
      "175:\tlearn: 1.1989072\ttotal: 260ms\tremaining: 183ms\n",
      "176:\tlearn: 1.1972863\ttotal: 262ms\tremaining: 182ms\n",
      "177:\tlearn: 1.1953192\ttotal: 263ms\tremaining: 180ms\n",
      "178:\tlearn: 1.1923564\ttotal: 265ms\tremaining: 179ms\n",
      "179:\tlearn: 1.1908178\ttotal: 266ms\tremaining: 177ms\n",
      "180:\tlearn: 1.1887972\ttotal: 268ms\tremaining: 176ms\n",
      "181:\tlearn: 1.1872343\ttotal: 269ms\tremaining: 174ms\n",
      "182:\tlearn: 1.1860640\ttotal: 270ms\tremaining: 173ms\n",
      "183:\tlearn: 1.1843538\ttotal: 272ms\tremaining: 171ms\n",
      "184:\tlearn: 1.1826197\ttotal: 273ms\tremaining: 170ms\n",
      "185:\tlearn: 1.1809141\ttotal: 275ms\tremaining: 168ms\n",
      "186:\tlearn: 1.1784847\ttotal: 276ms\tremaining: 167ms\n",
      "187:\tlearn: 1.1767857\ttotal: 277ms\tremaining: 165ms\n",
      "188:\tlearn: 1.1755841\ttotal: 279ms\tremaining: 164ms\n",
      "189:\tlearn: 1.1741269\ttotal: 280ms\tremaining: 162ms\n",
      "190:\tlearn: 1.1712976\ttotal: 282ms\tremaining: 161ms\n",
      "191:\tlearn: 1.1696237\ttotal: 283ms\tremaining: 159ms\n",
      "192:\tlearn: 1.1682684\ttotal: 284ms\tremaining: 158ms\n",
      "193:\tlearn: 1.1672309\ttotal: 286ms\tremaining: 156ms\n"
     ]
    },
    {
     "name": "stdout",
     "output_type": "stream",
     "text": [
      "194:\tlearn: 1.1657863\ttotal: 288ms\tremaining: 155ms\n",
      "195:\tlearn: 1.1646317\ttotal: 290ms\tremaining: 154ms\n",
      "196:\tlearn: 1.1641430\ttotal: 291ms\tremaining: 152ms\n",
      "197:\tlearn: 1.1629482\ttotal: 293ms\tremaining: 151ms\n",
      "198:\tlearn: 1.1616270\ttotal: 294ms\tremaining: 149ms\n",
      "199:\tlearn: 1.1607726\ttotal: 295ms\tremaining: 148ms\n",
      "200:\tlearn: 1.1592304\ttotal: 297ms\tremaining: 146ms\n",
      "201:\tlearn: 1.1574087\ttotal: 298ms\tremaining: 145ms\n",
      "202:\tlearn: 1.1556074\ttotal: 299ms\tremaining: 143ms\n",
      "203:\tlearn: 1.1547086\ttotal: 300ms\tremaining: 141ms\n",
      "204:\tlearn: 1.1517494\ttotal: 301ms\tremaining: 139ms\n",
      "205:\tlearn: 1.1499352\ttotal: 302ms\tremaining: 138ms\n",
      "206:\tlearn: 1.1490962\ttotal: 303ms\tremaining: 136ms\n",
      "207:\tlearn: 1.1486231\ttotal: 304ms\tremaining: 134ms\n",
      "208:\tlearn: 1.1477606\ttotal: 305ms\tremaining: 133ms\n",
      "209:\tlearn: 1.1461587\ttotal: 306ms\tremaining: 131ms\n",
      "210:\tlearn: 1.1455743\ttotal: 307ms\tremaining: 129ms\n",
      "211:\tlearn: 1.1436104\ttotal: 307ms\tremaining: 128ms\n",
      "212:\tlearn: 1.1419719\ttotal: 308ms\tremaining: 126ms\n",
      "213:\tlearn: 1.1398296\ttotal: 309ms\tremaining: 124ms\n",
      "214:\tlearn: 1.1395275\ttotal: 310ms\tremaining: 123ms\n",
      "215:\tlearn: 1.1391289\ttotal: 311ms\tremaining: 121ms\n",
      "216:\tlearn: 1.1383165\ttotal: 311ms\tremaining: 119ms\n",
      "217:\tlearn: 1.1379177\ttotal: 312ms\tremaining: 117ms\n",
      "218:\tlearn: 1.1371530\ttotal: 313ms\tremaining: 116ms\n",
      "219:\tlearn: 1.1369363\ttotal: 314ms\tremaining: 114ms\n",
      "220:\tlearn: 1.1361298\ttotal: 314ms\tremaining: 112ms\n",
      "221:\tlearn: 1.1357560\ttotal: 315ms\tremaining: 111ms\n",
      "222:\tlearn: 1.1353920\ttotal: 316ms\tremaining: 109ms\n",
      "223:\tlearn: 1.1329439\ttotal: 317ms\tremaining: 108ms\n",
      "224:\tlearn: 1.1324557\ttotal: 319ms\tremaining: 106ms\n",
      "225:\tlearn: 1.1320443\ttotal: 320ms\tremaining: 105ms\n",
      "226:\tlearn: 1.1307870\ttotal: 322ms\tremaining: 103ms\n",
      "227:\tlearn: 1.1304684\ttotal: 323ms\tremaining: 102ms\n",
      "228:\tlearn: 1.1300413\ttotal: 325ms\tremaining: 101ms\n",
      "229:\tlearn: 1.1266934\ttotal: 326ms\tremaining: 99.2ms\n",
      "230:\tlearn: 1.1250284\ttotal: 327ms\tremaining: 97.8ms\n",
      "231:\tlearn: 1.1239503\ttotal: 329ms\tremaining: 96.4ms\n",
      "232:\tlearn: 1.1228502\ttotal: 330ms\tremaining: 95ms\n",
      "233:\tlearn: 1.1223110\ttotal: 332ms\tremaining: 93.6ms\n",
      "234:\tlearn: 1.1214398\ttotal: 333ms\tremaining: 92.1ms\n",
      "235:\tlearn: 1.1202796\ttotal: 335ms\tremaining: 90.8ms\n",
      "236:\tlearn: 1.1196804\ttotal: 336ms\tremaining: 89.4ms\n",
      "237:\tlearn: 1.1193069\ttotal: 338ms\tremaining: 87.9ms\n",
      "238:\tlearn: 1.1189239\ttotal: 339ms\tremaining: 86.5ms\n",
      "239:\tlearn: 1.1176483\ttotal: 340ms\tremaining: 85.1ms\n",
      "240:\tlearn: 1.1163286\ttotal: 342ms\tremaining: 83.8ms\n",
      "241:\tlearn: 1.1146631\ttotal: 344ms\tremaining: 82.4ms\n",
      "242:\tlearn: 1.1141196\ttotal: 345ms\tremaining: 81ms\n",
      "243:\tlearn: 1.1138729\ttotal: 347ms\tremaining: 79.7ms\n",
      "244:\tlearn: 1.1123431\ttotal: 349ms\tremaining: 78.3ms\n",
      "245:\tlearn: 1.1094346\ttotal: 350ms\tremaining: 76.9ms\n",
      "246:\tlearn: 1.1078414\ttotal: 352ms\tremaining: 75.4ms\n",
      "247:\tlearn: 1.1074473\ttotal: 353ms\tremaining: 74ms\n",
      "248:\tlearn: 1.1070998\ttotal: 354ms\tremaining: 72.6ms\n",
      "249:\tlearn: 1.1066718\ttotal: 356ms\tremaining: 71.2ms\n",
      "250:\tlearn: 1.1058016\ttotal: 357ms\tremaining: 69.8ms\n",
      "251:\tlearn: 1.1043300\ttotal: 359ms\tremaining: 68.4ms\n",
      "252:\tlearn: 1.1032392\ttotal: 361ms\tremaining: 67ms\n",
      "253:\tlearn: 1.1024555\ttotal: 362ms\tremaining: 65.6ms\n",
      "254:\tlearn: 1.1020869\ttotal: 364ms\tremaining: 64.2ms\n",
      "255:\tlearn: 1.1015613\ttotal: 365ms\tremaining: 62.7ms\n",
      "256:\tlearn: 1.1008074\ttotal: 367ms\tremaining: 61.3ms\n",
      "257:\tlearn: 1.0992536\ttotal: 368ms\tremaining: 59.9ms\n",
      "258:\tlearn: 1.0988027\ttotal: 369ms\tremaining: 58.5ms\n",
      "259:\tlearn: 1.0984561\ttotal: 371ms\tremaining: 57.1ms\n",
      "260:\tlearn: 1.0981740\ttotal: 373ms\tremaining: 55.7ms\n",
      "261:\tlearn: 1.0979095\ttotal: 374ms\tremaining: 54.2ms\n",
      "262:\tlearn: 1.0974585\ttotal: 375ms\tremaining: 52.8ms\n",
      "263:\tlearn: 1.0969287\ttotal: 377ms\tremaining: 51.4ms\n",
      "264:\tlearn: 1.0964555\ttotal: 378ms\tremaining: 49.9ms\n",
      "265:\tlearn: 1.0936004\ttotal: 380ms\tremaining: 48.5ms\n",
      "266:\tlearn: 1.0930124\ttotal: 381ms\tremaining: 47.1ms\n",
      "267:\tlearn: 1.0911954\ttotal: 382ms\tremaining: 45.7ms\n",
      "268:\tlearn: 1.0909035\ttotal: 384ms\tremaining: 44.2ms\n",
      "269:\tlearn: 1.0906384\ttotal: 385ms\tremaining: 42.8ms\n",
      "270:\tlearn: 1.0878909\ttotal: 386ms\tremaining: 41.3ms\n",
      "271:\tlearn: 1.0869476\ttotal: 387ms\tremaining: 39.9ms\n",
      "272:\tlearn: 1.0861954\ttotal: 389ms\tremaining: 38.4ms\n",
      "273:\tlearn: 1.0843423\ttotal: 390ms\tremaining: 37ms\n",
      "274:\tlearn: 1.0839513\ttotal: 392ms\tremaining: 35.6ms\n",
      "275:\tlearn: 1.0836572\ttotal: 393ms\tremaining: 34.2ms\n",
      "276:\tlearn: 1.0822913\ttotal: 394ms\tremaining: 32.7ms\n",
      "277:\tlearn: 1.0810579\ttotal: 396ms\tremaining: 31.3ms\n",
      "278:\tlearn: 1.0797162\ttotal: 398ms\tremaining: 29.9ms\n",
      "279:\tlearn: 1.0788269\ttotal: 399ms\tremaining: 28.5ms\n",
      "280:\tlearn: 1.0783943\ttotal: 400ms\tremaining: 27.1ms\n",
      "281:\tlearn: 1.0781369\ttotal: 402ms\tremaining: 25.6ms\n",
      "282:\tlearn: 1.0771546\ttotal: 403ms\tremaining: 24.2ms\n",
      "283:\tlearn: 1.0767783\ttotal: 404ms\tremaining: 22.8ms\n",
      "284:\tlearn: 1.0755218\ttotal: 406ms\tremaining: 21.3ms\n",
      "285:\tlearn: 1.0749870\ttotal: 407ms\tremaining: 19.9ms\n",
      "286:\tlearn: 1.0742717\ttotal: 408ms\tremaining: 18.5ms\n",
      "287:\tlearn: 1.0730731\ttotal: 410ms\tremaining: 17.1ms\n",
      "288:\tlearn: 1.0728340\ttotal: 411ms\tremaining: 15.7ms\n",
      "289:\tlearn: 1.0725397\ttotal: 413ms\tremaining: 14.2ms\n",
      "290:\tlearn: 1.0721952\ttotal: 414ms\tremaining: 12.8ms\n",
      "291:\tlearn: 1.0705115\ttotal: 416ms\tremaining: 11.4ms\n",
      "292:\tlearn: 1.0693750\ttotal: 417ms\tremaining: 9.96ms\n",
      "293:\tlearn: 1.0683998\ttotal: 418ms\tremaining: 8.54ms\n",
      "294:\tlearn: 1.0680231\ttotal: 420ms\tremaining: 7.12ms\n",
      "295:\tlearn: 1.0668572\ttotal: 421ms\tremaining: 5.69ms\n",
      "296:\tlearn: 1.0654010\ttotal: 422ms\tremaining: 4.26ms\n",
      "297:\tlearn: 1.0651973\ttotal: 423ms\tremaining: 2.84ms\n",
      "298:\tlearn: 1.0645560\ttotal: 424ms\tremaining: 1.42ms\n",
      "299:\tlearn: 1.0636002\ttotal: 426ms\tremaining: 0us\n"
     ]
    },
    {
     "data": {
      "text/plain": [
       "<catboost.core.CatBoostRegressor at 0x25c434aaa20>"
      ]
     },
     "execution_count": 337,
     "metadata": {},
     "output_type": "execute_result"
    }
   ],
   "source": [
    "cb.fit(x_train,y_train)"
   ]
  },
  {
   "cell_type": "code",
   "execution_count": 338,
   "metadata": {},
   "outputs": [
    {
     "data": {
      "text/plain": [
       "0.7610018271908514"
      ]
     },
     "execution_count": 338,
     "metadata": {},
     "output_type": "execute_result"
    }
   ],
   "source": [
    "cb.score(x_train,y_train)"
   ]
  },
  {
   "cell_type": "code",
   "execution_count": 339,
   "metadata": {},
   "outputs": [],
   "source": [
    "y_cb = cb.predict(x_test)"
   ]
  },
  {
   "cell_type": "markdown",
   "metadata": {},
   "source": [
    "# Cat Boost REsults  \n",
    "1) R2 Score\n",
    "2) MAE\n",
    "3) MSE\n",
    "4) RMSE\n",
    "5) MAPE"
   ]
  },
  {
   "cell_type": "code",
   "execution_count": 340,
   "metadata": {},
   "outputs": [
    {
     "data": {
      "text/plain": [
       "0.7117615279712023"
      ]
     },
     "execution_count": 340,
     "metadata": {},
     "output_type": "execute_result"
    }
   ],
   "source": [
    "r2_score(y_test,y_cb)"
   ]
  },
  {
   "cell_type": "code",
   "execution_count": 341,
   "metadata": {},
   "outputs": [
    {
     "data": {
      "text/plain": [
       "0.7838503168636091"
      ]
     },
     "execution_count": 341,
     "metadata": {},
     "output_type": "execute_result"
    }
   ],
   "source": [
    "mean_absolute_error(y_test,y_cb)"
   ]
  },
  {
   "cell_type": "code",
   "execution_count": 342,
   "metadata": {},
   "outputs": [
    {
     "data": {
      "text/plain": [
       "1.5551379568389223"
      ]
     },
     "execution_count": 342,
     "metadata": {},
     "output_type": "execute_result"
    }
   ],
   "source": [
    "mean_squared_error(y_test,y_cb)"
   ]
  },
  {
   "cell_type": "code",
   "execution_count": 343,
   "metadata": {},
   "outputs": [
    {
     "data": {
      "text/plain": [
       "1.2470517057599986"
      ]
     },
     "execution_count": 343,
     "metadata": {},
     "output_type": "execute_result"
    }
   ],
   "source": [
    "np.sqrt(mean_squared_error(y_test,y_cb))"
   ]
  },
  {
   "cell_type": "code",
   "execution_count": 344,
   "metadata": {},
   "outputs": [
    {
     "data": {
      "text/plain": [
       "0.12494893585474362"
      ]
     },
     "execution_count": 344,
     "metadata": {},
     "output_type": "execute_result"
    }
   ],
   "source": [
    "MAPE(y_test,y_cb)"
   ]
  },
  {
   "cell_type": "code",
   "execution_count": 345,
   "metadata": {},
   "outputs": [
    {
     "data": {
      "text/plain": [
       "<AxesSubplot:>"
      ]
     },
     "execution_count": 345,
     "metadata": {},
     "output_type": "execute_result"
    },
    {
     "data": {
      "image/png": "[encoded data removed]",
      "text/plain": [
       "<Figure size 576x720 with 1 Axes>"
      ]
     },
     "metadata": {
      "needs_background": "light"
     },
     "output_type": "display_data"
    }
   ],
   "source": [
    "feat_imp = pd.Series(cb.feature_importances_, index=x_train.columns)\n",
    "feat_imp.nlargest(30).plot(kind='barh', figsize=(8,10))"
   ]
  },
  {
   "cell_type": "markdown",
   "metadata": {},
   "source": [
    "# Linear Regression"
   ]
  },
  {
   "cell_type": "code",
   "execution_count": 346,
   "metadata": {},
   "outputs": [],
   "source": [
    "from sklearn.linear_model import LinearRegression"
   ]
  },
  {
   "cell_type": "code",
   "execution_count": 347,
   "metadata": {},
   "outputs": [],
   "source": [
    "lr = LinearRegression()"
   ]
  },
  {
   "cell_type": "code",
   "execution_count": 348,
   "metadata": {},
   "outputs": [
    {
     "data": {
      "text/plain": [
       "(403, 15)"
      ]
     },
     "execution_count": 348,
     "metadata": {},
     "output_type": "execute_result"
    }
   ],
   "source": [
    "combine.shape"
   ]
  },
  {
   "cell_type": "code",
   "execution_count": 349,
   "metadata": {},
   "outputs": [
    {
     "data": {
      "text/plain": [
       "0       4.310000\n",
       "1       4.440000\n",
       "2       4.640000\n",
       "3       4.630000\n",
       "4       7.720000\n",
       "         ...    \n",
       "398    16.110001\n",
       "399     4.390000\n",
       "400    13.630000\n",
       "401     4.490000\n",
       "402     4.840000\n",
       "Name: glyhb, Length: 403, dtype: float64"
      ]
     },
     "execution_count": 349,
     "metadata": {},
     "output_type": "execute_result"
    }
   ],
   "source": [
    "y"
   ]
  },
  {
   "cell_type": "code",
   "execution_count": 350,
   "metadata": {},
   "outputs": [],
   "source": [
    "from sklearn.model_selection import KFold\n",
    "from sklearn.model_selection import cross_val_score\n",
    "from sklearn.metrics import fbeta_score, make_scorer"
   ]
  },
  {
   "cell_type": "code",
   "execution_count": 351,
   "metadata": {},
   "outputs": [],
   "source": [
    "score = make_scorer(r2_score)"
   ]
  },
  {
   "cell_type": "code",
   "execution_count": 352,
   "metadata": {},
   "outputs": [],
   "source": [
    "k = KFold(n_splits=10,random_state=42,shuffle=True)"
   ]
  },
  {
   "cell_type": "code",
   "execution_count": 353,
   "metadata": {},
   "outputs": [],
   "source": [
    "scores = cross_val_score(lr,x_train,y_train,scoring ='r2',cv=k,n_jobs=-1)"
   ]
  },
  {
   "cell_type": "code",
   "execution_count": 354,
   "metadata": {},
   "outputs": [
    {
     "data": {
      "text/plain": [
       "array([ 0.24937947,  0.21670795,  0.3818629 ,  0.25353131,  0.45070878,\n",
       "        0.63230627,  0.51529065,  0.53330318,  0.70600698, -0.29586119])"
      ]
     },
     "execution_count": 354,
     "metadata": {},
     "output_type": "execute_result"
    }
   ],
   "source": [
    "scores"
   ]
  },
  {
   "cell_type": "code",
   "execution_count": 355,
   "metadata": {},
   "outputs": [
    {
     "data": {
      "text/plain": [
       "0.41628584278304565"
      ]
     },
     "execution_count": 355,
     "metadata": {},
     "output_type": "execute_result"
    }
   ],
   "source": [
    "np.median(scores)"
   ]
  },
  {
   "cell_type": "code",
   "execution_count": 356,
   "metadata": {},
   "outputs": [
    {
     "data": {
      "text/plain": [
       "LinearRegression()"
      ]
     },
     "execution_count": 356,
     "metadata": {},
     "output_type": "execute_result"
    }
   ],
   "source": [
    "lr.fit(x_train,y_train)"
   ]
  },
  {
   "cell_type": "code",
   "execution_count": 357,
   "metadata": {},
   "outputs": [],
   "source": [
    "y_lr_1 = lr.predict(x_test)"
   ]
  },
  {
   "cell_type": "code",
   "execution_count": 358,
   "metadata": {},
   "outputs": [],
   "source": [
    "# y_lr = lr.predict(x_test)"
   ]
  },
  {
   "cell_type": "code",
   "execution_count": 359,
   "metadata": {},
   "outputs": [
    {
     "data": {
      "text/plain": [
       "0.5389821892895266"
      ]
     },
     "execution_count": 359,
     "metadata": {},
     "output_type": "execute_result"
    }
   ],
   "source": [
    "lr.score(x_train,y_train)"
   ]
  },
  {
   "cell_type": "markdown",
   "metadata": {},
   "source": [
    "# LInear REgression Metrics"
   ]
  },
  {
   "cell_type": "code",
   "execution_count": 360,
   "metadata": {},
   "outputs": [
    {
     "data": {
      "text/plain": [
       "0.8304053803906901"
      ]
     },
     "execution_count": 360,
     "metadata": {},
     "output_type": "execute_result"
    }
   ],
   "source": [
    "r2_score(y_test,y_lr_1)"
   ]
  },
  {
   "cell_type": "code",
   "execution_count": 361,
   "metadata": {},
   "outputs": [
    {
     "data": {
      "text/plain": [
       "0.7096555830149737"
      ]
     },
     "execution_count": 361,
     "metadata": {},
     "output_type": "execute_result"
    }
   ],
   "source": [
    "mean_absolute_error(y_test,y_lr_1)"
   ]
  },
  {
   "cell_type": "code",
   "execution_count": 362,
   "metadata": {},
   "outputs": [
    {
     "data": {
      "text/plain": [
       "0.9150167511425955"
      ]
     },
     "execution_count": 362,
     "metadata": {},
     "output_type": "execute_result"
    }
   ],
   "source": [
    "mean_squared_error(y_test,y_lr_1)"
   ]
  },
  {
   "cell_type": "code",
   "execution_count": 363,
   "metadata": {},
   "outputs": [
    {
     "data": {
      "text/plain": [
       "0.9565650794078757"
      ]
     },
     "execution_count": 363,
     "metadata": {},
     "output_type": "execute_result"
    }
   ],
   "source": [
    "np.sqrt(mean_squared_error(y_test,y_lr_1))"
   ]
  },
  {
   "cell_type": "code",
   "execution_count": 364,
   "metadata": {},
   "outputs": [
    {
     "data": {
      "text/plain": [
       "0.12529198683891035"
      ]
     },
     "execution_count": 364,
     "metadata": {},
     "output_type": "execute_result"
    }
   ],
   "source": [
    "MAPE(y_test,y_lr_1)"
   ]
  },
  {
   "cell_type": "markdown",
   "metadata": {},
   "source": [
    "\n",
    "# Ensemble"
   ]
  },
  {
   "cell_type": "code",
   "execution_count": 365,
   "metadata": {},
   "outputs": [],
   "source": [
    "# y_ensemble = y_lgbm*0.5 + y_lgbm_emb*0.2 + y_pred*0.3"
   ]
  },
  {
   "cell_type": "code",
   "execution_count": 366,
   "metadata": {},
   "outputs": [],
   "source": [
    "# y_ensemble = y_lr*0.6 + y_lgbm_emb*0.1 +  y_lgbm*0.3"
   ]
  },
  {
   "cell_type": "markdown",
   "metadata": {},
   "source": [
    "###### Ensemble Best Result"
   ]
  },
  {
   "cell_type": "code",
   "execution_count": 367,
   "metadata": {},
   "outputs": [],
   "source": [
    "# y_ensemble = y_lr_1*0.8 + y_lgbm_emb*0.1 + y_pred*0.1"
   ]
  },
  {
   "cell_type": "code",
   "execution_count": 413,
   "metadata": {},
   "outputs": [],
   "source": [
    "y_ensemble = y_lr_1*0.8 + y_lgbm*0.1 +  y_lgbm_emb*0.1\n",
    "# +  y_lgbm_emb*0.2"
   ]
  },
  {
   "cell_type": "markdown",
   "metadata": {},
   "source": [
    "# Ensemble Metrics"
   ]
  },
  {
   "cell_type": "code",
   "execution_count": 414,
   "metadata": {},
   "outputs": [
    {
     "data": {
      "text/plain": [
       "0.831708433279336"
      ]
     },
     "execution_count": 414,
     "metadata": {},
     "output_type": "execute_result"
    }
   ],
   "source": [
    "r2_score(y_test,y_ensemble)"
   ]
  },
  {
   "cell_type": "code",
   "execution_count": 415,
   "metadata": {},
   "outputs": [
    {
     "data": {
      "text/plain": [
       "0.691859391904534"
      ]
     },
     "execution_count": 415,
     "metadata": {},
     "output_type": "execute_result"
    }
   ],
   "source": [
    "mean_absolute_error(y_test,y_ensemble)"
   ]
  },
  {
   "cell_type": "code",
   "execution_count": 416,
   "metadata": {},
   "outputs": [
    {
     "data": {
      "text/plain": [
       "0.9079863676110758"
      ]
     },
     "execution_count": 416,
     "metadata": {},
     "output_type": "execute_result"
    }
   ],
   "source": [
    "mean_squared_error(y_test,y_ensemble)"
   ]
  },
  {
   "cell_type": "code",
   "execution_count": 417,
   "metadata": {},
   "outputs": [
    {
     "data": {
      "text/plain": [
       "0.9528831867606206"
      ]
     },
     "execution_count": 417,
     "metadata": {},
     "output_type": "execute_result"
    }
   ],
   "source": [
    "np.sqrt(mean_squared_error(y_test,y_ensemble))"
   ]
  },
  {
   "cell_type": "code",
   "execution_count": 418,
   "metadata": {},
   "outputs": [
    {
     "data": {
      "text/plain": [
       "0.12108645328920595"
      ]
     },
     "execution_count": 418,
     "metadata": {},
     "output_type": "execute_result"
    }
   ],
   "source": [
    "MAPE(y_test,y_ensemble)"
   ]
  },
  {
   "cell_type": "markdown",
   "metadata": {},
   "source": [
    "# Random Forrest"
   ]
  },
  {
   "cell_type": "code",
   "execution_count": 384,
   "metadata": {},
   "outputs": [],
   "source": [
    "from sklearn.ensemble import RandomForestRegressor"
   ]
  },
  {
   "cell_type": "code",
   "execution_count": 385,
   "metadata": {},
   "outputs": [],
   "source": [
    "rf = RandomForestRegressor(n_estimators=20,\n",
    "    max_depth=2,\n",
    "    min_samples_split=2,\n",
    "    min_samples_leaf=1,)"
   ]
  },
  {
   "cell_type": "code",
   "execution_count": 386,
   "metadata": {},
   "outputs": [
    {
     "data": {
      "text/plain": [
       "RandomForestRegressor(max_depth=2, n_estimators=20)"
      ]
     },
     "execution_count": 386,
     "metadata": {},
     "output_type": "execute_result"
    }
   ],
   "source": [
    "rf.fit(x_train,y_train)"
   ]
  },
  {
   "cell_type": "code",
   "execution_count": 387,
   "metadata": {},
   "outputs": [
    {
     "data": {
      "text/plain": [
       "0.6166280137905097"
      ]
     },
     "execution_count": 387,
     "metadata": {},
     "output_type": "execute_result"
    }
   ],
   "source": [
    "rf.score(x_train,y_train)"
   ]
  },
  {
   "cell_type": "code",
   "execution_count": 388,
   "metadata": {},
   "outputs": [],
   "source": [
    "y_rf = rf.predict(x_test)"
   ]
  },
  {
   "cell_type": "code",
   "execution_count": 389,
   "metadata": {},
   "outputs": [
    {
     "data": {
      "text/plain": [
       "0.6529235002314384"
      ]
     },
     "execution_count": 389,
     "metadata": {},
     "output_type": "execute_result"
    }
   ],
   "source": [
    "r2_score(y_test,y_rf)"
   ]
  },
  {
   "cell_type": "code",
   "execution_count": 390,
   "metadata": {},
   "outputs": [
    {
     "data": {
      "text/plain": [
       "0.8664198084544279"
      ]
     },
     "execution_count": 390,
     "metadata": {},
     "output_type": "execute_result"
    }
   ],
   "source": [
    "mean_absolute_error(y_test,y_rf)"
   ]
  },
  {
   "cell_type": "code",
   "execution_count": 391,
   "metadata": {},
   "outputs": [
    {
     "data": {
      "text/plain": [
       "1.8725877739976342"
      ]
     },
     "execution_count": 391,
     "metadata": {},
     "output_type": "execute_result"
    }
   ],
   "source": [
    "mean_squared_error(y_test,y_rf)"
   ]
  },
  {
   "cell_type": "code",
   "execution_count": 392,
   "metadata": {},
   "outputs": [
    {
     "data": {
      "text/plain": [
       "1.368425289885288"
      ]
     },
     "execution_count": 392,
     "metadata": {},
     "output_type": "execute_result"
    }
   ],
   "source": [
    "np.sqrt(mean_squared_error(y_test,y_rf))"
   ]
  },
  {
   "cell_type": "code",
   "execution_count": 393,
   "metadata": {},
   "outputs": [
    {
     "data": {
      "text/plain": [
       "0.13815389236819425"
      ]
     },
     "execution_count": 393,
     "metadata": {},
     "output_type": "execute_result"
    }
   ],
   "source": [
    "MAPE(y_test,y_rf)"
   ]
  },
  {
   "cell_type": "markdown",
   "metadata": {},
   "source": [
    "# Decision Tree\n"
   ]
  },
  {
   "cell_type": "code",
   "execution_count": 404,
   "metadata": {},
   "outputs": [],
   "source": [
    "from sklearn.tree import DecisionTreeRegressor"
   ]
  },
  {
   "cell_type": "code",
   "execution_count": 395,
   "metadata": {},
   "outputs": [],
   "source": [
    "dt = DecisionTreeRegressor(max_depth=1,min_samples_leaf=2,min_samples_split=2)\n",
    "# ,min_samples_leaf=3,min_samples_split=3"
   ]
  },
  {
   "cell_type": "code",
   "execution_count": 396,
   "metadata": {},
   "outputs": [
    {
     "data": {
      "text/plain": [
       "DecisionTreeRegressor(max_depth=1, min_samples_leaf=2)"
      ]
     },
     "execution_count": 396,
     "metadata": {},
     "output_type": "execute_result"
    }
   ],
   "source": [
    "dt.fit(x_train,y_train)"
   ]
  },
  {
   "cell_type": "code",
   "execution_count": 397,
   "metadata": {},
   "outputs": [
    {
     "data": {
      "text/plain": [
       "0.5112469614813993"
      ]
     },
     "execution_count": 397,
     "metadata": {},
     "output_type": "execute_result"
    }
   ],
   "source": [
    "dt.score(x_train,y_train)"
   ]
  },
  {
   "cell_type": "code",
   "execution_count": 398,
   "metadata": {},
   "outputs": [],
   "source": [
    "y_dt = dt.predict(x_test)"
   ]
  },
  {
   "cell_type": "markdown",
   "metadata": {},
   "source": [
    "# Metrics For Decision Tree"
   ]
  },
  {
   "cell_type": "code",
   "execution_count": 399,
   "metadata": {},
   "outputs": [
    {
     "data": {
      "text/plain": [
       "0.6264471320214846"
      ]
     },
     "execution_count": 399,
     "metadata": {},
     "output_type": "execute_result"
    }
   ],
   "source": [
    "r2_score(y_test,y_dt)"
   ]
  },
  {
   "cell_type": "code",
   "execution_count": 400,
   "metadata": {},
   "outputs": [
    {
     "data": {
      "text/plain": [
       "2.015436176130535"
      ]
     },
     "execution_count": 400,
     "metadata": {},
     "output_type": "execute_result"
    }
   ],
   "source": [
    "mean_squared_error(y_test,y_dt)"
   ]
  },
  {
   "cell_type": "code",
   "execution_count": 401,
   "metadata": {},
   "outputs": [
    {
     "data": {
      "text/plain": [
       "0.8979387887929632"
      ]
     },
     "execution_count": 401,
     "metadata": {},
     "output_type": "execute_result"
    }
   ],
   "source": [
    "mean_absolute_error(y_test,y_dt)"
   ]
  },
  {
   "cell_type": "code",
   "execution_count": 402,
   "metadata": {},
   "outputs": [
    {
     "data": {
      "text/plain": [
       "0.9475963216438544"
      ]
     },
     "execution_count": 402,
     "metadata": {},
     "output_type": "execute_result"
    }
   ],
   "source": [
    "np.sqrt(mean_absolute_error(y_test,y_dt))"
   ]
  },
  {
   "cell_type": "code",
   "execution_count": 403,
   "metadata": {},
   "outputs": [
    {
     "data": {
      "text/plain": [
       "0.1477796864416472"
      ]
     },
     "execution_count": 403,
     "metadata": {},
     "output_type": "execute_result"
    }
   ],
   "source": [
    "MAPE(y_test,y_dt)"
   ]
  },
  {
   "cell_type": "markdown",
   "metadata": {},
   "source": [
    "# Techniques For Preprocessing"
   ]
  },
  {
   "cell_type": "code",
   "execution_count": 456,
   "metadata": {},
   "outputs": [],
   "source": [
    "numerical_col = x_train.select_dtypes([\"float64\",\"int64\"]).columns"
   ]
  },
  {
   "cell_type": "markdown",
   "metadata": {},
   "source": [
    "# Correlation Between Different Features Checking Helps in selecting features  Not Much of use for this Data set"
   ]
  },
  {
   "cell_type": "code",
   "execution_count": 457,
   "metadata": {},
   "outputs": [
    {
     "data": {
      "image/png": "[encoded data removed]",
      "text/plain": [
       "<Figure size 1800x1296 with 2 Axes>"
      ]
     },
     "metadata": {
      "needs_background": "light"
     },
     "output_type": "display_data"
    }
   ],
   "source": [
    "fig = plt.figure(figsize=(25,18))\n",
    "\n",
    "fig.add_axes([0,0,1,1])\n",
    "ax = fig.get_axes()[0]\n",
    "\n",
    "corr_mat = x_train[numerical_col].corr()\n",
    "\n",
    "sns.heatmap(corr_mat,ax=ax,vmin=-1,vmax=1,annot=True)\n",
    "# plt.savefig(\"./heatmap.jpg\", bbox_inches=\"tight\")\n",
    "\n",
    "plt.show()"
   ]
  },
  {
   "cell_type": "code",
   "execution_count": 389,
   "metadata": {},
   "outputs": [
    {
     "name": "stderr",
     "output_type": "stream",
     "text": [
      "C:\\Users\\Hp\\.conda\\envs\\tensorflow_env\\lib\\site-packages\\pandas\\core\\frame.py:3997: SettingWithCopyWarning: \n",
      "A value is trying to be set on a copy of a slice from a DataFrame\n",
      "\n",
      "See the caveats in the documentation: https://pandas.pydata.org/pandas-docs/stable/user_guide/indexing.html#returning-a-view-versus-a-copy\n",
      "  errors=errors,\n"
     ]
    }
   ],
   "source": [
    "x_train.drop(columns=[\"waist\",\"hip\",\"ratio\"],inplace=True)\n",
    "x_test.drop(columns=[\"waist\",\"hip\",\"ratio\"],inplace=True)"
   ]
  },
  {
   "cell_type": "code",
   "execution_count": 393,
   "metadata": {},
   "outputs": [
    {
     "data": {
      "text/html": [
       "<div>\n",
       "<style scoped>\n",
       "    .dataframe tbody tr th:only-of-type {\n",
       "        vertical-align: middle;\n",
       "    }\n",
       "\n",
       "    .dataframe tbody tr th {\n",
       "        vertical-align: top;\n",
       "    }\n",
       "\n",
       "    .dataframe thead th {\n",
       "        text-align: right;\n",
       "    }\n",
       "</style>\n",
       "<table border=\"1\" class=\"dataframe\">\n",
       "  <thead>\n",
       "    <tr style=\"text-align: right;\">\n",
       "      <th></th>\n",
       "      <th>chol</th>\n",
       "      <th>stab.glu</th>\n",
       "      <th>hdl</th>\n",
       "      <th>location</th>\n",
       "      <th>age</th>\n",
       "      <th>gender</th>\n",
       "      <th>height</th>\n",
       "      <th>weight</th>\n",
       "      <th>bp.1s</th>\n",
       "      <th>bp.1d</th>\n",
       "      <th>time.ppn</th>\n",
       "      <th>large</th>\n",
       "      <th>medium</th>\n",
       "      <th>small</th>\n",
       "    </tr>\n",
       "  </thead>\n",
       "  <tbody>\n",
       "    <tr>\n",
       "      <th>70</th>\n",
       "      <td>171.0</td>\n",
       "      <td>4.521789</td>\n",
       "      <td>7.348469</td>\n",
       "      <td>0</td>\n",
       "      <td>40</td>\n",
       "      <td>1</td>\n",
       "      <td>71.0</td>\n",
       "      <td>5.365976</td>\n",
       "      <td>138.0</td>\n",
       "      <td>94.0</td>\n",
       "      <td>240.0</td>\n",
       "      <td>0</td>\n",
       "      <td>1</td>\n",
       "      <td>0</td>\n",
       "    </tr>\n",
       "    <tr>\n",
       "      <th>281</th>\n",
       "      <td>293.0</td>\n",
       "      <td>4.744932</td>\n",
       "      <td>7.348469</td>\n",
       "      <td>0</td>\n",
       "      <td>50</td>\n",
       "      <td>1</td>\n",
       "      <td>71.0</td>\n",
       "      <td>5.135798</td>\n",
       "      <td>131.0</td>\n",
       "      <td>75.0</td>\n",
       "      <td>120.0</td>\n",
       "      <td>0</td>\n",
       "      <td>1</td>\n",
       "      <td>0</td>\n",
       "    </tr>\n",
       "    <tr>\n",
       "      <th>283</th>\n",
       "      <td>198.0</td>\n",
       "      <td>4.521789</td>\n",
       "      <td>7.874008</td>\n",
       "      <td>1</td>\n",
       "      <td>60</td>\n",
       "      <td>1</td>\n",
       "      <td>70.0</td>\n",
       "      <td>5.093750</td>\n",
       "      <td>126.0</td>\n",
       "      <td>78.0</td>\n",
       "      <td>795.0</td>\n",
       "      <td>0</td>\n",
       "      <td>1</td>\n",
       "      <td>0</td>\n",
       "    </tr>\n",
       "    <tr>\n",
       "      <th>33</th>\n",
       "      <td>182.0</td>\n",
       "      <td>4.442651</td>\n",
       "      <td>6.082763</td>\n",
       "      <td>0</td>\n",
       "      <td>61</td>\n",
       "      <td>0</td>\n",
       "      <td>69.0</td>\n",
       "      <td>5.159055</td>\n",
       "      <td>176.0</td>\n",
       "      <td>86.0</td>\n",
       "      <td>330.0</td>\n",
       "      <td>0</td>\n",
       "      <td>1</td>\n",
       "      <td>0</td>\n",
       "    </tr>\n",
       "    <tr>\n",
       "      <th>42</th>\n",
       "      <td>225.0</td>\n",
       "      <td>4.418841</td>\n",
       "      <td>6.480741</td>\n",
       "      <td>0</td>\n",
       "      <td>36</td>\n",
       "      <td>1</td>\n",
       "      <td>67.0</td>\n",
       "      <td>5.257495</td>\n",
       "      <td>149.0</td>\n",
       "      <td>89.0</td>\n",
       "      <td>30.0</td>\n",
       "      <td>1</td>\n",
       "      <td>0</td>\n",
       "      <td>0</td>\n",
       "    </tr>\n",
       "    <tr>\n",
       "      <th>...</th>\n",
       "      <td>...</td>\n",
       "      <td>...</td>\n",
       "      <td>...</td>\n",
       "      <td>...</td>\n",
       "      <td>...</td>\n",
       "      <td>...</td>\n",
       "      <td>...</td>\n",
       "      <td>...</td>\n",
       "      <td>...</td>\n",
       "      <td>...</td>\n",
       "      <td>...</td>\n",
       "      <td>...</td>\n",
       "      <td>...</td>\n",
       "      <td>...</td>\n",
       "    </tr>\n",
       "    <tr>\n",
       "      <th>45</th>\n",
       "      <td>243.0</td>\n",
       "      <td>3.951244</td>\n",
       "      <td>7.681146</td>\n",
       "      <td>0</td>\n",
       "      <td>37</td>\n",
       "      <td>0</td>\n",
       "      <td>64.0</td>\n",
       "      <td>5.451038</td>\n",
       "      <td>110.0</td>\n",
       "      <td>82.0</td>\n",
       "      <td>90.0</td>\n",
       "      <td>0</td>\n",
       "      <td>1</td>\n",
       "      <td>0</td>\n",
       "    </tr>\n",
       "    <tr>\n",
       "      <th>90</th>\n",
       "      <td>159.0</td>\n",
       "      <td>4.477337</td>\n",
       "      <td>6.557439</td>\n",
       "      <td>1</td>\n",
       "      <td>38</td>\n",
       "      <td>1</td>\n",
       "      <td>68.0</td>\n",
       "      <td>5.129899</td>\n",
       "      <td>138.0</td>\n",
       "      <td>79.0</td>\n",
       "      <td>690.0</td>\n",
       "      <td>1</td>\n",
       "      <td>0</td>\n",
       "      <td>0</td>\n",
       "    </tr>\n",
       "    <tr>\n",
       "      <th>248</th>\n",
       "      <td>237.0</td>\n",
       "      <td>4.770685</td>\n",
       "      <td>6.708204</td>\n",
       "      <td>0</td>\n",
       "      <td>73</td>\n",
       "      <td>0</td>\n",
       "      <td>64.0</td>\n",
       "      <td>5.159055</td>\n",
       "      <td>162.0</td>\n",
       "      <td>75.0</td>\n",
       "      <td>300.0</td>\n",
       "      <td>1</td>\n",
       "      <td>0</td>\n",
       "      <td>0</td>\n",
       "    </tr>\n",
       "    <tr>\n",
       "      <th>337</th>\n",
       "      <td>261.0</td>\n",
       "      <td>4.615121</td>\n",
       "      <td>9.110434</td>\n",
       "      <td>1</td>\n",
       "      <td>52</td>\n",
       "      <td>0</td>\n",
       "      <td>64.0</td>\n",
       "      <td>5.288267</td>\n",
       "      <td>152.0</td>\n",
       "      <td>92.0</td>\n",
       "      <td>20.0</td>\n",
       "      <td>0</td>\n",
       "      <td>1</td>\n",
       "      <td>0</td>\n",
       "    </tr>\n",
       "    <tr>\n",
       "      <th>390</th>\n",
       "      <td>196.0</td>\n",
       "      <td>4.787492</td>\n",
       "      <td>8.185353</td>\n",
       "      <td>1</td>\n",
       "      <td>52</td>\n",
       "      <td>0</td>\n",
       "      <td>62.0</td>\n",
       "      <td>4.990433</td>\n",
       "      <td>144.0</td>\n",
       "      <td>94.0</td>\n",
       "      <td>480.0</td>\n",
       "      <td>0</td>\n",
       "      <td>1</td>\n",
       "      <td>0</td>\n",
       "    </tr>\n",
       "  </tbody>\n",
       "</table>\n",
       "<p>81 rows × 14 columns</p>\n",
       "</div>"
      ],
      "text/plain": [
       "      chol  stab.glu       hdl  location  age  gender  height    weight  \\\n",
       "70   171.0  4.521789  7.348469         0   40       1    71.0  5.365976   \n",
       "281  293.0  4.744932  7.348469         0   50       1    71.0  5.135798   \n",
       "283  198.0  4.521789  7.874008         1   60       1    70.0  5.093750   \n",
       "33   182.0  4.442651  6.082763         0   61       0    69.0  5.159055   \n",
       "42   225.0  4.418841  6.480741         0   36       1    67.0  5.257495   \n",
       "..     ...       ...       ...       ...  ...     ...     ...       ...   \n",
       "45   243.0  3.951244  7.681146         0   37       0    64.0  5.451038   \n",
       "90   159.0  4.477337  6.557439         1   38       1    68.0  5.129899   \n",
       "248  237.0  4.770685  6.708204         0   73       0    64.0  5.159055   \n",
       "337  261.0  4.615121  9.110434         1   52       0    64.0  5.288267   \n",
       "390  196.0  4.787492  8.185353         1   52       0    62.0  4.990433   \n",
       "\n",
       "     bp.1s  bp.1d  time.ppn  large  medium  small  \n",
       "70   138.0   94.0     240.0      0       1      0  \n",
       "281  131.0   75.0     120.0      0       1      0  \n",
       "283  126.0   78.0     795.0      0       1      0  \n",
       "33   176.0   86.0     330.0      0       1      0  \n",
       "42   149.0   89.0      30.0      1       0      0  \n",
       "..     ...    ...       ...    ...     ...    ...  \n",
       "45   110.0   82.0      90.0      0       1      0  \n",
       "90   138.0   79.0     690.0      1       0      0  \n",
       "248  162.0   75.0     300.0      1       0      0  \n",
       "337  152.0   92.0      20.0      0       1      0  \n",
       "390  144.0   94.0     480.0      0       1      0  \n",
       "\n",
       "[81 rows x 14 columns]"
      ]
     },
     "execution_count": 393,
     "metadata": {},
     "output_type": "execute_result"
    }
   ],
   "source": [
    "x_test"
   ]
  },
  {
   "cell_type": "markdown",
   "metadata": {},
   "source": [
    "# Checking Different Features (EDA)"
   ]
  },
  {
   "cell_type": "code",
   "execution_count": 608,
   "metadata": {},
   "outputs": [
    {
     "data": {
      "text/html": [
       "<div>\n",
       "<style scoped>\n",
       "    .dataframe tbody tr th:only-of-type {\n",
       "        vertical-align: middle;\n",
       "    }\n",
       "\n",
       "    .dataframe tbody tr th {\n",
       "        vertical-align: top;\n",
       "    }\n",
       "\n",
       "    .dataframe thead th {\n",
       "        text-align: right;\n",
       "    }\n",
       "</style>\n",
       "<table border=\"1\" class=\"dataframe\">\n",
       "  <thead>\n",
       "    <tr style=\"text-align: right;\">\n",
       "      <th></th>\n",
       "      <th>chol</th>\n",
       "      <th>stab.glu</th>\n",
       "      <th>hdl</th>\n",
       "      <th>ratio</th>\n",
       "      <th>location</th>\n",
       "      <th>age</th>\n",
       "      <th>gender</th>\n",
       "      <th>height</th>\n",
       "      <th>weight</th>\n",
       "      <th>frame</th>\n",
       "      <th>bp.1s</th>\n",
       "      <th>bp.1d</th>\n",
       "      <th>waist</th>\n",
       "      <th>hip</th>\n",
       "      <th>time.ppn</th>\n",
       "    </tr>\n",
       "  </thead>\n",
       "  <tbody>\n",
       "    <tr>\n",
       "      <th>353</th>\n",
       "      <td>206.0</td>\n",
       "      <td>4.418841</td>\n",
       "      <td>8.246211</td>\n",
       "      <td>1.098612</td>\n",
       "      <td>Louisa</td>\n",
       "      <td>52</td>\n",
       "      <td>male</td>\n",
       "      <td>69.0</td>\n",
       "      <td>5.030438</td>\n",
       "      <td>small</td>\n",
       "      <td>140.0</td>\n",
       "      <td>98.0</td>\n",
       "      <td>3.583519</td>\n",
       "      <td>40.0</td>\n",
       "      <td>195.0</td>\n",
       "    </tr>\n",
       "    <tr>\n",
       "      <th>233</th>\n",
       "      <td>196.0</td>\n",
       "      <td>4.744932</td>\n",
       "      <td>7.874008</td>\n",
       "      <td>1.163151</td>\n",
       "      <td>Louisa</td>\n",
       "      <td>50</td>\n",
       "      <td>male</td>\n",
       "      <td>67.0</td>\n",
       "      <td>4.941642</td>\n",
       "      <td>medium</td>\n",
       "      <td>176.0</td>\n",
       "      <td>110.0</td>\n",
       "      <td>3.555348</td>\n",
       "      <td>37.0</td>\n",
       "      <td>60.0</td>\n",
       "    </tr>\n",
       "    <tr>\n",
       "      <th>3</th>\n",
       "      <td>78.0</td>\n",
       "      <td>4.532599</td>\n",
       "      <td>3.464102</td>\n",
       "      <td>1.871802</td>\n",
       "      <td>Buckingham</td>\n",
       "      <td>67</td>\n",
       "      <td>male</td>\n",
       "      <td>67.0</td>\n",
       "      <td>4.779123</td>\n",
       "      <td>large</td>\n",
       "      <td>110.0</td>\n",
       "      <td>50.0</td>\n",
       "      <td>3.496508</td>\n",
       "      <td>38.0</td>\n",
       "      <td>480.0</td>\n",
       "    </tr>\n",
       "    <tr>\n",
       "      <th>18</th>\n",
       "      <td>194.0</td>\n",
       "      <td>4.394449</td>\n",
       "      <td>6.000000</td>\n",
       "      <td>1.686399</td>\n",
       "      <td>Louisa</td>\n",
       "      <td>36</td>\n",
       "      <td>male</td>\n",
       "      <td>64.0</td>\n",
       "      <td>4.836282</td>\n",
       "      <td>medium</td>\n",
       "      <td>110.0</td>\n",
       "      <td>76.0</td>\n",
       "      <td>3.401197</td>\n",
       "      <td>34.0</td>\n",
       "      <td>120.0</td>\n",
       "    </tr>\n",
       "    <tr>\n",
       "      <th>131</th>\n",
       "      <td>188.0</td>\n",
       "      <td>4.343805</td>\n",
       "      <td>6.708204</td>\n",
       "      <td>1.435084</td>\n",
       "      <td>Louisa</td>\n",
       "      <td>31</td>\n",
       "      <td>female</td>\n",
       "      <td>67.0</td>\n",
       "      <td>5.424950</td>\n",
       "      <td>medium</td>\n",
       "      <td>122.0</td>\n",
       "      <td>70.0</td>\n",
       "      <td>3.850148</td>\n",
       "      <td>53.0</td>\n",
       "      <td>140.0</td>\n",
       "    </tr>\n",
       "    <tr>\n",
       "      <th>...</th>\n",
       "      <td>...</td>\n",
       "      <td>...</td>\n",
       "      <td>...</td>\n",
       "      <td>...</td>\n",
       "      <td>...</td>\n",
       "      <td>...</td>\n",
       "      <td>...</td>\n",
       "      <td>...</td>\n",
       "      <td>...</td>\n",
       "      <td>...</td>\n",
       "      <td>...</td>\n",
       "      <td>...</td>\n",
       "      <td>...</td>\n",
       "      <td>...</td>\n",
       "      <td>...</td>\n",
       "    </tr>\n",
       "    <tr>\n",
       "      <th>71</th>\n",
       "      <td>164.0</td>\n",
       "      <td>4.454347</td>\n",
       "      <td>6.324555</td>\n",
       "      <td>1.410987</td>\n",
       "      <td>Buckingham</td>\n",
       "      <td>23</td>\n",
       "      <td>female</td>\n",
       "      <td>69.0</td>\n",
       "      <td>5.501258</td>\n",
       "      <td>large</td>\n",
       "      <td>126.0</td>\n",
       "      <td>75.0</td>\n",
       "      <td>3.784190</td>\n",
       "      <td>47.0</td>\n",
       "      <td>420.0</td>\n",
       "    </tr>\n",
       "    <tr>\n",
       "      <th>106</th>\n",
       "      <td>293.0</td>\n",
       "      <td>4.442651</td>\n",
       "      <td>9.695360</td>\n",
       "      <td>1.131402</td>\n",
       "      <td>Louisa</td>\n",
       "      <td>31</td>\n",
       "      <td>female</td>\n",
       "      <td>67.0</td>\n",
       "      <td>5.298317</td>\n",
       "      <td>medium</td>\n",
       "      <td>110.0</td>\n",
       "      <td>90.0</td>\n",
       "      <td>3.713572</td>\n",
       "      <td>42.0</td>\n",
       "      <td>240.0</td>\n",
       "    </tr>\n",
       "    <tr>\n",
       "      <th>270</th>\n",
       "      <td>147.0</td>\n",
       "      <td>4.454347</td>\n",
       "      <td>5.830952</td>\n",
       "      <td>1.458615</td>\n",
       "      <td>Buckingham</td>\n",
       "      <td>38</td>\n",
       "      <td>male</td>\n",
       "      <td>69.0</td>\n",
       "      <td>5.323010</td>\n",
       "      <td>small</td>\n",
       "      <td>130.0</td>\n",
       "      <td>96.0</td>\n",
       "      <td>3.663562</td>\n",
       "      <td>41.0</td>\n",
       "      <td>480.0</td>\n",
       "    </tr>\n",
       "    <tr>\n",
       "      <th>348</th>\n",
       "      <td>122.0</td>\n",
       "      <td>4.406719</td>\n",
       "      <td>6.557439</td>\n",
       "      <td>1.029619</td>\n",
       "      <td>Louisa</td>\n",
       "      <td>36</td>\n",
       "      <td>female</td>\n",
       "      <td>71.0</td>\n",
       "      <td>5.209486</td>\n",
       "      <td>medium</td>\n",
       "      <td>110.0</td>\n",
       "      <td>80.0</td>\n",
       "      <td>3.713572</td>\n",
       "      <td>45.0</td>\n",
       "      <td>90.0</td>\n",
       "    </tr>\n",
       "    <tr>\n",
       "      <th>102</th>\n",
       "      <td>199.0</td>\n",
       "      <td>4.867534</td>\n",
       "      <td>6.928203</td>\n",
       "      <td>1.410987</td>\n",
       "      <td>Louisa</td>\n",
       "      <td>37</td>\n",
       "      <td>female</td>\n",
       "      <td>61.0</td>\n",
       "      <td>5.313206</td>\n",
       "      <td>large</td>\n",
       "      <td>136.0</td>\n",
       "      <td>84.0</td>\n",
       "      <td>3.737670</td>\n",
       "      <td>51.0</td>\n",
       "      <td>10.0</td>\n",
       "    </tr>\n",
       "  </tbody>\n",
       "</table>\n",
       "<p>322 rows × 15 columns</p>\n",
       "</div>"
      ],
      "text/plain": [
       "      chol  stab.glu       hdl     ratio    location  age  gender  height  \\\n",
       "353  206.0  4.418841  8.246211  1.098612      Louisa   52    male    69.0   \n",
       "233  196.0  4.744932  7.874008  1.163151      Louisa   50    male    67.0   \n",
       "3     78.0  4.532599  3.464102  1.871802  Buckingham   67    male    67.0   \n",
       "18   194.0  4.394449  6.000000  1.686399      Louisa   36    male    64.0   \n",
       "131  188.0  4.343805  6.708204  1.435084      Louisa   31  female    67.0   \n",
       "..     ...       ...       ...       ...         ...  ...     ...     ...   \n",
       "71   164.0  4.454347  6.324555  1.410987  Buckingham   23  female    69.0   \n",
       "106  293.0  4.442651  9.695360  1.131402      Louisa   31  female    67.0   \n",
       "270  147.0  4.454347  5.830952  1.458615  Buckingham   38    male    69.0   \n",
       "348  122.0  4.406719  6.557439  1.029619      Louisa   36  female    71.0   \n",
       "102  199.0  4.867534  6.928203  1.410987      Louisa   37  female    61.0   \n",
       "\n",
       "       weight   frame  bp.1s  bp.1d     waist   hip  time.ppn  \n",
       "353  5.030438   small  140.0   98.0  3.583519  40.0     195.0  \n",
       "233  4.941642  medium  176.0  110.0  3.555348  37.0      60.0  \n",
       "3    4.779123   large  110.0   50.0  3.496508  38.0     480.0  \n",
       "18   4.836282  medium  110.0   76.0  3.401197  34.0     120.0  \n",
       "131  5.424950  medium  122.0   70.0  3.850148  53.0     140.0  \n",
       "..        ...     ...    ...    ...       ...   ...       ...  \n",
       "71   5.501258   large  126.0   75.0  3.784190  47.0     420.0  \n",
       "106  5.298317  medium  110.0   90.0  3.713572  42.0     240.0  \n",
       "270  5.323010   small  130.0   96.0  3.663562  41.0     480.0  \n",
       "348  5.209486  medium  110.0   80.0  3.713572  45.0      90.0  \n",
       "102  5.313206   large  136.0   84.0  3.737670  51.0      10.0  \n",
       "\n",
       "[322 rows x 15 columns]"
      ]
     },
     "execution_count": 608,
     "metadata": {},
     "output_type": "execute_result"
    }
   ],
   "source": [
    "x_train"
   ]
  },
  {
   "cell_type": "code",
   "execution_count": 609,
   "metadata": {},
   "outputs": [],
   "source": [
    "cat_cols = [\"location\",\"gender\",\"frame\"]"
   ]
  },
  {
   "cell_type": "code",
   "execution_count": 612,
   "metadata": {},
   "outputs": [],
   "source": [
    "num_cols = [\"chol\",\"stab.glu\",\"hdl\",\"ratio\",\"age\",\"height\",\"weight\",\"bp.1s\",\"bp.1d\",\"waist\",\"hip\",\"time.ppn\"]"
   ]
  },
  {
   "cell_type": "code",
   "execution_count": 618,
   "metadata": {},
   "outputs": [
    {
     "data": {
      "text/plain": [
       "6.782329983125268"
      ]
     },
     "execution_count": 618,
     "metadata": {},
     "output_type": "execute_result"
    }
   ],
   "source": [
    "x_train[\"hdl\"].median()"
   ]
  },
  {
   "cell_type": "code",
   "execution_count": 614,
   "metadata": {},
   "outputs": [
    {
     "data": {
      "image/png": "[encoded data removed]",
      "text/plain": [
       "<Figure size 576x1440 with 12 Axes>"
      ]
     },
     "metadata": {
      "needs_background": "light"
     },
     "output_type": "display_data"
    }
   ],
   "source": [
    "fig, axes = plt.subplots(12, 1, figsize=(8, 20))\n",
    "for i, c in enumerate(num_cols):\n",
    "  _ = x_train[[c]].boxplot(ax=axes[i], vert=False)"
   ]
  },
  {
   "cell_type": "code",
   "execution_count": 623,
   "metadata": {},
   "outputs": [],
   "source": [
    "train = x_train[num_cols]"
   ]
  },
  {
   "cell_type": "code",
   "execution_count": null,
   "metadata": {},
   "outputs": [],
   "source": [
    "cat_cols = [\"location\",\"gender\",\"frame\"]"
   ]
  },
  {
   "cell_type": "code",
   "execution_count": 631,
   "metadata": {},
   "outputs": [
    {
     "data": {
      "text/plain": [
       "['chol',\n",
       " 'stab.glu',\n",
       " 'hdl',\n",
       " 'ratio',\n",
       " 'age',\n",
       " 'height',\n",
       " 'weight',\n",
       " 'bp.1s',\n",
       " 'bp.1d',\n",
       " 'waist',\n",
       " 'hip',\n",
       " 'time.ppn']"
      ]
     },
     "execution_count": 631,
     "metadata": {},
     "output_type": "execute_result"
    }
   ],
   "source": [
    "num_cols"
   ]
  },
  {
   "cell_type": "code",
   "execution_count": 630,
   "metadata": {},
   "outputs": [
    {
     "data": {
      "text/plain": [
       "4.84000015"
      ]
     },
     "execution_count": 630,
     "metadata": {},
     "output_type": "execute_result"
    }
   ],
   "source": [
    "y_train.median()"
   ]
  },
  {
   "cell_type": "code",
   "execution_count": 63,
   "metadata": {},
   "outputs": [
    {
     "data": {
      "text/plain": [
       "array([ 195.,   60.,  480.,  120.,  140.,  210.,  300.,  240.,  180.,\n",
       "        330., 1200.,   30.,  960.,   90., 1020.,  540.,  225.,  570.,\n",
       "         10.,  360.,  720., 1440.,  390.,  150.,   20.,  315.,  900.,\n",
       "        270.,   45.,  780.,  450.,  420., 1560., 1260.,  285., 1320.,\n",
       "       1170.,   15.,  135.,  375.,  435.,  840.,  255.,  260.,   40.,\n",
       "        510.,  855.,  660.,    5.,  105.,   80., 1140.,  990.,  630.,\n",
       "       1080.])"
      ]
     },
     "execution_count": 63,
     "metadata": {},
     "output_type": "execute_result"
    }
   ],
   "source": [
    "x_train[\"time.ppn\"].unique()"
   ]
  },
  {
   "cell_type": "code",
   "execution_count": 74,
   "metadata": {},
   "outputs": [
    {
     "data": {
      "image/png": "[encoded data removed]",
      "text/plain": [
       "<Figure size 1440x720 with 1 Axes>"
      ]
     },
     "metadata": {
      "needs_background": "light"
     },
     "output_type": "display_data"
    }
   ],
   "source": [
    "plt.figure(figsize=(20,10))\n",
    "plt.scatter(y=y_train.values,x=x_train[\"stab.glu\"].values)\n",
    "plt.show()"
   ]
  },
  {
   "cell_type": "code",
   "execution_count": 75,
   "metadata": {},
   "outputs": [
    {
     "data": {
      "text/plain": [
       "<Figure size 1440x720 with 0 Axes>"
      ]
     },
     "metadata": {},
     "output_type": "display_data"
    },
    {
     "data": {
      "image/png": "[encoded data removed]",
      "text/plain": [
       "<Figure size 432x432 with 3 Axes>"
      ]
     },
     "metadata": {
      "needs_background": "light"
     },
     "output_type": "display_data"
    }
   ],
   "source": [
    "plt.figure(figsize=(20,10))\n",
    "sns.jointplot(x=x_train[\"stab.glu\"],y=y_train,kind=\"reg\")\n",
    "plt.show()"
   ]
  },
  {
   "cell_type": "code",
   "execution_count": null,
   "metadata": {},
   "outputs": [],
   "source": []
  },
  {
   "cell_type": "code",
   "execution_count": null,
   "metadata": {},
   "outputs": [],
   "source": []
  }
 ],
 "metadata": {
  "kernelspec": {
   "display_name": "Python 3",
   "language": "python",
   "name": "python3"
  },
  "language_info": {
   "codemirror_mode": {
    "name": "ipython",
    "version": 3
   },
   "file_extension": ".py",
   "mimetype": "text/x-python",
   "name": "python",
   "nbconvert_exporter": "python",
   "pygments_lexer": "ipython3",
   "version": "3.6.10"
  }
 },
 "nbformat": 4,
 "nbformat_minor": 4
}
